{
 "cells": [
  {
   "cell_type": "markdown",
   "metadata": {},
   "source": [
    "## 例題9.2"
   ]
  },
  {
   "cell_type": "markdown",
   "metadata": {},
   "source": [
    "警告を非表示に"
   ]
  },
  {
   "cell_type": "code",
   "execution_count": 1,
   "metadata": {},
   "outputs": [],
   "source": [
    "import warnings\n",
    "warnings.filterwarnings('ignore')"
   ]
  },
  {
   "cell_type": "markdown",
   "metadata": {},
   "source": [
    "パッケージの読み込み"
   ]
  },
  {
   "cell_type": "code",
   "execution_count": 2,
   "metadata": {},
   "outputs": [
    {
     "name": "stderr",
     "output_type": "stream",
     "text": [
      "Using TensorFlow backend.\n"
     ]
    }
   ],
   "source": [
    "from keras.datasets import mnist\n",
    "from keras.models import Sequential\n",
    "from keras.layers import Dense, Dropout, Activation\n",
    "from keras.optimizers import SGD, RMSprop\n",
    "from keras.utils import np_utils"
   ]
  },
  {
   "cell_type": "markdown",
   "metadata": {},
   "source": [
    "MNISTデータのロード"
   ]
  },
  {
   "cell_type": "code",
   "execution_count": 3,
   "metadata": {},
   "outputs": [],
   "source": [
    "(X_train, y_train), (X_test, y_test) = mnist.load_data()"
   ]
  },
  {
   "cell_type": "markdown",
   "metadata": {},
   "source": [
    "入力をフラットな配列に変換し、学習データは10,000個、テストデータは1000個だけ利用します。また、元データでは濃淡が0から255までで表現されており、最大値が大きすぎるので、特徴の値の最大値を1としておきます。"
   ]
  },
  {
   "cell_type": "code",
   "execution_count": 4,
   "metadata": {},
   "outputs": [],
   "source": [
    "# input image dimensions\n",
    "img_rows, img_cols = 28, 28\n",
    "\n",
    "X_train = X_train.reshape(X_train.shape[0], img_rows * img_cols)[0:10000]\n",
    "X_test = X_test.reshape(X_test.shape[0], img_rows * img_cols)[0:1000]\n",
    "\n",
    "X_train = X_train.astype('float32')\n",
    "X_test = X_test.astype('float32')\n",
    "X_train /= 255\n",
    "X_test /= 255"
   ]
  },
  {
   "cell_type": "markdown",
   "metadata": {},
   "source": [
    "出力をone-hotに変換します。"
   ]
  },
  {
   "cell_type": "code",
   "execution_count": 5,
   "metadata": {},
   "outputs": [],
   "source": [
    "tc = np_utils.to_categorical\n",
    "Y_train = tc(y_train)[0:10000]\n",
    "Y_test = tc(y_test)[0:1000]"
   ]
  },
  {
   "cell_type": "markdown",
   "metadata": {
    "collapsed": true
   },
   "source": [
    "## 多層パーセプトロン (MLP)"
   ]
  },
  {
   "cell_type": "markdown",
   "metadata": {},
   "source": [
    "まず、中間層1層のモデルを設定します。ユニット数は入力の次元数を考えて、適切に設定してください。活性化関数は、パラメータ[activation](https://keras.io/ja/activations/)で指定します。"
   ]
  },
  {
   "cell_type": "code",
   "execution_count": 6,
   "metadata": {},
   "outputs": [
    {
     "name": "stdout",
     "output_type": "stream",
     "text": [
      "_________________________________________________________________\n",
      "Layer (type)                 Output Shape              Param #   \n",
      "=================================================================\n",
      "dense_1 (Dense)              (None, 200)               157000    \n",
      "_________________________________________________________________\n",
      "dense_2 (Dense)              (None, 10)                2010      \n",
      "=================================================================\n",
      "Total params: 159,010\n",
      "Trainable params: 159,010\n",
      "Non-trainable params: 0\n",
      "_________________________________________________________________\n"
     ]
    }
   ],
   "source": [
    "input_shape = X_train[0].shape\n",
    "n_hidden = 200\n",
    "n_out = len(Y_train[0])  # 10\n",
    "\n",
    "model = Sequential()\n",
    "model.add(Dense(n_hidden, input_shape=input_shape, activation='sigmoid'))\n",
    "model.add(Dense(n_out, activation='softmax'))\n",
    "model.summary()"
   ]
  },
  {
   "cell_type": "markdown",
   "metadata": {},
   "source": [
    "損失関数 ([loss](https://keras.io/ja/losses/))、最適化アルゴリズム([optimizer](https://keras.io/ja/optimizers/))、評価基準([metrics](https://keras.io/ja/metrics/))を指定して、モデルをcompileします。"
   ]
  },
  {
   "cell_type": "code",
   "execution_count": 7,
   "metadata": {},
   "outputs": [],
   "source": [
    "model.compile(loss = 'categorical_crossentropy',\n",
    "              optimizer = RMSprop(),\n",
    "              metrics = ['accuracy'])"
   ]
  },
  {
   "cell_type": "markdown",
   "metadata": {},
   "source": [
    "[fit](https://keras.io/ja/models/sequential/#fit)メソッドで学習します。繰り返し回数はパラメータepocksで、バッチサイズはパラメータbatch\\_sizeで指定します。"
   ]
  },
  {
   "cell_type": "code",
   "execution_count": 8,
   "metadata": {},
   "outputs": [
    {
     "name": "stdout",
     "output_type": "stream",
     "text": [
      "Epoch 1/10\n",
      "10000/10000 [==============================] - 0s 31us/step - loss: 1.2378 - acc: 0.7441\n",
      "Epoch 2/10\n",
      "10000/10000 [==============================] - 0s 17us/step - loss: 0.5850 - acc: 0.8676\n",
      "Epoch 3/10\n",
      "10000/10000 [==============================] - 0s 18us/step - loss: 0.4186 - acc: 0.8962\n",
      "Epoch 4/10\n",
      "10000/10000 [==============================] - 0s 19us/step - loss: 0.3466 - acc: 0.9096\n",
      "Epoch 5/10\n",
      "10000/10000 [==============================] - 0s 20us/step - loss: 0.3068 - acc: 0.9164\n",
      "Epoch 6/10\n",
      "10000/10000 [==============================] - 0s 20us/step - loss: 0.2797 - acc: 0.9224\n",
      "Epoch 7/10\n",
      "10000/10000 [==============================] - 0s 19us/step - loss: 0.2585 - acc: 0.9278\n",
      "Epoch 8/10\n",
      "10000/10000 [==============================] - 0s 22us/step - loss: 0.2409 - acc: 0.9343\n",
      "Epoch 9/10\n",
      "10000/10000 [==============================] - 0s 20us/step - loss: 0.2263 - acc: 0.9369\n",
      "Epoch 10/10\n",
      "10000/10000 [==============================] - 0s 20us/step - loss: 0.2124 - acc: 0.9422\n"
     ]
    },
    {
     "data": {
      "text/plain": [
       "<keras.callbacks.History at 0x13c71a6a4e0>"
      ]
     },
     "execution_count": 8,
     "metadata": {},
     "output_type": "execute_result"
    }
   ],
   "source": [
    "model.fit(X_train, Y_train, epochs=10, batch_size=200)"
   ]
  },
  {
   "cell_type": "markdown",
   "metadata": {},
   "source": [
    "[evaluate](https://keras.io/ja/models/sequential/#evaluate)メソッドで評価します。"
   ]
  },
  {
   "cell_type": "code",
   "execution_count": 9,
   "metadata": {},
   "outputs": [
    {
     "name": "stdout",
     "output_type": "stream",
     "text": [
      "Test loss: 0.28587019205093384\n",
      "Test accuracy: 0.907\n"
     ]
    }
   ],
   "source": [
    "score = model.evaluate(X_test, Y_test, verbose=0)\n",
    "print('Test loss:', score[0])\n",
    "print('Test accuracy:', score[1])"
   ]
  },
  {
   "cell_type": "markdown",
   "metadata": {},
   "source": [
    "### 中間層の層数を増やす\n",
    "\n",
    "中間層の層数を増やしてみます。その際、活性化関数sigmoid, tanh, reluのそれぞれの違いを確認します。"
   ]
  },
  {
   "cell_type": "code",
   "execution_count": 10,
   "metadata": {},
   "outputs": [
    {
     "name": "stdout",
     "output_type": "stream",
     "text": [
      "_________________________________________________________________\n",
      "Layer (type)                 Output Shape              Param #   \n",
      "=================================================================\n",
      "dense_3 (Dense)              (None, 200)               157000    \n",
      "_________________________________________________________________\n",
      "dense_4 (Dense)              (None, 200)               40200     \n",
      "_________________________________________________________________\n",
      "dense_5 (Dense)              (None, 200)               40200     \n",
      "_________________________________________________________________\n",
      "dense_6 (Dense)              (None, 200)               40200     \n",
      "_________________________________________________________________\n",
      "dense_7 (Dense)              (None, 200)               40200     \n",
      "_________________________________________________________________\n",
      "dense_8 (Dense)              (None, 10)                2010      \n",
      "=================================================================\n",
      "Total params: 319,810\n",
      "Trainable params: 319,810\n",
      "Non-trainable params: 0\n",
      "_________________________________________________________________\n"
     ]
    }
   ],
   "source": [
    "model = Sequential()\n",
    "af = 'sigmoid'\n",
    "model.add(Dense(n_hidden, input_shape=input_shape, activation=af))\n",
    "model.add(Dense(n_hidden, activation=af))\n",
    "model.add(Dense(n_hidden, activation=af))\n",
    "model.add(Dense(n_hidden, activation=af))\n",
    "model.add(Dense(n_hidden, activation=af))\n",
    "model.add(Dense(n_out, activation='softmax'))\n",
    "model.summary()"
   ]
  },
  {
   "cell_type": "code",
   "execution_count": 11,
   "metadata": {},
   "outputs": [
    {
     "name": "stdout",
     "output_type": "stream",
     "text": [
      "Epoch 1/10\n",
      "10000/10000 [==============================] - 0s 49us/step - loss: 2.3152 - acc: 0.1036\n",
      "Epoch 2/10\n",
      "10000/10000 [==============================] - 0s 35us/step - loss: 2.3101 - acc: 0.1029\n",
      "Epoch 3/10\n",
      "10000/10000 [==============================] - 0s 33us/step - loss: 2.3105 - acc: 0.1082\n",
      "Epoch 4/10\n",
      "10000/10000 [==============================] - 0s 31us/step - loss: 2.3084 - acc: 0.1069\n",
      "Epoch 5/10\n",
      "10000/10000 [==============================] - 0s 29us/step - loss: 2.3112 - acc: 0.1015\n",
      "Epoch 6/10\n",
      "10000/10000 [==============================] - 0s 30us/step - loss: 2.3109 - acc: 0.0978\n",
      "Epoch 7/10\n",
      "10000/10000 [==============================] - 0s 32us/step - loss: 2.3098 - acc: 0.1022\n",
      "Epoch 8/10\n",
      "10000/10000 [==============================] - 0s 30us/step - loss: 2.3101 - acc: 0.1007\n",
      "Epoch 9/10\n",
      "10000/10000 [==============================] - 0s 32us/step - loss: 2.3097 - acc: 0.1089\n",
      "Epoch 10/10\n",
      "10000/10000 [==============================] - 0s 29us/step - loss: 2.3100 - acc: 0.1016\n",
      "Test loss: 2.306636610031128\n",
      "Test accuracy: 0.11\n"
     ]
    }
   ],
   "source": [
    "model.compile(loss = 'categorical_crossentropy',\n",
    "              optimizer = SGD(lr=0.1),\n",
    "              metrics = ['accuracy'])\n",
    "model.fit(X_train, Y_train, epochs=10, batch_size=200)\n",
    "score = model.evaluate(X_test, Y_test, verbose=0)\n",
    "print('Test loss:', score[0])\n",
    "print('Test accuracy:', score[1])"
   ]
  },
  {
   "cell_type": "code",
   "execution_count": 12,
   "metadata": {},
   "outputs": [],
   "source": [
    "model = Sequential()\n",
    "af = 'tanh'\n",
    "model.add(Dense(n_hidden, input_shape=input_shape, activation=af))\n",
    "model.add(Dense(n_hidden, activation=af))\n",
    "model.add(Dense(n_hidden, activation=af))\n",
    "model.add(Dense(n_hidden, activation=af))\n",
    "model.add(Dense(n_hidden, activation=af))\n",
    "model.add(Dense(n_out, activation='softmax'))"
   ]
  },
  {
   "cell_type": "code",
   "execution_count": 13,
   "metadata": {},
   "outputs": [
    {
     "name": "stdout",
     "output_type": "stream",
     "text": [
      "Epoch 1/10\n",
      "10000/10000 [==============================] - 1s 52us/step - loss: 0.6614 - acc: 0.7890\n",
      "Epoch 2/10\n",
      "10000/10000 [==============================] - 0s 29us/step - loss: 0.3500 - acc: 0.8932\n",
      "Epoch 3/10\n",
      "10000/10000 [==============================] - 0s 30us/step - loss: 0.2736 - acc: 0.9155\n",
      "Epoch 4/10\n",
      "10000/10000 [==============================] - 0s 30us/step - loss: 0.2205 - acc: 0.9313\n",
      "Epoch 5/10\n",
      "10000/10000 [==============================] - 0s 30us/step - loss: 0.1852 - acc: 0.9418\n",
      "Epoch 6/10\n",
      "10000/10000 [==============================] - 0s 29us/step - loss: 0.1492 - acc: 0.9547\n",
      "Epoch 7/10\n",
      "10000/10000 [==============================] - 0s 29us/step - loss: 0.1211 - acc: 0.9624\n",
      "Epoch 8/10\n",
      "10000/10000 [==============================] - 0s 30us/step - loss: 0.1037 - acc: 0.9685\n",
      "Epoch 9/10\n",
      "10000/10000 [==============================] - 0s 30us/step - loss: 0.0900 - acc: 0.9713\n",
      "Epoch 10/10\n",
      "10000/10000 [==============================] - 0s 31us/step - loss: 0.0716 - acc: 0.9788\n",
      "Test loss: 0.22156440684199333\n",
      "Test accuracy: 0.925\n"
     ]
    }
   ],
   "source": [
    "model.compile(loss = 'categorical_crossentropy',\n",
    "              optimizer = RMSprop(),\n",
    "              metrics = ['accuracy'])\n",
    "model.fit(X_train, Y_train, epochs=10, batch_size=200)\n",
    "score = model.evaluate(X_test, Y_test, verbose=0)\n",
    "print('Test loss:', score[0])\n",
    "print('Test accuracy:', score[1])"
   ]
  },
  {
   "cell_type": "code",
   "execution_count": 14,
   "metadata": {},
   "outputs": [],
   "source": [
    "model = Sequential()\n",
    "af = 'relu'\n",
    "model.add(Dense(n_hidden, input_shape=input_shape, activation=af))\n",
    "model.add(Dense(n_hidden, activation=af))\n",
    "model.add(Dense(n_hidden, activation=af))\n",
    "model.add(Dense(n_hidden, activation=af))\n",
    "model.add(Dense(n_hidden, activation=af))\n",
    "model.add(Dense(n_out, activation='softmax'))"
   ]
  },
  {
   "cell_type": "code",
   "execution_count": 15,
   "metadata": {},
   "outputs": [
    {
     "name": "stdout",
     "output_type": "stream",
     "text": [
      "Epoch 1/10\n",
      "10000/10000 [==============================] - 1s 54us/step - loss: 0.8236 - acc: 0.7225\n",
      "Epoch 2/10\n",
      "10000/10000 [==============================] - 0s 33us/step - loss: 0.3149 - acc: 0.9009\n",
      "Epoch 3/10\n",
      "10000/10000 [==============================] - 0s 29us/step - loss: 0.2140 - acc: 0.9357\n",
      "Epoch 4/10\n",
      "10000/10000 [==============================] - 0s 33us/step - loss: 0.1634 - acc: 0.9513\n",
      "Epoch 5/10\n",
      "10000/10000 [==============================] - 0s 30us/step - loss: 0.1264 - acc: 0.9623\n",
      "Epoch 6/10\n",
      "10000/10000 [==============================] - 0s 32us/step - loss: 0.0901 - acc: 0.9724\n",
      "Epoch 7/10\n",
      "10000/10000 [==============================] - 0s 31us/step - loss: 0.0708 - acc: 0.9772\n",
      "Epoch 8/10\n",
      "10000/10000 [==============================] - 0s 31us/step - loss: 0.0601 - acc: 0.9826\n",
      "Epoch 9/10\n",
      "10000/10000 [==============================] - 0s 34us/step - loss: 0.0409 - acc: 0.9872\n",
      "Epoch 10/10\n",
      "10000/10000 [==============================] - 0s 33us/step - loss: 0.0325 - acc: 0.9903\n",
      "Test loss: 0.21830617256090046\n",
      "Test accuracy: 0.953\n"
     ]
    }
   ],
   "source": [
    "model.compile(loss = 'categorical_crossentropy',\n",
    "              optimizer = RMSprop(),\n",
    "              metrics = ['accuracy'])\n",
    "model.fit(X_train, Y_train, epochs=10, batch_size=200)\n",
    "score = model.evaluate(X_test, Y_test, verbose=0)\n",
    "print('Test loss:', score[0])\n",
    "print('Test accuracy:', score[1])"
   ]
  },
  {
   "cell_type": "markdown",
   "metadata": {},
   "source": [
    "dropoutを入れてみます。学習データとテストデータの正解率の差に注目してください。"
   ]
  },
  {
   "cell_type": "code",
   "execution_count": 16,
   "metadata": {},
   "outputs": [
    {
     "name": "stdout",
     "output_type": "stream",
     "text": [
      "_________________________________________________________________\n",
      "Layer (type)                 Output Shape              Param #   \n",
      "=================================================================\n",
      "dense_21 (Dense)             (None, 200)               157000    \n",
      "_________________________________________________________________\n",
      "dropout_1 (Dropout)          (None, 200)               0         \n",
      "_________________________________________________________________\n",
      "dense_22 (Dense)             (None, 200)               40200     \n",
      "_________________________________________________________________\n",
      "dropout_2 (Dropout)          (None, 200)               0         \n",
      "_________________________________________________________________\n",
      "dense_23 (Dense)             (None, 200)               40200     \n",
      "_________________________________________________________________\n",
      "dropout_3 (Dropout)          (None, 200)               0         \n",
      "_________________________________________________________________\n",
      "dense_24 (Dense)             (None, 200)               40200     \n",
      "_________________________________________________________________\n",
      "dropout_4 (Dropout)          (None, 200)               0         \n",
      "_________________________________________________________________\n",
      "dense_25 (Dense)             (None, 200)               40200     \n",
      "_________________________________________________________________\n",
      "dropout_5 (Dropout)          (None, 200)               0         \n",
      "_________________________________________________________________\n",
      "dense_26 (Dense)             (None, 10)                2010      \n",
      "=================================================================\n",
      "Total params: 319,810\n",
      "Trainable params: 319,810\n",
      "Non-trainable params: 0\n",
      "_________________________________________________________________\n"
     ]
    }
   ],
   "source": [
    "model = Sequential()\n",
    "af = 'relu'\n",
    "model.add(Dense(n_hidden, input_shape=input_shape, activation=af))\n",
    "model.add(Dropout(0.5))\n",
    "model.add(Dense(n_hidden, activation=af))\n",
    "model.add(Dropout(0.5))\n",
    "model.add(Dense(n_hidden, activation=af))\n",
    "model.add(Dropout(0.5))\n",
    "model.add(Dense(n_hidden, activation=af))\n",
    "model.add(Dropout(0.5))\n",
    "model.add(Dense(n_hidden, activation=af))\n",
    "model.add(Dropout(0.5))\n",
    "model.add(Dense(n_out, activation='softmax'))\n",
    "model.summary()"
   ]
  },
  {
   "cell_type": "code",
   "execution_count": 17,
   "metadata": {},
   "outputs": [
    {
     "name": "stdout",
     "output_type": "stream",
     "text": [
      "Epoch 1/20\n",
      "10000/10000 [==============================] - 1s 69us/step - loss: 2.3205 - acc: 0.1202\n",
      "Epoch 2/20\n",
      "10000/10000 [==============================] - 0s 40us/step - loss: 2.2196 - acc: 0.1794\n",
      "Epoch 3/20\n",
      "10000/10000 [==============================] - 0s 38us/step - loss: 2.0631 - acc: 0.2763\n",
      "Epoch 4/20\n",
      "10000/10000 [==============================] - 0s 41us/step - loss: 1.8594 - acc: 0.3693\n",
      "Epoch 5/20\n",
      "10000/10000 [==============================] - 0s 41us/step - loss: 1.5449 - acc: 0.4780\n",
      "Epoch 6/20\n",
      "10000/10000 [==============================] - 0s 40us/step - loss: 1.2846 - acc: 0.5561\n",
      "Epoch 7/20\n",
      "10000/10000 [==============================] - 0s 40us/step - loss: 1.1041 - acc: 0.6178\n",
      "Epoch 8/20\n",
      "10000/10000 [==============================] - 0s 40us/step - loss: 0.9730 - acc: 0.6629\n",
      "Epoch 9/20\n",
      "10000/10000 [==============================] - 0s 38us/step - loss: 0.8850 - acc: 0.6985\n",
      "Epoch 10/20\n",
      "10000/10000 [==============================] - 0s 40us/step - loss: 0.8043 - acc: 0.7284\n",
      "Epoch 11/20\n",
      "10000/10000 [==============================] - 0s 39us/step - loss: 0.7432 - acc: 0.7563\n",
      "Epoch 12/20\n",
      "10000/10000 [==============================] - 0s 42us/step - loss: 0.7153 - acc: 0.7745\n",
      "Epoch 13/20\n",
      "10000/10000 [==============================] - 0s 41us/step - loss: 0.6566 - acc: 0.7940\n",
      "Epoch 14/20\n",
      "10000/10000 [==============================] - 0s 41us/step - loss: 0.6142 - acc: 0.8098\n",
      "Epoch 15/20\n",
      "10000/10000 [==============================] - 0s 40us/step - loss: 0.5852 - acc: 0.8255\n",
      "Epoch 16/20\n",
      "10000/10000 [==============================] - 0s 39us/step - loss: 0.5570 - acc: 0.8312\n",
      "Epoch 17/20\n",
      "10000/10000 [==============================] - 0s 39us/step - loss: 0.5123 - acc: 0.8426\n",
      "Epoch 18/20\n",
      "10000/10000 [==============================] - 0s 40us/step - loss: 0.4995 - acc: 0.8524\n",
      "Epoch 19/20\n",
      "10000/10000 [==============================] - 0s 41us/step - loss: 0.4858 - acc: 0.8569\n",
      "Epoch 20/20\n",
      "10000/10000 [==============================] - 0s 40us/step - loss: 0.4497 - acc: 0.8691\n",
      "Test loss: 0.34447116422653196\n",
      "Test accuracy: 0.903\n"
     ]
    }
   ],
   "source": [
    "model.compile(loss = 'categorical_crossentropy',\n",
    "              optimizer = SGD(lr=0.1),\n",
    "              metrics = ['accuracy'])\n",
    "model.fit(X_train, Y_train, epochs=20, batch_size=200)\n",
    "score = model.evaluate(X_test, Y_test, verbose=0)\n",
    "print('Test loss:', score[0])\n",
    "print('Test accuracy:', score[1])"
   ]
  }
 ],
 "metadata": {
  "kernelspec": {
   "display_name": "Python 3",
   "language": "python",
   "name": "python3"
  },
  "language_info": {
   "codemirror_mode": {
    "name": "ipython",
    "version": 3
   },
   "file_extension": ".py",
   "mimetype": "text/x-python",
   "name": "python",
   "nbconvert_exporter": "python",
   "pygments_lexer": "ipython3",
   "version": "3.6.4"
  }
 },
 "nbformat": 4,
 "nbformat_minor": 2
}
