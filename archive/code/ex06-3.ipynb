{
 "cells": [
  {
   "cell_type": "markdown",
   "metadata": {},
   "source": [
    "# 演習6-3\n",
    "\n",
    "scikit-learnで線形回帰および正則化の方法を学びます。"
   ]
  },
  {
   "cell_type": "markdown",
   "metadata": {},
   "source": [
    "## 準備\n",
    "\n",
    "必要なライブラリを読み込みます。"
   ]
  },
  {
   "cell_type": "code",
   "execution_count": 1,
   "metadata": {},
   "outputs": [],
   "source": [
    "import numpy as np\n",
    "from sklearn.datasets import load_boston\n",
    "from sklearn.linear_model import LinearRegression, Ridge, Lasso\n",
    "from sklearn.model_selection import ShuffleSplit\n",
    "from sklearn.model_selection import LeaveOneOut\n",
    "from sklearn.model_selection import cross_val_score"
   ]
  },
  {
   "cell_type": "markdown",
   "metadata": {},
   "source": [
    "## データの読み込み\n",
    "\n",
    "bostonデータは犯罪発生率、部屋数、立地などと不動産価格の関係を示したものです。dataをX、targetをyに格納した後、DESCR属性を表示します。"
   ]
  },
  {
   "cell_type": "code",
   "execution_count": 2,
   "metadata": {},
   "outputs": [
    {
     "name": "stdout",
     "output_type": "stream",
     "text": [
      "Boston House Prices dataset\n",
      "===========================\n",
      "\n",
      "Notes\n",
      "------\n",
      "Data Set Characteristics:  \n",
      "\n",
      "    :Number of Instances: 506 \n",
      "\n",
      "    :Number of Attributes: 13 numeric/categorical predictive\n",
      "    \n",
      "    :Median Value (attribute 14) is usually the target\n",
      "\n",
      "    :Attribute Information (in order):\n",
      "        - CRIM     per capita crime rate by town\n",
      "        - ZN       proportion of residential land zoned for lots over 25,000 sq.ft.\n",
      "        - INDUS    proportion of non-retail business acres per town\n",
      "        - CHAS     Charles River dummy variable (= 1 if tract bounds river; 0 otherwise)\n",
      "        - NOX      nitric oxides concentration (parts per 10 million)\n",
      "        - RM       average number of rooms per dwelling\n",
      "        - AGE      proportion of owner-occupied units built prior to 1940\n",
      "        - DIS      weighted distances to five Boston employment centres\n",
      "        - RAD      index of accessibility to radial highways\n",
      "        - TAX      full-value property-tax rate per $10,000\n",
      "        - PTRATIO  pupil-teacher ratio by town\n",
      "        - B        1000(Bk - 0.63)^2 where Bk is the proportion of blacks by town\n",
      "        - LSTAT    % lower status of the population\n",
      "        - MEDV     Median value of owner-occupied homes in $1000's\n",
      "\n",
      "    :Missing Attribute Values: None\n",
      "\n",
      "    :Creator: Harrison, D. and Rubinfeld, D.L.\n",
      "\n",
      "This is a copy of UCI ML housing dataset.\n",
      "http://archive.ics.uci.edu/ml/datasets/Housing\n",
      "\n",
      "\n",
      "This dataset was taken from the StatLib library which is maintained at Carnegie Mellon University.\n",
      "\n",
      "The Boston house-price data of Harrison, D. and Rubinfeld, D.L. 'Hedonic\n",
      "prices and the demand for clean air', J. Environ. Economics & Management,\n",
      "vol.5, 81-102, 1978.   Used in Belsley, Kuh & Welsch, 'Regression diagnostics\n",
      "...', Wiley, 1980.   N.B. Various transformations are used in the table on\n",
      "pages 244-261 of the latter.\n",
      "\n",
      "The Boston house-price data has been used in many machine learning papers that address regression\n",
      "problems.   \n",
      "     \n",
      "**References**\n",
      "\n",
      "   - Belsley, Kuh & Welsch, 'Regression diagnostics: Identifying Influential Data and Sources of Collinearity', Wiley, 1980. 244-261.\n",
      "   - Quinlan,R. (1993). Combining Instance-Based and Model-Based Learning. In Proceedings on the Tenth International Conference of Machine Learning, 236-243, University of Massachusetts, Amherst. Morgan Kaufmann.\n",
      "   - many more! (see http://archive.ics.uci.edu/ml/datasets/Housing)\n",
      "\n"
     ]
    }
   ],
   "source": [
    "boston = load_boston()\n",
    "X = boston.data\n",
    "y = boston.target\n",
    "print(boston.DESCR)"
   ]
  },
  {
   "cell_type": "markdown",
   "metadata": {},
   "source": [
    "np.set_printoptions(suppress=True)  として、ndarrayのデータを表示させたときに指数表示を行わないようにしてから、学習データXの冒頭10件ほどの内容を確認します。"
   ]
  },
  {
   "cell_type": "code",
   "execution_count": 3,
   "metadata": {},
   "outputs": [
    {
     "data": {
      "text/plain": [
       "array([[  0.00632,  18.     ,   2.31   ,   0.     ,   0.538  ,   6.575  ,\n",
       "         65.2    ,   4.09   ,   1.     , 296.     ,  15.3    , 396.9    ,\n",
       "          4.98   ],\n",
       "       [  0.02731,   0.     ,   7.07   ,   0.     ,   0.469  ,   6.421  ,\n",
       "         78.9    ,   4.9671 ,   2.     , 242.     ,  17.8    , 396.9    ,\n",
       "          9.14   ],\n",
       "       [  0.02729,   0.     ,   7.07   ,   0.     ,   0.469  ,   7.185  ,\n",
       "         61.1    ,   4.9671 ,   2.     , 242.     ,  17.8    , 392.83   ,\n",
       "          4.03   ],\n",
       "       [  0.03237,   0.     ,   2.18   ,   0.     ,   0.458  ,   6.998  ,\n",
       "         45.8    ,   6.0622 ,   3.     , 222.     ,  18.7    , 394.63   ,\n",
       "          2.94   ],\n",
       "       [  0.06905,   0.     ,   2.18   ,   0.     ,   0.458  ,   7.147  ,\n",
       "         54.2    ,   6.0622 ,   3.     , 222.     ,  18.7    , 396.9    ,\n",
       "          5.33   ],\n",
       "       [  0.02985,   0.     ,   2.18   ,   0.     ,   0.458  ,   6.43   ,\n",
       "         58.7    ,   6.0622 ,   3.     , 222.     ,  18.7    , 394.12   ,\n",
       "          5.21   ],\n",
       "       [  0.08829,  12.5    ,   7.87   ,   0.     ,   0.524  ,   6.012  ,\n",
       "         66.6    ,   5.5605 ,   5.     , 311.     ,  15.2    , 395.6    ,\n",
       "         12.43   ],\n",
       "       [  0.14455,  12.5    ,   7.87   ,   0.     ,   0.524  ,   6.172  ,\n",
       "         96.1    ,   5.9505 ,   5.     , 311.     ,  15.2    , 396.9    ,\n",
       "         19.15   ],\n",
       "       [  0.21124,  12.5    ,   7.87   ,   0.     ,   0.524  ,   5.631  ,\n",
       "        100.     ,   6.0821 ,   5.     , 311.     ,  15.2    , 386.63   ,\n",
       "         29.93   ],\n",
       "       [  0.17004,  12.5    ,   7.87   ,   0.     ,   0.524  ,   6.004  ,\n",
       "         85.9    ,   6.5921 ,   5.     , 311.     ,  15.2    , 386.71   ,\n",
       "         17.1    ]])"
      ]
     },
     "execution_count": 3,
     "metadata": {},
     "output_type": "execute_result"
    }
   ],
   "source": [
    "np.set_printoptions(suppress=True)  \n",
    "X[0:10]"
   ]
  },
  {
   "cell_type": "markdown",
   "metadata": {},
   "source": [
    "組み込みデータセットの特徴名はfeature_name属性の値として文字列配列の形式で得られます。回帰式の解釈に必要になるので確認しておきます。"
   ]
  },
  {
   "cell_type": "code",
   "execution_count": 4,
   "metadata": {},
   "outputs": [
    {
     "data": {
      "text/plain": [
       "array(['CRIM', 'ZN', 'INDUS', 'CHAS', 'NOX', 'RM', 'AGE', 'DIS', 'RAD',\n",
       "       'TAX', 'PTRATIO', 'B', 'LSTAT'], dtype='<U7')"
      ]
     },
     "execution_count": 4,
     "metadata": {},
     "output_type": "execute_result"
    }
   ],
   "source": [
    "boston.feature_names"
   ]
  },
  {
   "cell_type": "markdown",
   "metadata": {},
   "source": [
    "### 線形回帰\n",
    "\n",
    "[LinearRegression](http://scikit-learn.org/stable/modules/generated/sklearn.linear_model.LinearRegression.html)で線形回帰関数の学習を行います。"
   ]
  },
  {
   "cell_type": "code",
   "execution_count": 5,
   "metadata": {},
   "outputs": [
    {
     "data": {
      "text/plain": [
       "LinearRegression(copy_X=True, fit_intercept=True, n_jobs=1, normalize=False)"
      ]
     },
     "execution_count": 5,
     "metadata": {},
     "output_type": "execute_result"
    }
   ],
   "source": [
    "lr = LinearRegression()\n",
    "lr.fit(X, y)"
   ]
  },
  {
   "cell_type": "markdown",
   "metadata": {},
   "source": [
    "係数と係数の二乗和を表示します。"
   ]
  },
  {
   "cell_type": "code",
   "execution_count": 6,
   "metadata": {},
   "outputs": [
    {
     "name": "stdout",
     "output_type": "stream",
     "text": [
      "CRIM   :  -0.11\n",
      "ZN     :   0.05\n",
      "INDUS  :   0.02\n",
      "CHAS   :   2.69\n",
      "NOX    : -17.80\n",
      "RM     :   3.80\n",
      "AGE    :   0.00\n",
      "DIS    :  -1.48\n",
      "RAD    :   0.31\n",
      "TAX    :  -0.01\n",
      "PTRATIO:  -0.95\n",
      "B      :   0.01\n",
      "LSTAT  :  -0.53\n"
     ]
    }
   ],
   "source": [
    "for f, w in zip(boston.feature_names, lr.coef_) :\n",
    "    print(\"{0:7s}: {1:6.2f}\". format(f, w))"
   ]
  },
  {
   "cell_type": "code",
   "execution_count": 7,
   "metadata": {},
   "outputs": [
    {
     "data": {
      "text/plain": [
       "341.86434092843945"
      ]
     },
     "execution_count": 7,
     "metadata": {},
     "output_type": "execute_result"
    }
   ],
   "source": [
    "sum(lr.coef_**2) #係数の二乗和"
   ]
  },
  {
   "cell_type": "markdown",
   "metadata": {
    "collapsed": true
   },
   "source": [
    "### 評価\n",
    "\n",
    "交差確認による[決定係数](http://mathtrain.jp/ketteikeisu)を用いた評価を行います。cross_val_scoreメソッドのscoring引数で決定係数を指定します。scoring引数の可能な値は[こちら](http://scikit-learn.org/stable/modules/model_evaluation.html)。また、交差確認における分割をランダムにするため、[ShuffleSplit](http://scikit-learn.org/stable/modules/generated/sklearn.model_selection.ShuffleSplit.html)を使います。\n",
    "\n",
    "何度かセルを実行してみると、評価値が大きく変動することがわかります。"
   ]
  },
  {
   "cell_type": "code",
   "execution_count": 8,
   "metadata": {},
   "outputs": [
    {
     "name": "stdout",
     "output_type": "stream",
     "text": [
      "0.74 +/- 0.07 \n"
     ]
    }
   ],
   "source": [
    "cv = ShuffleSplit(n_splits=10)\n",
    "scores = cross_val_score(lr, X, y, cv=cv, scoring='r2')\n",
    "print(\"{0:4.2f} +/- {1:4.2f} \".format(scores.mean(), scores.std()))"
   ]
  },
  {
   "cell_type": "markdown",
   "metadata": {},
   "source": [
    "ひとつ抜き方による二乗誤差を用いた評価を行います。ランダム性はないので、分散を求める必要はありません。"
   ]
  },
  {
   "cell_type": "code",
   "execution_count": 9,
   "metadata": {},
   "outputs": [
    {
     "name": "stdout",
     "output_type": "stream",
     "text": [
      "-23.73\n"
     ]
    }
   ],
   "source": [
    "cv2 = LeaveOneOut()\n",
    "scores = cross_val_score(lr, X, y, cv=cv2, scoring='neg_mean_squared_error')\n",
    "print(\"{0:4.2f}\".format(scores.mean()))"
   ]
  },
  {
   "cell_type": "markdown",
   "metadata": {},
   "source": [
    "### [Ridge回帰(L2)](http://scikit-learn.org/stable/modules/generated/sklearn.linear_model.Ridge.html)\n",
    "\n",
    "Ridgeのパラメータalphaの値でL2正則化項の重みを調整することで、汎化性能が上がる可能性があります。"
   ]
  },
  {
   "cell_type": "code",
   "execution_count": 10,
   "metadata": {},
   "outputs": [
    {
     "data": {
      "text/plain": [
       "Ridge(alpha=1.0, copy_X=True, fit_intercept=True, max_iter=None,\n",
       "   normalize=False, random_state=None, solver='auto', tol=0.001)"
      ]
     },
     "execution_count": 10,
     "metadata": {},
     "output_type": "execute_result"
    }
   ],
   "source": [
    "lr2 = Ridge()\n",
    "lr2.fit(X, y)"
   ]
  },
  {
   "cell_type": "markdown",
   "metadata": {},
   "source": [
    "係数と係数の二乗和を表示します。"
   ]
  },
  {
   "cell_type": "code",
   "execution_count": 11,
   "metadata": {},
   "outputs": [
    {
     "name": "stdout",
     "output_type": "stream",
     "text": [
      "CRIM   :  -0.10\n",
      "ZN     :   0.05\n",
      "INDUS  :  -0.01\n",
      "CHAS   :   2.55\n",
      "NOX    : -10.79\n",
      "RM     :   3.85\n",
      "AGE    :  -0.01\n",
      "DIS    :  -1.37\n",
      "RAD    :   0.29\n",
      "TAX    :  -0.01\n",
      "PTRATIO:  -0.88\n",
      "B      :   0.01\n",
      "LSTAT  :  -0.53\n"
     ]
    }
   ],
   "source": [
    "for f, w in zip(boston.feature_names, lr2.coef_) :\n",
    "    print(\"{0:7s}: {1:6.2f}\". format(f, w))"
   ]
  },
  {
   "cell_type": "code",
   "execution_count": 12,
   "metadata": {},
   "outputs": [
    {
     "data": {
      "text/plain": [
       "140.87399797069563"
      ]
     },
     "execution_count": 12,
     "metadata": {},
     "output_type": "execute_result"
    }
   ],
   "source": [
    "sum(lr2.coef_**2)"
   ]
  },
  {
   "cell_type": "markdown",
   "metadata": {},
   "source": [
    "交差確認による決定係数を用いた評価"
   ]
  },
  {
   "cell_type": "code",
   "execution_count": 13,
   "metadata": {},
   "outputs": [
    {
     "name": "stdout",
     "output_type": "stream",
     "text": [
      "0.72 +/- 0.06 \n"
     ]
    }
   ],
   "source": [
    "cv = ShuffleSplit(n_splits=10)\n",
    "scores = cross_val_score(lr2, X, y, cv=cv, scoring='r2')\n",
    "print(\"{0:4.2f} +/- {1:4.2f} \".format(scores.mean(), scores.std()))"
   ]
  },
  {
   "cell_type": "markdown",
   "metadata": {},
   "source": [
    "ひとつ抜き方による二乗誤差を用いた評価"
   ]
  },
  {
   "cell_type": "code",
   "execution_count": 14,
   "metadata": {},
   "outputs": [
    {
     "name": "stdout",
     "output_type": "stream",
     "text": [
      "-23.87\n"
     ]
    }
   ],
   "source": [
    "cv2 = LeaveOneOut()\n",
    "scores = cross_val_score(lr2, X, y, cv=cv2, scoring='neg_mean_squared_error')\n",
    "print(\"{0:4.2f}\".format(scores.mean()))"
   ]
  },
  {
   "cell_type": "markdown",
   "metadata": {},
   "source": [
    "### [Lasso回帰(L1)](http://scikit-learn.org/stable/modules/generated/sklearn.linear_model.Lasso.html)\n",
    "\n",
    "Lassoのパラメータalphaの値を大きくすれば、L1正則化項の重みが大きくなり、重みが0となる次元が増えます。"
   ]
  },
  {
   "cell_type": "code",
   "execution_count": 15,
   "metadata": {},
   "outputs": [
    {
     "data": {
      "text/plain": [
       "Lasso(alpha=1.0, copy_X=True, fit_intercept=True, max_iter=1000,\n",
       "   normalize=False, positive=False, precompute=False, random_state=None,\n",
       "   selection='cyclic', tol=0.0001, warm_start=False)"
      ]
     },
     "execution_count": 15,
     "metadata": {},
     "output_type": "execute_result"
    }
   ],
   "source": [
    "lr3 = Lasso()\n",
    "lr3.fit(X, y)"
   ]
  },
  {
   "cell_type": "markdown",
   "metadata": {},
   "source": [
    "係数と係数の二乗和を表示します。"
   ]
  },
  {
   "cell_type": "code",
   "execution_count": 16,
   "metadata": {},
   "outputs": [
    {
     "name": "stdout",
     "output_type": "stream",
     "text": [
      "CRIM   :  -0.06\n",
      "ZN     :   0.05\n",
      "INDUS  :  -0.00\n",
      "CHAS   :   0.00\n",
      "NOX    :  -0.00\n",
      "RM     :   0.95\n",
      "AGE    :   0.02\n",
      "DIS    :  -0.67\n",
      "RAD    :   0.26\n",
      "TAX    :  -0.02\n",
      "PTRATIO:  -0.72\n",
      "B      :   0.01\n",
      "LSTAT  :  -0.76\n"
     ]
    }
   ],
   "source": [
    "for f, w in zip(boston.feature_names, lr3.coef_) :\n",
    "    print(\"{0:7s}: {1:6.2f}\". format(f, w))"
   ]
  },
  {
   "cell_type": "code",
   "execution_count": 17,
   "metadata": {},
   "outputs": [
    {
     "data": {
      "text/plain": [
       "2.5237390469799843"
      ]
     },
     "execution_count": 17,
     "metadata": {},
     "output_type": "execute_result"
    }
   ],
   "source": [
    "sum(lr3.coef_**2)"
   ]
  },
  {
   "cell_type": "markdown",
   "metadata": {},
   "source": [
    "結果に影響の大きい特徴をリストアップ"
   ]
  },
  {
   "cell_type": "code",
   "execution_count": 18,
   "metadata": {},
   "outputs": [
    {
     "data": {
      "text/plain": [
       "array(['RM', 'DIS', 'RAD', 'PTRATIO', 'LSTAT'], dtype='<U7')"
      ]
     },
     "execution_count": 18,
     "metadata": {},
     "output_type": "execute_result"
    }
   ],
   "source": [
    "boston.feature_names[abs(lr3.coef_) > 0.1]"
   ]
  },
  {
   "cell_type": "markdown",
   "metadata": {},
   "source": [
    "交差確認による決定係数を用いた評価"
   ]
  },
  {
   "cell_type": "code",
   "execution_count": 19,
   "metadata": {},
   "outputs": [
    {
     "name": "stdout",
     "output_type": "stream",
     "text": [
      "0.62 +/- 0.06 \n"
     ]
    }
   ],
   "source": [
    "cv = ShuffleSplit(n_splits=10)\n",
    "scores = cross_val_score(lr3, X, y, cv=cv, scoring='r2')\n",
    "print(\"{0:4.2f} +/- {1:4.2f} \".format(scores.mean(), scores.std()))"
   ]
  },
  {
   "cell_type": "markdown",
   "metadata": {},
   "source": [
    "ひとつ抜き方による二乗誤差を用いた評価"
   ]
  },
  {
   "cell_type": "code",
   "execution_count": 20,
   "metadata": {},
   "outputs": [
    {
     "name": "stdout",
     "output_type": "stream",
     "text": [
      "-28.41\n"
     ]
    }
   ],
   "source": [
    "cv2 = LeaveOneOut()\n",
    "scores = cross_val_score(lr3, X, y, cv=cv2, scoring='neg_mean_squared_error')\n",
    "print(\"{0:4.2f}\".format(scores.mean()))"
   ]
  },
  {
   "cell_type": "code",
   "execution_count": null,
   "metadata": {
    "collapsed": true
   },
   "outputs": [],
   "source": []
  }
 ],
 "metadata": {
  "anaconda-cloud": {},
  "kernelspec": {
   "display_name": "Python 3",
   "language": "python",
   "name": "python3"
  },
  "language_info": {
   "codemirror_mode": {
    "name": "ipython",
    "version": 3
   },
   "file_extension": ".py",
   "mimetype": "text/x-python",
   "name": "python",
   "nbconvert_exporter": "python",
   "pygments_lexer": "ipython3",
   "version": "3.6.4"
  }
 },
 "nbformat": 4,
 "nbformat_minor": 1
}
