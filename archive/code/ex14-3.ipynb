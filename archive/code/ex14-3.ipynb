{
 "cells": [
  {
   "cell_type": "code",
   "execution_count": null,
   "metadata": {},
   "outputs": [],
   "source": [
    "import numpy as np\n",
    "from sklearn.datasets import load_iris\n",
    "from sklearn.semi_supervised import LabelPropagation\n",
    "\n",
    "iris = load_iris()\n",
    "X = iris.data\n",
    "y = iris.target\n",
    "\n",
    "# 10%が正解付きデータ\n",
    "unlabeled_points = np.random.choice(np.arange(y.size), int((y.size)*.9), replace=False)\n",
    "labels = np.copy(y)\n",
    "labels[unlabeled_points] = -1\n",
    "\n",
    "labeled = 0.1\n",
    "num = y.size\n",
    "lps = [LabelPropagation(kernel='knn', n_neighbors=3),\n",
    "       LabelPropagation(kernel='knn', n_neighbors=5),\n",
    "       LabelPropagation(kernel='rbf', gamma=1),\n",
    "       LabelPropagation(kernel='rbf', gamma=10),\n",
    "       LabelPropagation(kernel='rbf', gamma=100)]\n",
    "for lp in lps :\n",
    "    score = 0\n",
    "    for i in range(100):\n",
    "        unlabeled_points = np.random.choice(np.arange(num),int(num-num*labeled), replace=False)\n",
    "        labels = np.copy(y)\n",
    "        labels[unlabeled_points] = -1\n",
    "        lp.fit(X, labels)\n",
    "        score += lp.score(X[unlabeled_points], y[unlabeled_points])\n",
    "    print(\"{0}{1:4.1f}{2}{3:6.3f}\".format(\"labeled:\", labeled*100, \n",
    "                                          \"%,score=\", score/100))        "
   ]
  },
  {
   "cell_type": "code",
   "execution_count": null,
   "metadata": {},
   "outputs": [],
   "source": []
  }
 ],
 "metadata": {
  "anaconda-cloud": {},
  "kernelspec": {
   "display_name": "Python 3",
   "language": "python",
   "name": "python3"
  },
  "language_info": {
   "codemirror_mode": {
    "name": "ipython",
    "version": 3
   },
   "file_extension": ".py",
   "mimetype": "text/x-python",
   "name": "python",
   "nbconvert_exporter": "python",
   "pygments_lexer": "ipython3",
   "version": "3.6.4"
  }
 },
 "nbformat": 4,
 "nbformat_minor": 1
}
