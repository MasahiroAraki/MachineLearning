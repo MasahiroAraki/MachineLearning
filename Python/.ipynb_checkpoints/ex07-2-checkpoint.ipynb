{
 "cells": [
  {
   "cell_type": "markdown",
   "metadata": {},
   "source": [
    "# 演習7-3\n",
    "\n",
    "Scikit learn の SVMで文書分類を行います。"
   ]
  },
  {
   "cell_type": "markdown",
   "metadata": {},
   "source": [
    "## 準備\n",
    "\n",
    "必要なライブラリ等を読み込みます。"
   ]
  },
  {
   "cell_type": "code",
   "execution_count": 1,
   "metadata": {},
   "outputs": [],
   "source": [
    "import numpy as np\n",
    "import re\n",
    "from sklearn.feature_extraction.text import CountVectorizer\n",
    "from sklearn.feature_extraction.text import TfidfVectorizer\n",
    "from sklearn.svm import SVC\n",
    "from sklearn.metrics import classification_report"
   ]
  },
  {
   "cell_type": "markdown",
   "metadata": {},
   "source": [
    "## データの読み込み\n",
    "\n",
    "scipyのloadarffはStringの読み込みに対応していないので、直接ファイルを開いて読み込みます。学習データをX, yに読み込みます。"
   ]
  },
  {
   "cell_type": "code",
   "execution_count": 2,
   "metadata": {},
   "outputs": [],
   "source": [
    "# 学習データ\n",
    "r = re.compile(\"'(.*)',([01])\")\n",
    "X = np.empty((0,1),np.string_)\n",
    "y = np.empty((0,1),np.string_)\n",
    "\n",
    "with open('ReutersGrain-train.arff', 'r') as file:\n",
    "    line = file.readline()\n",
    "    while not(re.match(r\"@data\", line)):\n",
    "        line = file.readline()\n",
    "    line = file.readline()  # @data のあとの空行を読み飛ばす\n",
    "    for line in file:\n",
    "        m = r.search(line)\n",
    "        X = np.append(X, m.group(1))\n",
    "        y = np.append(y, m.group(2))"
   ]
  },
  {
   "cell_type": "markdown",
   "metadata": {},
   "source": [
    "学習データの事例数を確認します。"
   ]
  },
  {
   "cell_type": "code",
   "execution_count": 3,
   "metadata": {},
   "outputs": [
    {
     "data": {
      "text/plain": [
       "1554"
      ]
     },
     "execution_count": 3,
     "metadata": {},
     "output_type": "execute_result"
    }
   ],
   "source": [
    "X.size"
   ]
  },
  {
   "cell_type": "markdown",
   "metadata": {},
   "source": [
    "評価データをXe, yeに読み込みます。"
   ]
  },
  {
   "cell_type": "code",
   "execution_count": 4,
   "metadata": {},
   "outputs": [],
   "source": [
    "# 評価データ\n",
    "Xe = np.empty((0,1),np.string_)\n",
    "ye = np.empty((0,1),np.string_)\n",
    "with open('ReutersGrain-test.arff', 'r') as file:\n",
    "    line = file.readline()\n",
    "    while not(re.match(r\"@data\", line)):\n",
    "        line = file.readline()\n",
    "    line = file.readline()  # @data のあとの空行を読み飛ばす\n",
    "    for line in file:\n",
    "        m = r.search(line)\n",
    "        Xe = np.append(Xe, m.group(1))\n",
    "        ye = np.append(ye, m.group(2))"
   ]
  },
  {
   "cell_type": "markdown",
   "metadata": {},
   "source": [
    "評価データの事例数を確認します。"
   ]
  },
  {
   "cell_type": "code",
   "execution_count": 5,
   "metadata": {},
   "outputs": [
    {
     "data": {
      "text/plain": [
       "604"
      ]
     },
     "execution_count": 5,
     "metadata": {},
     "output_type": "execute_result"
    }
   ],
   "source": [
    "Xe.size"
   ]
  },
  {
   "cell_type": "markdown",
   "metadata": {},
   "source": [
    "## 文字列をベクトルに変換\n",
    "\n",
    "[CountVectorizer](http://scikit-learn.org/stable/modules/generated/sklearn.feature_extraction.text.CountVectorizer.html)を使って、文字列を単語ベクトルに変換します。"
   ]
  },
  {
   "cell_type": "code",
   "execution_count": 6,
   "metadata": {},
   "outputs": [
    {
     "data": {
      "text/plain": [
       "CountVectorizer(analyzer='word', binary=False, decode_error='strict',\n",
       "        dtype=<class 'numpy.int64'>, encoding='utf-8', input='content',\n",
       "        lowercase=True, max_df=1.0, max_features=None, min_df=1,\n",
       "        ngram_range=(1, 1), preprocessor=None, stop_words=None,\n",
       "        strip_accents=None, token_pattern='(?u)\\\\b\\\\w\\\\w+\\\\b',\n",
       "        tokenizer=None, vocabulary=None)"
      ]
     },
     "execution_count": 6,
     "metadata": {},
     "output_type": "execute_result"
    }
   ],
   "source": [
    "vectorizer = CountVectorizer(min_df=1)\n",
    "vectorizer   "
   ]
  },
  {
   "cell_type": "markdown",
   "metadata": {},
   "source": [
    "学習データ中の語彙を次元として、ベクトルに変換します。"
   ]
  },
  {
   "cell_type": "code",
   "execution_count": 7,
   "metadata": {},
   "outputs": [
    {
     "data": {
      "text/plain": [
       "<1554x15180 sparse matrix of type '<class 'numpy.int64'>'\n",
       "\twith 117651 stored elements in Compressed Sparse Row format>"
      ]
     },
     "execution_count": 7,
     "metadata": {},
     "output_type": "execute_result"
    }
   ],
   "source": [
    "Xv = vectorizer.fit_transform(X)\n",
    "Xv"
   ]
  },
  {
   "cell_type": "markdown",
   "metadata": {},
   "source": [
    "評価データは、学習データの次元に合わせて、ベクトルに変換します。"
   ]
  },
  {
   "cell_type": "code",
   "execution_count": 8,
   "metadata": {},
   "outputs": [
    {
     "data": {
      "text/plain": [
       "<604x15180 sparse matrix of type '<class 'numpy.int64'>'\n",
       "\twith 43521 stored elements in Compressed Sparse Row format>"
      ]
     },
     "execution_count": 8,
     "metadata": {},
     "output_type": "execute_result"
    }
   ],
   "source": [
    "Xev = vectorizer.transform(Xe)\n",
    "Xev"
   ]
  },
  {
   "cell_type": "markdown",
   "metadata": {},
   "source": [
    "## SVMでの学習\n",
    "\n",
    "[SVC](http://scikit-learn.org/stable/modules/generated/sklearn.svm.SVC.html)を使います。学習データの数が少ないので、線形カーネルを用います。また、正例と負例の数が大きく違うので、[class\\_weight](http://scikit-learn.org/stable/auto_examples/svm/plot_separating_hyperplane_unbalanced.html#sphx-glr-auto-examples-svm-plot-separating-hyperplane-unbalanced-py)を設定しておきます。"
   ]
  },
  {
   "cell_type": "code",
   "execution_count": 9,
   "metadata": {},
   "outputs": [
    {
     "data": {
      "text/plain": [
       "SVC(C=1.0, cache_size=200, class_weight='balanced', coef0=0.0,\n",
       "  decision_function_shape='ovr', degree=3, gamma='auto', kernel='linear',\n",
       "  max_iter=-1, probability=False, random_state=None, shrinking=True,\n",
       "  tol=0.001, verbose=False)"
      ]
     },
     "execution_count": 9,
     "metadata": {},
     "output_type": "execute_result"
    }
   ],
   "source": [
    "clf = SVC(kernel='linear', class_weight = 'balanced')\n",
    "clf"
   ]
  },
  {
   "cell_type": "markdown",
   "metadata": {},
   "source": [
    "分割学習法の場合は、[classification_report](http://scikit-learn.org/stable/modules/generated/sklearn.metrics.classification_report.html)に正解と識別器の出力を与えます。"
   ]
  },
  {
   "cell_type": "code",
   "execution_count": 10,
   "metadata": {},
   "outputs": [
    {
     "name": "stdout",
     "output_type": "stream",
     "text": [
      "             precision    recall  f1-score   support\n",
      "\n",
      "   negative       0.98      0.99      0.99       547\n",
      "   positive       0.92      0.79      0.85        57\n",
      "\n",
      "avg / total       0.97      0.97      0.97       604\n",
      "\n"
     ]
    }
   ],
   "source": [
    "clf = clf.fit(Xv, y)\n",
    "print(classification_report(ye, clf.predict(Xev), target_names=['negative', 'positive']))"
   ]
  },
  {
   "cell_type": "markdown",
   "metadata": {},
   "source": [
    "positiveのF値が0.85となり、Wekaの0.771を上回っています。これば特徴ベクトルの次元数が違うことと、SVMの実装が若干異なることが原因だと思われます。"
   ]
  },
  {
   "cell_type": "markdown",
   "metadata": {},
   "source": [
    "### 多項式カーネル\n",
    "\n",
    "2次の多項式カーネルを試してみます。カーネルの定義は[ここ](http://scikit-learn.org/stable/modules/svm.html#svm-kernels)を参照。"
   ]
  },
  {
   "cell_type": "code",
   "execution_count": 11,
   "metadata": {},
   "outputs": [
    {
     "data": {
      "text/plain": [
       "SVC(C=1.0, cache_size=200, class_weight='balanced', coef0=0.0,\n",
       "  decision_function_shape='ovr', degree=2, gamma=1, kernel='poly',\n",
       "  max_iter=-1, probability=False, random_state=None, shrinking=True,\n",
       "  tol=0.001, verbose=False)"
      ]
     },
     "execution_count": 11,
     "metadata": {},
     "output_type": "execute_result"
    }
   ],
   "source": [
    "clf2 = SVC(kernel='poly', degree=2, gamma=1, class_weight = 'balanced')\n",
    "clf2"
   ]
  },
  {
   "cell_type": "code",
   "execution_count": 12,
   "metadata": {},
   "outputs": [
    {
     "name": "stdout",
     "output_type": "stream",
     "text": [
      "             precision    recall  f1-score   support\n",
      "\n",
      "   negative       0.96      0.98      0.97       547\n",
      "   positive       0.78      0.63      0.70        57\n",
      "\n",
      "avg / total       0.95      0.95      0.95       604\n",
      "\n"
     ]
    }
   ],
   "source": [
    "clf2 = clf2.fit(Xv, y)\n",
    "print(classification_report(ye, clf2.predict(Xev), target_names=['negative', 'positive']))"
   ]
  },
  {
   "cell_type": "markdown",
   "metadata": {},
   "source": [
    "### rbfカーネル\n",
    "\n",
    "rbfカーネルを試してみます。gammaの値を調整することでpositiveの性能が変わります。$\\gamma$が小さいと識別面の決定に寄与する学習データが少なくなるので、比較的単純な識別面になります。反対に$\\gamma$が大きいと複雑な識別面になります。  \n",
    "\n",
    "$$K(x, x')=\\exp(-\\gamma\\|x-x'\\|^2)$$"
   ]
  },
  {
   "cell_type": "code",
   "execution_count": 13,
   "metadata": {},
   "outputs": [
    {
     "data": {
      "text/plain": [
       "SVC(C=1.0, cache_size=200, class_weight=None, coef0=0.0,\n",
       "  decision_function_shape='ovr', degree=3, gamma=0.005, kernel='rbf',\n",
       "  max_iter=-1, probability=False, random_state=None, shrinking=True,\n",
       "  tol=0.001, verbose=False)"
      ]
     },
     "execution_count": 13,
     "metadata": {},
     "output_type": "execute_result"
    }
   ],
   "source": [
    "clf3 = SVC(gamma=0.005)\n",
    "clf3"
   ]
  },
  {
   "cell_type": "code",
   "execution_count": 14,
   "metadata": {},
   "outputs": [
    {
     "name": "stdout",
     "output_type": "stream",
     "text": [
      "             precision    recall  f1-score   support\n",
      "\n",
      "   negative       0.92      1.00      0.96       547\n",
      "   positive       1.00      0.21      0.35        57\n",
      "\n",
      "avg / total       0.93      0.93      0.90       604\n",
      "\n"
     ]
    }
   ],
   "source": [
    "clf3 = clf3.fit(Xv, y)\n",
    "print(classification_report(ye, clf3.predict(Xev), target_names=['negative', 'positive']))"
   ]
  },
  {
   "cell_type": "markdown",
   "metadata": {
    "collapsed": true
   },
   "source": [
    "### 単語ベクトルの調整\n",
    "\n",
    "単語数を減らしてみます。"
   ]
  },
  {
   "cell_type": "code",
   "execution_count": 15,
   "metadata": {},
   "outputs": [
    {
     "name": "stdout",
     "output_type": "stream",
     "text": [
      "2195\n",
      "             precision    recall  f1-score   support\n",
      "\n",
      "   negative       0.98      0.99      0.99       547\n",
      "   positive       0.87      0.84      0.86        57\n",
      "\n",
      "avg / total       0.97      0.97      0.97       604\n",
      "\n"
     ]
    }
   ],
   "source": [
    "vectorizer = CountVectorizer(min_df=8)\n",
    "Xv2 = vectorizer.fit_transform(X)\n",
    "print(Xv2.shape[1])\n",
    "Xev2 = vectorizer.transform(Xe)\n",
    "clf = clf.fit(Xv2, y)\n",
    "print(classification_report(ye, clf.predict(Xev2), target_names=['negative', 'positive']))"
   ]
  },
  {
   "cell_type": "markdown",
   "metadata": {},
   "source": [
    "stop wordsを有効にしてみます。"
   ]
  },
  {
   "cell_type": "code",
   "execution_count": 16,
   "metadata": {},
   "outputs": [
    {
     "name": "stdout",
     "output_type": "stream",
     "text": [
      "14918\n",
      "             precision    recall  f1-score   support\n",
      "\n",
      "   negative       0.98      0.99      0.98       547\n",
      "   positive       0.85      0.81      0.83        57\n",
      "\n",
      "avg / total       0.97      0.97      0.97       604\n",
      "\n"
     ]
    }
   ],
   "source": [
    "vectorizer = CountVectorizer(stop_words='english')\n",
    "Xv2 = vectorizer.fit_transform(X)\n",
    "print(Xv2.shape[1])\n",
    "Xev2 = vectorizer.transform(Xe)\n",
    "clf = clf.fit(Xv2, y)\n",
    "print(classification_report(ye, clf.predict(Xev2), target_names=['negative', 'positive']))"
   ]
  },
  {
   "cell_type": "markdown",
   "metadata": {},
   "source": [
    "tfidfを使ってみます。"
   ]
  },
  {
   "cell_type": "code",
   "execution_count": 17,
   "metadata": {},
   "outputs": [
    {
     "name": "stdout",
     "output_type": "stream",
     "text": [
      "2893\n",
      "             precision    recall  f1-score   support\n",
      "\n",
      "   negative       0.98      0.99      0.99       547\n",
      "   positive       0.94      0.82      0.88        57\n",
      "\n",
      "avg / total       0.98      0.98      0.98       604\n",
      "\n"
     ]
    }
   ],
   "source": [
    "vectorizer = TfidfVectorizer(min_df=6)\n",
    "Xv2 = vectorizer.fit_transform(X)\n",
    "print(Xv2.shape[1])\n",
    "Xev2 = vectorizer.transform(Xe)\n",
    "clf = clf.fit(Xv2, y)\n",
    "print(classification_report(ye, clf.predict(Xev2), target_names=['negative', 'positive']))"
   ]
  }
 ],
 "metadata": {
  "anaconda-cloud": {},
  "kernelspec": {
   "display_name": "Python 3",
   "language": "python",
   "name": "python3"
  },
  "language_info": {
   "codemirror_mode": {
    "name": "ipython",
    "version": 3
   },
   "file_extension": ".py",
   "mimetype": "text/x-python",
   "name": "python",
   "nbconvert_exporter": "python",
   "pygments_lexer": "ipython3",
   "version": "3.6.4"
  }
 },
 "nbformat": 4,
 "nbformat_minor": 1
}
