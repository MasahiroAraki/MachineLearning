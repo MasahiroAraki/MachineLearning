{
 "cells": [
  {
   "cell_type": "markdown",
   "metadata": {},
   "source": [
    "## 例題9.2"
   ]
  },
  {
   "cell_type": "markdown",
   "metadata": {},
   "source": [
    "パッケージの読み込み"
   ]
  },
  {
   "cell_type": "code",
   "execution_count": 1,
   "metadata": {},
   "outputs": [
    {
     "name": "stderr",
     "output_type": "stream",
     "text": [
      "C:\\Users\\araki\\Anaconda3\\lib\\site-packages\\h5py\\__init__.py:36: FutureWarning: Conversion of the second argument of issubdtype from `float` to `np.floating` is deprecated. In future, it will be treated as `np.float64 == np.dtype(float).type`.\n",
      "  from ._conv import register_converters as _register_converters\n",
      "Using TensorFlow backend.\n"
     ]
    }
   ],
   "source": [
    "from keras.datasets import mnist\n",
    "from keras.models import Sequential\n",
    "from keras.layers import Dense, Dropout, Activation\n",
    "from keras.optimizers import SGD, RMSprop\n",
    "from keras.utils import np_utils"
   ]
  },
  {
   "cell_type": "markdown",
   "metadata": {},
   "source": [
    "MNISTデータのロード"
   ]
  },
  {
   "cell_type": "code",
   "execution_count": 2,
   "metadata": {},
   "outputs": [
    {
     "name": "stdout",
     "output_type": "stream",
     "text": [
      "Downloading data from https://s3.amazonaws.com/img-datasets/mnist.npz\n",
      "11493376/11490434 [==============================] - 15s 1us/step\n"
     ]
    }
   ],
   "source": [
    "(X_train, y_train), (X_test, y_test) = mnist.load_data()"
   ]
  },
  {
   "cell_type": "markdown",
   "metadata": {},
   "source": [
    "入力をフラットな配列に変換し、学習データは10,000個、テストデータは1000個だけ利用します。また、元データでは濃淡が0から255までで表現されており、最大値が大きすぎるので、特徴の値の最大値を1としておきます。"
   ]
  },
  {
   "cell_type": "code",
   "execution_count": 3,
   "metadata": {},
   "outputs": [],
   "source": [
    "# input image dimensions\n",
    "img_rows, img_cols = 28, 28\n",
    "\n",
    "X_train = X_train.reshape(X_train.shape[0], img_rows * img_cols)[0:10000]\n",
    "X_test = X_test.reshape(X_test.shape[0], img_rows * img_cols)[0:1000]\n",
    "\n",
    "X_train = X_train.astype('float32')\n",
    "X_test = X_test.astype('float32')\n",
    "X_train /= 255\n",
    "X_test /= 255"
   ]
  },
  {
   "cell_type": "markdown",
   "metadata": {},
   "source": [
    "出力をone-hotに変換します。"
   ]
  },
  {
   "cell_type": "code",
   "execution_count": 4,
   "metadata": {},
   "outputs": [],
   "source": [
    "tc = np_utils.to_categorical\n",
    "Y_train = tc(y_train)[0:10000]\n",
    "Y_test = tc(y_test)[0:1000]"
   ]
  },
  {
   "cell_type": "markdown",
   "metadata": {
    "collapsed": true
   },
   "source": [
    "## 多層パーセプトロン (MLP)"
   ]
  },
  {
   "cell_type": "markdown",
   "metadata": {},
   "source": [
    "まず、中間層1層のモデルを設定します。ユニット数は入力の次元数を考えて、適切に設定してください。活性化関数は、パラメータ[activation](https://keras.io/ja/activations/)で指定します。"
   ]
  },
  {
   "cell_type": "code",
   "execution_count": 5,
   "metadata": {},
   "outputs": [
    {
     "name": "stdout",
     "output_type": "stream",
     "text": [
      "_________________________________________________________________\n",
      "Layer (type)                 Output Shape              Param #   \n",
      "=================================================================\n",
      "dense_1 (Dense)              (None, 200)               157000    \n",
      "_________________________________________________________________\n",
      "dense_2 (Dense)              (None, 10)                2010      \n",
      "=================================================================\n",
      "Total params: 159,010\n",
      "Trainable params: 159,010\n",
      "Non-trainable params: 0\n",
      "_________________________________________________________________\n"
     ]
    }
   ],
   "source": [
    "input_shape = X_train[0].shape\n",
    "n_hidden = 200\n",
    "n_out = len(Y_train[0])  # 10\n",
    "\n",
    "model = Sequential()\n",
    "model.add(Dense(n_hidden, input_shape=input_shape, activation='sigmoid'))\n",
    "model.add(Dense(n_out, activation='softmax'))\n",
    "model.summary()"
   ]
  },
  {
   "cell_type": "markdown",
   "metadata": {},
   "source": [
    "損失関数 ([loss](https://keras.io/ja/losses/))、最適化アルゴリズム([optimizer](https://keras.io/ja/optimizers/))、評価基準([metrics](https://keras.io/ja/metrics/))を指定して、モデルをcompileします。"
   ]
  },
  {
   "cell_type": "code",
   "execution_count": 6,
   "metadata": {},
   "outputs": [],
   "source": [
    "model.compile(loss = 'categorical_crossentropy',\n",
    "              optimizer = RMSprop(),\n",
    "              metrics = ['accuracy'])"
   ]
  },
  {
   "cell_type": "markdown",
   "metadata": {},
   "source": [
    "[fit](https://keras.io/ja/models/sequential/#fit)メソッドで学習します。繰り返し回数はパラメータepocksで、バッチサイズはパラメータbatch\\_sizeで指定します。"
   ]
  },
  {
   "cell_type": "code",
   "execution_count": 7,
   "metadata": {},
   "outputs": [
    {
     "name": "stdout",
     "output_type": "stream",
     "text": [
      "Epoch 1/10\n",
      "10000/10000 [==============================] - 0s 32us/step - loss: 1.1949 - acc: 0.7446\n",
      "Epoch 2/10\n",
      "10000/10000 [==============================] - 0s 21us/step - loss: 0.5749 - acc: 0.8732\n",
      "Epoch 3/10\n",
      "10000/10000 [==============================] - 0s 22us/step - loss: 0.4135 - acc: 0.8990\n",
      "Epoch 4/10\n",
      "10000/10000 [==============================] - 0s 22us/step - loss: 0.3443 - acc: 0.9116\n",
      "Epoch 5/10\n",
      "10000/10000 [==============================] - 0s 22us/step - loss: 0.3047 - acc: 0.9166\n",
      "Epoch 6/10\n",
      "10000/10000 [==============================] - 0s 22us/step - loss: 0.2774 - acc: 0.9253\n",
      "Epoch 7/10\n",
      "10000/10000 [==============================] - 0s 22us/step - loss: 0.2569 - acc: 0.9300\n",
      "Epoch 8/10\n",
      "10000/10000 [==============================] - 0s 23us/step - loss: 0.2395 - acc: 0.9345\n",
      "Epoch 9/10\n",
      "10000/10000 [==============================] - 0s 23us/step - loss: 0.2254 - acc: 0.9375\n",
      "Epoch 10/10\n",
      "10000/10000 [==============================] - 0s 22us/step - loss: 0.2120 - acc: 0.9421\n"
     ]
    },
    {
     "data": {
      "text/plain": [
       "<keras.callbacks.History at 0x1416826de48>"
      ]
     },
     "execution_count": 7,
     "metadata": {},
     "output_type": "execute_result"
    }
   ],
   "source": [
    "model.fit(X_train, Y_train, epochs=10, batch_size=200)"
   ]
  },
  {
   "cell_type": "markdown",
   "metadata": {},
   "source": [
    "[evaluate](https://keras.io/ja/models/sequential/#evaluate)メソッドで評価します。"
   ]
  },
  {
   "cell_type": "code",
   "execution_count": 8,
   "metadata": {},
   "outputs": [
    {
     "name": "stdout",
     "output_type": "stream",
     "text": [
      "Test loss: 0.28965153098106383\n",
      "Test accuracy: 0.906\n"
     ]
    }
   ],
   "source": [
    "score = model.evaluate(X_test, Y_test, verbose=0)\n",
    "print('Test loss:', score[0])\n",
    "print('Test accuracy:', score[1])"
   ]
  },
  {
   "cell_type": "markdown",
   "metadata": {},
   "source": [
    "### 中間層の層数を増やす\n",
    "\n",
    "中間層の層数を増やしてみます。その際、活性化関数sigmoid, tanh, reluのそれぞれの違いを確認します。"
   ]
  },
  {
   "cell_type": "code",
   "execution_count": 9,
   "metadata": {},
   "outputs": [
    {
     "name": "stdout",
     "output_type": "stream",
     "text": [
      "_________________________________________________________________\n",
      "Layer (type)                 Output Shape              Param #   \n",
      "=================================================================\n",
      "dense_3 (Dense)              (None, 200)               157000    \n",
      "_________________________________________________________________\n",
      "dense_4 (Dense)              (None, 200)               40200     \n",
      "_________________________________________________________________\n",
      "dense_5 (Dense)              (None, 200)               40200     \n",
      "_________________________________________________________________\n",
      "dense_6 (Dense)              (None, 200)               40200     \n",
      "_________________________________________________________________\n",
      "dense_7 (Dense)              (None, 200)               40200     \n",
      "_________________________________________________________________\n",
      "dense_8 (Dense)              (None, 10)                2010      \n",
      "=================================================================\n",
      "Total params: 319,810\n",
      "Trainable params: 319,810\n",
      "Non-trainable params: 0\n",
      "_________________________________________________________________\n"
     ]
    }
   ],
   "source": [
    "model = Sequential()\n",
    "af = 'sigmoid'\n",
    "model.add(Dense(n_hidden, input_shape=input_shape, activation=af))\n",
    "model.add(Dense(n_hidden, activation=af))\n",
    "model.add(Dense(n_hidden, activation=af))\n",
    "model.add(Dense(n_hidden, activation=af))\n",
    "model.add(Dense(n_hidden, activation=af))\n",
    "model.add(Dense(n_out, activation='softmax'))\n",
    "model.summary()"
   ]
  },
  {
   "cell_type": "code",
   "execution_count": 10,
   "metadata": {},
   "outputs": [
    {
     "name": "stdout",
     "output_type": "stream",
     "text": [
      "Epoch 1/10\n",
      "10000/10000 [==============================] - 1s 53us/step - loss: 2.3115 - acc: 0.1101\n",
      "Epoch 2/10\n",
      "10000/10000 [==============================] - 0s 41us/step - loss: 2.3098 - acc: 0.1067\n",
      "Epoch 3/10\n",
      "10000/10000 [==============================] - 0s 42us/step - loss: 2.3098 - acc: 0.1037\n",
      "Epoch 4/10\n",
      "10000/10000 [==============================] - 0s 42us/step - loss: 2.3093 - acc: 0.1041\n",
      "Epoch 5/10\n",
      "10000/10000 [==============================] - 0s 40us/step - loss: 2.3082 - acc: 0.1003\n",
      "Epoch 6/10\n",
      "10000/10000 [==============================] - 0s 40us/step - loss: 2.3102 - acc: 0.1036\n",
      "Epoch 7/10\n",
      "10000/10000 [==============================] - 0s 42us/step - loss: 2.3082 - acc: 0.1053\n",
      "Epoch 8/10\n",
      "10000/10000 [==============================] - 0s 40us/step - loss: 2.3077 - acc: 0.1109\n",
      "Epoch 9/10\n",
      "10000/10000 [==============================] - 0s 40us/step - loss: 2.3080 - acc: 0.1077\n",
      "Epoch 10/10\n",
      "10000/10000 [==============================] - 0s 41us/step - loss: 2.3081 - acc: 0.1070\n",
      "Test loss: 2.3112020416259766\n",
      "Test accuracy: 0.107\n"
     ]
    }
   ],
   "source": [
    "model.compile(loss = 'categorical_crossentropy',\n",
    "              optimizer = SGD(lr=0.1),\n",
    "              metrics = ['accuracy'])\n",
    "model.fit(X_train, Y_train, epochs=10, batch_size=200)\n",
    "score = model.evaluate(X_test, Y_test, verbose=0)\n",
    "print('Test loss:', score[0])\n",
    "print('Test accuracy:', score[1])"
   ]
  },
  {
   "cell_type": "code",
   "execution_count": 11,
   "metadata": {},
   "outputs": [],
   "source": [
    "model = Sequential()\n",
    "af = 'tanh'\n",
    "model.add(Dense(n_hidden, input_shape=input_shape, activation=af))\n",
    "model.add(Dense(n_hidden, activation=af))\n",
    "model.add(Dense(n_hidden, activation=af))\n",
    "model.add(Dense(n_hidden, activation=af))\n",
    "model.add(Dense(n_hidden, activation=af))\n",
    "model.add(Dense(n_out, activation='softmax'))"
   ]
  },
  {
   "cell_type": "code",
   "execution_count": 12,
   "metadata": {},
   "outputs": [
    {
     "name": "stdout",
     "output_type": "stream",
     "text": [
      "Epoch 1/10\n",
      "10000/10000 [==============================] - 1s 61us/step - loss: 0.6498 - acc: 0.7897\n",
      "Epoch 2/10\n",
      "10000/10000 [==============================] - 0s 42us/step - loss: 0.3460 - acc: 0.8954\n",
      "Epoch 3/10\n",
      "10000/10000 [==============================] - 0s 44us/step - loss: 0.2733 - acc: 0.9158\n",
      "Epoch 4/10\n",
      "10000/10000 [==============================] - 0s 42us/step - loss: 0.2185 - acc: 0.9342\n",
      "Epoch 5/10\n",
      "10000/10000 [==============================] - 0s 42us/step - loss: 0.1873 - acc: 0.9421\n",
      "Epoch 6/10\n",
      "10000/10000 [==============================] - 0s 42us/step - loss: 0.1505 - acc: 0.9536\n",
      "Epoch 7/10\n",
      "10000/10000 [==============================] - 0s 43us/step - loss: 0.1258 - acc: 0.9600\n",
      "Epoch 8/10\n",
      "10000/10000 [==============================] - 0s 44us/step - loss: 0.1077 - acc: 0.9676\n",
      "Epoch 9/10\n",
      "10000/10000 [==============================] - 0s 46us/step - loss: 0.0897 - acc: 0.9715\n",
      "Epoch 10/10\n",
      "10000/10000 [==============================] - 0s 43us/step - loss: 0.0700 - acc: 0.9795\n",
      "Test loss: 0.20446156227588655\n",
      "Test accuracy: 0.938\n"
     ]
    }
   ],
   "source": [
    "model.compile(loss = 'categorical_crossentropy',\n",
    "              optimizer = RMSprop(),\n",
    "              metrics = ['accuracy'])\n",
    "model.fit(X_train, Y_train, epochs=10, batch_size=200)\n",
    "score = model.evaluate(X_test, Y_test, verbose=0)\n",
    "print('Test loss:', score[0])\n",
    "print('Test accuracy:', score[1])"
   ]
  },
  {
   "cell_type": "code",
   "execution_count": 13,
   "metadata": {},
   "outputs": [],
   "source": [
    "model = Sequential()\n",
    "af = 'relu'\n",
    "model.add(Dense(n_hidden, input_shape=input_shape, activation=af))\n",
    "model.add(Dense(n_hidden, activation=af))\n",
    "model.add(Dense(n_hidden, activation=af))\n",
    "model.add(Dense(n_hidden, activation=af))\n",
    "model.add(Dense(n_hidden, activation=af))\n",
    "model.add(Dense(n_out, activation='softmax'))"
   ]
  },
  {
   "cell_type": "code",
   "execution_count": 14,
   "metadata": {},
   "outputs": [
    {
     "name": "stdout",
     "output_type": "stream",
     "text": [
      "Epoch 1/10\n",
      "10000/10000 [==============================] - 1s 61us/step - loss: 0.8654 - acc: 0.7182\n",
      "Epoch 2/10\n",
      "10000/10000 [==============================] - 0s 42us/step - loss: 0.3300 - acc: 0.9039\n",
      "Epoch 3/10\n",
      "10000/10000 [==============================] - 0s 40us/step - loss: 0.2178 - acc: 0.9350\n",
      "Epoch 4/10\n",
      "10000/10000 [==============================] - 0s 41us/step - loss: 0.1707 - acc: 0.9483\n",
      "Epoch 5/10\n",
      "10000/10000 [==============================] - 0s 41us/step - loss: 0.1241 - acc: 0.9640\n",
      "Epoch 6/10\n",
      "10000/10000 [==============================] - 0s 40us/step - loss: 0.0855 - acc: 0.9732\n",
      "Epoch 7/10\n",
      "10000/10000 [==============================] - 0s 40us/step - loss: 0.0653 - acc: 0.9792\n",
      "Epoch 8/10\n",
      "10000/10000 [==============================] - 0s 41us/step - loss: 0.0582 - acc: 0.9813\n",
      "Epoch 9/10\n",
      "10000/10000 [==============================] - 0s 41us/step - loss: 0.0434 - acc: 0.9878\n",
      "Epoch 10/10\n",
      "10000/10000 [==============================] - 0s 41us/step - loss: 0.0338 - acc: 0.9897\n",
      "Test loss: 0.23199342910759152\n",
      "Test accuracy: 0.943\n"
     ]
    }
   ],
   "source": [
    "model.compile(loss = 'categorical_crossentropy',\n",
    "              optimizer = RMSprop(),\n",
    "              metrics = ['accuracy'])\n",
    "model.fit(X_train, Y_train, epochs=10, batch_size=200)\n",
    "score = model.evaluate(X_test, Y_test, verbose=0)\n",
    "print('Test loss:', score[0])\n",
    "print('Test accuracy:', score[1])"
   ]
  },
  {
   "cell_type": "markdown",
   "metadata": {},
   "source": [
    "dropoutを入れてみます。学習データとテストデータの正解率の差に注目してください。"
   ]
  },
  {
   "cell_type": "code",
   "execution_count": 15,
   "metadata": {},
   "outputs": [
    {
     "name": "stdout",
     "output_type": "stream",
     "text": [
      "_________________________________________________________________\n",
      "Layer (type)                 Output Shape              Param #   \n",
      "=================================================================\n",
      "dense_21 (Dense)             (None, 200)               157000    \n",
      "_________________________________________________________________\n",
      "dropout_1 (Dropout)          (None, 200)               0         \n",
      "_________________________________________________________________\n",
      "dense_22 (Dense)             (None, 200)               40200     \n",
      "_________________________________________________________________\n",
      "dropout_2 (Dropout)          (None, 200)               0         \n",
      "_________________________________________________________________\n",
      "dense_23 (Dense)             (None, 200)               40200     \n",
      "_________________________________________________________________\n",
      "dropout_3 (Dropout)          (None, 200)               0         \n",
      "_________________________________________________________________\n",
      "dense_24 (Dense)             (None, 200)               40200     \n",
      "_________________________________________________________________\n",
      "dropout_4 (Dropout)          (None, 200)               0         \n",
      "_________________________________________________________________\n",
      "dense_25 (Dense)             (None, 200)               40200     \n",
      "_________________________________________________________________\n",
      "dropout_5 (Dropout)          (None, 200)               0         \n",
      "_________________________________________________________________\n",
      "dense_26 (Dense)             (None, 10)                2010      \n",
      "=================================================================\n",
      "Total params: 319,810\n",
      "Trainable params: 319,810\n",
      "Non-trainable params: 0\n",
      "_________________________________________________________________\n"
     ]
    }
   ],
   "source": [
    "model = Sequential()\n",
    "af = 'relu'\n",
    "model.add(Dense(n_hidden, input_shape=input_shape, activation=af))\n",
    "model.add(Dropout(0.5))\n",
    "model.add(Dense(n_hidden, activation=af))\n",
    "model.add(Dropout(0.5))\n",
    "model.add(Dense(n_hidden, activation=af))\n",
    "model.add(Dropout(0.5))\n",
    "model.add(Dense(n_hidden, activation=af))\n",
    "model.add(Dropout(0.5))\n",
    "model.add(Dense(n_hidden, activation=af))\n",
    "model.add(Dropout(0.5))\n",
    "model.add(Dense(n_out, activation='softmax'))\n",
    "model.summary()"
   ]
  },
  {
   "cell_type": "code",
   "execution_count": 16,
   "metadata": {},
   "outputs": [
    {
     "name": "stdout",
     "output_type": "stream",
     "text": [
      "Epoch 1/20\n",
      "10000/10000 [==============================] - 1s 80us/step - loss: 2.3203 - acc: 0.1167\n",
      "Epoch 2/20\n",
      "10000/10000 [==============================] - 1s 51us/step - loss: 2.2362 - acc: 0.1578\n",
      "Epoch 3/20\n",
      "10000/10000 [==============================] - 1s 51us/step - loss: 2.0624 - acc: 0.2630\n",
      "Epoch 4/20\n",
      "10000/10000 [==============================] - 1s 52us/step - loss: 1.8293 - acc: 0.3643\n",
      "Epoch 5/20\n",
      "10000/10000 [==============================] - 1s 51us/step - loss: 1.5247 - acc: 0.4592\n",
      "Epoch 6/20\n",
      "10000/10000 [==============================] - 1s 51us/step - loss: 1.2855 - acc: 0.5312\n",
      "Epoch 7/20\n",
      "10000/10000 [==============================] - 1s 52us/step - loss: 1.1353 - acc: 0.5911\n",
      "Epoch 8/20\n",
      "10000/10000 [==============================] - 1s 51us/step - loss: 1.0129 - acc: 0.6478\n",
      "Epoch 9/20\n",
      "10000/10000 [==============================] - 1s 52us/step - loss: 0.9142 - acc: 0.6754\n",
      "Epoch 10/20\n",
      "10000/10000 [==============================] - 1s 51us/step - loss: 0.8520 - acc: 0.7064\n",
      "Epoch 11/20\n",
      "10000/10000 [==============================] - 1s 52us/step - loss: 0.7719 - acc: 0.7479\n",
      "Epoch 12/20\n",
      "10000/10000 [==============================] - 1s 51us/step - loss: 0.7238 - acc: 0.7666\n",
      "Epoch 13/20\n",
      "10000/10000 [==============================] - 1s 51us/step - loss: 0.6694 - acc: 0.7932\n",
      "Epoch 14/20\n",
      "10000/10000 [==============================] - 1s 54us/step - loss: 0.6153 - acc: 0.8132\n",
      "Epoch 15/20\n",
      "10000/10000 [==============================] - 1s 55us/step - loss: 0.5854 - acc: 0.8261\n",
      "Epoch 16/20\n",
      "10000/10000 [==============================] - 1s 54us/step - loss: 0.5517 - acc: 0.8414\n",
      "Epoch 17/20\n",
      "10000/10000 [==============================] - 1s 53us/step - loss: 0.4929 - acc: 0.8588\n",
      "Epoch 18/20\n",
      "10000/10000 [==============================] - 1s 53us/step - loss: 0.4758 - acc: 0.8651\n",
      "Epoch 19/20\n",
      "10000/10000 [==============================] - 1s 52us/step - loss: 0.4515 - acc: 0.8736\n",
      "Epoch 20/20\n",
      "10000/10000 [==============================] - 1s 51us/step - loss: 0.4270 - acc: 0.8818\n",
      "Test loss: 0.3427819471359253\n",
      "Test accuracy: 0.902\n"
     ]
    }
   ],
   "source": [
    "model.compile(loss = 'categorical_crossentropy',\n",
    "              optimizer = SGD(lr=0.1),\n",
    "              metrics = ['accuracy'])\n",
    "model.fit(X_train, Y_train, epochs=20, batch_size=200)\n",
    "score = model.evaluate(X_test, Y_test, verbose=0)\n",
    "print('Test loss:', score[0])\n",
    "print('Test accuracy:', score[1])"
   ]
  },
  {
   "cell_type": "code",
   "execution_count": null,
   "metadata": {},
   "outputs": [],
   "source": []
  }
 ],
 "metadata": {
  "kernelspec": {
   "display_name": "Python 3",
   "language": "python",
   "name": "python3"
  },
  "language_info": {
   "codemirror_mode": {
    "name": "ipython",
    "version": 3
   },
   "file_extension": ".py",
   "mimetype": "text/x-python",
   "name": "python",
   "nbconvert_exporter": "python",
   "pygments_lexer": "ipython3",
   "version": "3.6.4"
  }
 },
 "nbformat": 4,
 "nbformat_minor": 2
}
