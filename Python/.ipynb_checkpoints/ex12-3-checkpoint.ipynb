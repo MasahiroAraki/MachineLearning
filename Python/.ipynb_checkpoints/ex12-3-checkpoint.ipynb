{
 "cells": [
  {
   "cell_type": "markdown",
   "metadata": {},
   "source": [
    "# 例題12-3"
   ]
  },
  {
   "cell_type": "markdown",
   "metadata": {},
   "source": [
    "MovieLensデータセットは個々のユーザが複数の映画について0.5-5.0の0.5刻みで評価をつけたものです。このデータにNMFを適用して行列分解を行い、得られた行列を用いて評価用データの評価値を推測してみます。評価は5-fold CVで行います。"
   ]
  },
  {
   "cell_type": "code",
   "execution_count": 1,
   "metadata": {},
   "outputs": [
    {
     "name": "stdout",
     "output_type": "stream",
     "text": [
      "Dataset ml-100k could not be found. Do you want to download it? [Y/n] Y\n",
      "Trying to download dataset from http://files.grouplens.org/datasets/movielens/ml-100k.zip...\n",
      "Done! Dataset ml-100k has been saved to C:\\Users\\araki/.surprise_data/ml-100k\n",
      "Evaluating RMSE, MAE of algorithm NMF on 5 split(s).\n",
      "\n",
      "                  Fold 1  Fold 2  Fold 3  Fold 4  Fold 5  Mean    Std     \n",
      "RMSE (testset)    0.9639  0.9644  0.9653  0.9640  0.9687  0.9652  0.0018  \n",
      "MAE (testset)     0.7591  0.7571  0.7601  0.7550  0.7587  0.7580  0.0018  \n",
      "Fit time          8.84    8.93    9.02    8.67    8.23    8.74    0.28    \n",
      "Test time         0.23    0.18    0.14    0.13    0.14    0.16    0.04    \n"
     ]
    },
    {
     "data": {
      "text/plain": [
       "{'fit_time': (8.841017007827759,\n",
       "  8.92924976348877,\n",
       "  9.021995544433594,\n",
       "  8.671564817428589,\n",
       "  8.232396841049194),\n",
       " 'test_mae': array([0.75909096, 0.75709672, 0.76014553, 0.75503679, 0.7587057 ]),\n",
       " 'test_rmse': array([0.96393297, 0.96435065, 0.96532915, 0.96396022, 0.96866098]),\n",
       " 'test_time': (0.22660136222839355,\n",
       "  0.17997980117797852,\n",
       "  0.1383681297302246,\n",
       "  0.12984538078308105,\n",
       "  0.1353616714477539)}"
      ]
     },
     "execution_count": 1,
     "metadata": {},
     "output_type": "execute_result"
    }
   ],
   "source": [
    "from surprise import NMF\n",
    "from surprise import Dataset\n",
    "from surprise.model_selection import cross_validate\n",
    "\n",
    "# movielens-100k データを読み込みます\n",
    "X = Dataset.load_builtin('ml-100k')\n",
    "\n",
    "# 5-fold CVで、平均平方二乗誤差と平均絶対誤差を表示します。\n",
    "cross_validate(NMF(), X, measures=['RMSE', 'MAE'], cv=5, verbose=True)"
   ]
  }
 ],
 "metadata": {
  "kernelspec": {
   "display_name": "Python 3",
   "language": "python",
   "name": "python3"
  },
  "language_info": {
   "codemirror_mode": {
    "name": "ipython",
    "version": 3
   },
   "file_extension": ".py",
   "mimetype": "text/x-python",
   "name": "python",
   "nbconvert_exporter": "python",
   "pygments_lexer": "ipython3",
   "version": "3.6.4"
  }
 },
 "nbformat": 4,
 "nbformat_minor": 2
}
