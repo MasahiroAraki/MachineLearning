{
 "cells": [
  {
   "cell_type": "markdown",
   "metadata": {},
   "source": [
    "# 演習9.2"
   ]
  },
  {
   "cell_type": "markdown",
   "metadata": {},
   "source": [
    "IMDBデータは映画のレビューに対して、P/N(肯定/否定)のラベルが付いた学習データです。学習用に25000事例、評価用に25000事例用意されていて、PNの割合はそれぞれ50%です。\n",
    "各レビューは単語列ではなく、単語インデックスの系列として表現されています。\n",
    "\n",
    "ここでは、頻度上位10000語を対象とし、データの大きさは先頭の20単語に限定します。"
   ]
  },
  {
   "cell_type": "code",
   "execution_count": 1,
   "metadata": {},
   "outputs": [
    {
     "name": "stderr",
     "output_type": "stream",
     "text": [
      "C:\\Users\\araki\\Anaconda3\\lib\\site-packages\\h5py\\__init__.py:36: FutureWarning: Conversion of the second argument of issubdtype from `float` to `np.floating` is deprecated. In future, it will be treated as `np.float64 == np.dtype(float).type`.\n",
      "  from ._conv import register_converters as _register_converters\n",
      "Using TensorFlow backend.\n"
     ]
    },
    {
     "name": "stdout",
     "output_type": "stream",
     "text": [
      "Downloading data from https://s3.amazonaws.com/text-datasets/imdb.npz\n",
      "17465344/17464789 [==============================] - 7s 0us/step\n"
     ]
    }
   ],
   "source": [
    "from keras.datasets import imdb\n",
    "from keras import preprocessing\n",
    "from keras.models import Sequential\n",
    "from keras.layers import Embedding, SimpleRNN, Dense\n",
    "max_features = 10000\n",
    "maxlen = 20\n",
    "(X_train, y_train), (X_test, y_test) = imdb.load_data(num_words=max_features)\n",
    "X_train = preprocessing.sequence.pad_sequences(X_train, maxlen=maxlen)\n",
    "X_test = preprocessing.sequence.pad_sequences(X_test, maxlen=maxlen)"
   ]
  },
  {
   "cell_type": "markdown",
   "metadata": {},
   "source": [
    "単語インデックスを単語に戻して、元のデータを確認します。インデックスは\"padding\", \"start of sequence\",\"unknown\"にそれぞれ0,1,2が割り当てられているので、3つずらして対応させます。"
   ]
  },
  {
   "cell_type": "code",
   "execution_count": 2,
   "metadata": {},
   "outputs": [
    {
     "name": "stdout",
     "output_type": "stream",
     "text": [
      "Downloading data from https://s3.amazonaws.com/text-datasets/imdb_word_index.json\n",
      "1646592/1641221 [==============================] - 4s 2us/step\n"
     ]
    },
    {
     "data": {
      "text/plain": [
       "\"story was so lovely because it was true and was someone's life after all that was shared with us all\""
      ]
     },
     "execution_count": 2,
     "metadata": {},
     "output_type": "execute_result"
    }
   ],
   "source": [
    "word_index = imdb.get_word_index()\n",
    "reverse_word_index = dict([(value, key) for (key, value) in word_index.items()])\n",
    "decoded_review = ' '.join([reverse_word_index.get(i - 3, '?') for i in X_train[0]])\n",
    "decoded_review"
   ]
  },
  {
   "cell_type": "markdown",
   "metadata": {},
   "source": [
    "単純なRNNを構成して学習させます。"
   ]
  },
  {
   "cell_type": "code",
   "execution_count": 3,
   "metadata": {},
   "outputs": [
    {
     "name": "stdout",
     "output_type": "stream",
     "text": [
      "Train on 20000 samples, validate on 5000 samples\n",
      "Epoch 1/10\n",
      "20000/20000 [==============================] - 2s 81us/step - loss: 0.6073 - acc: 0.6508 - val_loss: 0.5779 - val_acc: 0.6936\n",
      "Epoch 2/10\n",
      "20000/20000 [==============================] - 1s 69us/step - loss: 0.4414 - acc: 0.7965 - val_loss: 0.5283 - val_acc: 0.7340\n",
      "Epoch 3/10\n",
      "20000/20000 [==============================] - 1s 69us/step - loss: 0.3491 - acc: 0.8484 - val_loss: 0.5590 - val_acc: 0.7108\n",
      "Epoch 4/10\n",
      "20000/20000 [==============================] - 1s 69us/step - loss: 0.2602 - acc: 0.8959 - val_loss: 0.6101 - val_acc: 0.7296\n",
      "Epoch 5/10\n",
      "20000/20000 [==============================] - 1s 69us/step - loss: 0.1784 - acc: 0.9312 - val_loss: 0.7043 - val_acc: 0.7154\n",
      "Epoch 6/10\n",
      "20000/20000 [==============================] - 1s 69us/step - loss: 0.1169 - acc: 0.9582 - val_loss: 0.7705 - val_acc: 0.7110\n",
      "Epoch 7/10\n",
      "20000/20000 [==============================] - 1s 69us/step - loss: 0.0683 - acc: 0.9782 - val_loss: 0.9151 - val_acc: 0.7060\n",
      "Epoch 8/10\n",
      "20000/20000 [==============================] - 1s 69us/step - loss: 0.0392 - acc: 0.9879 - val_loss: 1.0707 - val_acc: 0.7088\n",
      "Epoch 9/10\n",
      "20000/20000 [==============================] - 1s 70us/step - loss: 0.0195 - acc: 0.9946 - val_loss: 1.2694 - val_acc: 0.6770\n",
      "Epoch 10/10\n",
      "20000/20000 [==============================] - 1s 70us/step - loss: 0.0108 - acc: 0.9974 - val_loss: 1.3221 - val_acc: 0.6902\n"
     ]
    },
    {
     "data": {
      "text/plain": [
       "<keras.callbacks.History at 0x1755a1135f8>"
      ]
     },
     "execution_count": 3,
     "metadata": {},
     "output_type": "execute_result"
    }
   ],
   "source": [
    "model = Sequential()\n",
    "model.add(Embedding(max_features, 32))\n",
    "model.add(SimpleRNN(32))\n",
    "model.add(Dense(1, activation='sigmoid'))\n",
    "model.compile(optimizer='rmsprop', loss='binary_crossentropy', metrics=['acc'])\n",
    "model.fit(X_train, y_train, epochs=10, batch_size=128,validation_split=0.2)"
   ]
  },
  {
   "cell_type": "code",
   "execution_count": 4,
   "metadata": {},
   "outputs": [
    {
     "name": "stdout",
     "output_type": "stream",
     "text": [
      "Test loss: 1.322194078540802\n",
      "Test accuracy: 0.69772\n"
     ]
    }
   ],
   "source": [
    "score = model.evaluate(X_test, y_test, verbose=0)\n",
    "print('Test loss:', score[0])\n",
    "print('Test accuracy:', score[1])"
   ]
  },
  {
   "cell_type": "markdown",
   "metadata": {},
   "source": [
    "RNNユニットをLSTMに変更して性能の変化を確認します。"
   ]
  },
  {
   "cell_type": "code",
   "execution_count": 5,
   "metadata": {},
   "outputs": [
    {
     "name": "stdout",
     "output_type": "stream",
     "text": [
      "Train on 20000 samples, validate on 5000 samples\n",
      "Epoch 1/10\n",
      "20000/20000 [==============================] - 3s 164us/step - loss: 0.5843 - acc: 0.6873 - val_loss: 0.5195 - val_acc: 0.7434\n",
      "Epoch 2/10\n",
      "20000/20000 [==============================] - 3s 130us/step - loss: 0.4436 - acc: 0.7943 - val_loss: 0.4994 - val_acc: 0.7566\n",
      "Epoch 3/10\n",
      "20000/20000 [==============================] - 3s 130us/step - loss: 0.3959 - acc: 0.8226 - val_loss: 0.4878 - val_acc: 0.7550\n",
      "Epoch 4/10\n",
      "20000/20000 [==============================] - 3s 130us/step - loss: 0.3694 - acc: 0.8361 - val_loss: 0.5104 - val_acc: 0.7478\n",
      "Epoch 5/10\n",
      "20000/20000 [==============================] - 3s 130us/step - loss: 0.3506 - acc: 0.8476 - val_loss: 0.5043 - val_acc: 0.7484\n",
      "Epoch 6/10\n",
      "20000/20000 [==============================] - 3s 131us/step - loss: 0.3355 - acc: 0.8538 - val_loss: 0.5490 - val_acc: 0.7502\n",
      "Epoch 7/10\n",
      "20000/20000 [==============================] - 3s 130us/step - loss: 0.3224 - acc: 0.8621 - val_loss: 0.5150 - val_acc: 0.7474\n",
      "Epoch 8/10\n",
      "20000/20000 [==============================] - 3s 130us/step - loss: 0.3087 - acc: 0.8690 - val_loss: 0.5417 - val_acc: 0.7380\n",
      "Epoch 9/10\n",
      "20000/20000 [==============================] - 3s 130us/step - loss: 0.2948 - acc: 0.8749 - val_loss: 0.5623 - val_acc: 0.7452\n",
      "Epoch 10/10\n",
      "20000/20000 [==============================] - 3s 130us/step - loss: 0.2812 - acc: 0.8812 - val_loss: 0.5952 - val_acc: 0.7398\n"
     ]
    },
    {
     "data": {
      "text/plain": [
       "<keras.callbacks.History at 0x1755bcdb048>"
      ]
     },
     "execution_count": 5,
     "metadata": {},
     "output_type": "execute_result"
    }
   ],
   "source": [
    "from keras.layers import LSTM\n",
    "model = Sequential()\n",
    "model.add(Embedding(max_features, 32))\n",
    "model.add(LSTM(32))\n",
    "model.add(Dense(1, activation='sigmoid'))\n",
    "model.compile(optimizer='rmsprop', loss='binary_crossentropy', metrics=['acc'])\n",
    "model.fit(X_train, y_train, epochs=10, batch_size=128,validation_split=0.2)"
   ]
  },
  {
   "cell_type": "code",
   "execution_count": 6,
   "metadata": {},
   "outputs": [
    {
     "name": "stdout",
     "output_type": "stream",
     "text": [
      "Test loss: 0.5907217504501343\n",
      "Test accuracy: 0.74824\n"
     ]
    }
   ],
   "source": [
    "score = model.evaluate(X_test, y_test, verbose=0)\n",
    "print('Test loss:', score[0])\n",
    "print('Test accuracy:', score[1])"
   ]
  }
 ],
 "metadata": {
  "kernelspec": {
   "display_name": "Python 3",
   "language": "python",
   "name": "python3"
  },
  "language_info": {
   "codemirror_mode": {
    "name": "ipython",
    "version": 3
   },
   "file_extension": ".py",
   "mimetype": "text/x-python",
   "name": "python",
   "nbconvert_exporter": "python",
   "pygments_lexer": "ipython3",
   "version": "3.6.4"
  }
 },
 "nbformat": 4,
 "nbformat_minor": 2
}
