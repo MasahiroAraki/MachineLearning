{
 "cells": [
  {
   "cell_type": "markdown",
   "metadata": {},
   "source": [
    "## 実践問題14-3\n",
    "\n",
    "  scikit-learnのLabelPropagationアルゴリズムにおいて、データの類似度計算法を変更し、性能の変化を確認せよ。"
   ]
  },
  {
   "cell_type": "markdown",
   "metadata": {},
   "source": [
    "警告を非表示に"
   ]
  },
  {
   "cell_type": "code",
   "execution_count": 14,
   "metadata": {},
   "outputs": [],
   "source": [
    "import warnings\n",
    "warnings.filterwarnings('ignore')"
   ]
  },
  {
   "cell_type": "markdown",
   "metadata": {},
   "source": [
    "ライブラリの読み込み"
   ]
  },
  {
   "cell_type": "code",
   "execution_count": 15,
   "metadata": {},
   "outputs": [],
   "source": [
    "import numpy as np\n",
    "from sklearn.datasets import load_iris\n",
    "from sklearn.semi_supervised import LabelPropagation"
   ]
  },
  {
   "cell_type": "markdown",
   "metadata": {},
   "source": [
    "irisデータの読み込み"
   ]
  },
  {
   "cell_type": "code",
   "execution_count": 16,
   "metadata": {},
   "outputs": [],
   "source": [
    "iris = load_iris()\n",
    "X = iris.data\n",
    "y = iris.target"
   ]
  },
  {
   "cell_type": "markdown",
   "metadata": {},
   "source": [
    "### 類似度計算法の異なるモデルインスタンスの作成\n",
    "\n",
    "類似度計算にはknn法とrbfカーネルがあります。それぞれ、n_neighborsの値とgammaの値が変更可能です。"
   ]
  },
  {
   "cell_type": "code",
   "execution_count": 17,
   "metadata": {},
   "outputs": [],
   "source": [
    "lp1 = LabelPropagation(kernel='knn', n_neighbors=1)\n",
    "lp2 = LabelPropagation(kernel='knn', n_neighbors=3)\n",
    "lp3 = LabelPropagation(kernel='knn', n_neighbors=5)\n",
    "lp4 = LabelPropagation(kernel='rbf', gamma=0.1)\n",
    "lp5 = LabelPropagation(kernel='rbf', gamma=1.0)\n",
    "lp6 = LabelPropagation(kernel='rbf', gamma=10)"
   ]
  },
  {
   "cell_type": "markdown",
   "metadata": {},
   "source": [
    "正解付きデータを5%, 10%, 20%, 30%と変えて、それぞれ100回ずつ学習を試みて性能を評価します。"
   ]
  },
  {
   "cell_type": "code",
   "execution_count": 18,
   "metadata": {},
   "outputs": [
    {
     "name": "stdout",
     "output_type": "stream",
     "text": [
      "1-nn\n",
      "labeled: 5.0%, score= 0.367\n",
      "labeled:10.0%, score= 0.398\n",
      "labeled:20.0%, score= 0.468\n",
      "labeled:30.0%, score= 0.536\n",
      "3-nn\n",
      "labeled: 5.0%, score= 0.365\n",
      "labeled:10.0%, score= 0.405\n",
      "labeled:20.0%, score= 0.477\n",
      "labeled:30.0%, score= 0.592\n",
      "5-nn\n",
      "labeled: 5.0%, score= 0.336\n",
      "labeled:10.0%, score= 0.341\n",
      "labeled:20.0%, score= 0.390\n",
      "labeled:30.0%, score= 0.499\n",
      "rbf 0.1\n",
      "labeled: 5.0%, score= 0.390\n",
      "labeled:10.0%, score= 0.481\n",
      "labeled:20.0%, score= 0.636\n",
      "labeled:30.0%, score= 0.729\n",
      "rbf 1.0\n",
      "labeled: 5.0%, score= 0.719\n",
      "labeled:10.0%, score= 0.778\n",
      "labeled:20.0%, score= 0.879\n",
      "labeled:30.0%, score= 0.913\n",
      "rbf 10\n",
      "labeled: 5.0%, score= 0.844\n",
      "labeled:10.0%, score= 0.924\n",
      "labeled:20.0%, score= 0.962\n",
      "labeled:30.0%, score= 0.969\n"
     ]
    }
   ],
   "source": [
    "labeled_percent = [0.05, 0.1, 0.2, 0.3]\n",
    "lps = [lp1, lp2, lp3, lp4, lp5, lp6]\n",
    "settings = ['1-nn', '3-nn', '5-nn', 'rbf 0.1', 'rbf 1.0', 'rbf 10']\n",
    "num = y.size\n",
    "for lp, setting in zip(lps, settings) :\n",
    "  print(setting)\n",
    "  for labeled in labeled_percent :\n",
    "    score = 0\n",
    "    for i in range(100):\n",
    "      unlabeled_points = np.random.choice(np.arange(num),int(num-num*labeled), replace=False)\n",
    "      labels = np.copy(y)\n",
    "      labels[unlabeled_points] = -1\n",
    "      lp.fit(X, labels)\n",
    "      score += lp.score(X, y)\n",
    "    print(\"{0}{1:4.1f}{2}{3:6.3f}\".format(\"labeled:\", labeled*100, \"%, score=\", score/100))"
   ]
  }
 ],
 "metadata": {
  "anaconda-cloud": {},
  "kernelspec": {
   "display_name": "Python 3",
   "language": "python",
   "name": "python3"
  },
  "language_info": {
   "codemirror_mode": {
    "name": "ipython",
    "version": 3
   },
   "file_extension": ".py",
   "mimetype": "text/x-python",
   "name": "python",
   "nbconvert_exporter": "python",
   "pygments_lexer": "ipython3",
   "version": "3.6.4"
  }
 },
 "nbformat": 4,
 "nbformat_minor": 1
}
