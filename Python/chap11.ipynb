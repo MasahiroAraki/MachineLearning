{
  "nbformat": 4,
  "nbformat_minor": 0,
  "metadata": {
    "colab": {
      "provenance": []
    },
    "language_info": {
      "codemirror_mode": {
        "name": "ipython",
        "version": 3
      },
      "file_extension": ".py",
      "mimetype": "text/x-python",
      "name": "python",
      "nbconvert_exporter": "python",
      "pygments_lexer": "ipython3",
      "version": "3.7.6-final"
    },
    "kernelspec": {
      "name": "python3",
      "display_name": "Python 3"
    }
  },
  "cells": [
    {
      "cell_type": "markdown",
      "metadata": {
        "id": "R0mNWg2cge5y"
      },
      "source": [
        "<a href=\"https://colab.research.google.com/github/MasahiroAraki/MachineLearning/blob/master/Python/chap11.ipynb\" target=\"_parent\"><img src=\"https://colab.research.google.com/assets/colab-badge.svg\" alt=\"Open In Colab\"/></a>"
      ]
    },
    {
      "cell_type": "markdown",
      "metadata": {
        "id": "12nkNgPYm5ld"
      },
      "source": [
        "# 第11章 モデル推定"
      ]
    },
    {
      "cell_type": "markdown",
      "metadata": {
        "id": "vAIOcfH5IyHp"
      },
      "source": [
        "## 例題11.3\n",
        "\n",
        "scikit-learn付属のirisデータからsepallength（0次元目）とsepalwidth（1次元目）特徴を抜き出して2次元教師なしデータを作成し、クラスタリングを行います。"
      ]
    },
    {
      "cell_type": "markdown",
      "metadata": {
        "id": "aCPgJB4BIyHr"
      },
      "source": [
        "ライブラリの読み込み"
      ]
    },
    {
      "cell_type": "code",
      "metadata": {
        "id": "0QjqjI4BIyHt"
      },
      "source": [
        "import numpy as np\n",
        "import matplotlib.pyplot as plt\n",
        "from sklearn.datasets import load_iris\n",
        "from sklearn.cluster import AgglomerativeClustering, KMeans, AffinityPropagation\n",
        "from sklearn.mixture import GaussianMixture"
      ],
      "execution_count": 1,
      "outputs": []
    },
    {
      "cell_type": "markdown",
      "metadata": {
        "id": "HwLhEwYQIyHz"
      },
      "source": [
        "(1)データの読み込み、(2)0次元目と1次元目の抜き出し を行います。"
      ]
    },
    {
      "cell_type": "code",
      "metadata": {
        "id": "StvZxNHlIyH1"
      },
      "source": [
        "iris = load_iris()\n",
        "X = iris.data[:,0:2]"
      ],
      "execution_count": 2,
      "outputs": []
    },
    {
      "cell_type": "markdown",
      "metadata": {
        "id": "Ga22mvSWIyIA"
      },
      "source": [
        "クラスタリング結果のプロットを関数にしておきます。"
      ]
    },
    {
      "cell_type": "code",
      "metadata": {
        "id": "tvHP8Z7tIyIC"
      },
      "source": [
        "def result_plot(X, y):\n",
        "  '''\n",
        "  Xは2次元に限定、yは各データのクラスタ番号\n",
        "  '''\n",
        "  for t in set(y):\n",
        "    plt.scatter(X[y==t,0], X[y==t,1])\n",
        "  plt.legend(set(y))"
      ],
      "execution_count": 3,
      "outputs": []
    },
    {
      "cell_type": "markdown",
      "source": [
        "正解をプロットします。もちろんデータをまとめる処理のみではこの結果を得ることはできません。"
      ],
      "metadata": {
        "id": "dswIyrZ4WgLf"
      }
    },
    {
      "cell_type": "code",
      "source": [
        "result_plot(X, iris.target)"
      ],
      "metadata": {
        "colab": {
          "base_uri": "https://localhost:8080/",
          "height": 433
        },
        "id": "9-e743pqShwa",
        "outputId": "92052892-c15c-4904-99ca-dd3f46ef79ff"
      },
      "execution_count": 4,
      "outputs": [
        {
          "output_type": "display_data",
          "data": {
            "text/plain": [
              "<Figure size 640x480 with 1 Axes>"
            ],
            "image/png": "[encoded data removed]"
          },
          "metadata": {}
        }
      ]
    },
    {
      "cell_type": "markdown",
      "metadata": {
        "id": "JZ6qgE-hIyIJ"
      },
      "source": [
        "### 階層的クラスタリング\n",
        "\n",
        "[AgglomerativeClustering](http://scikit-learn.org/stable/modules/generated/sklearn.cluster.AgglomerativeClustering.html)を用いて階層的クラスタリングを行います。クラスタ数が3になったところで処理を止めます。"
      ]
    },
    {
      "cell_type": "code",
      "metadata": {
        "id": "sI6eMDBIIyIK",
        "outputId": "6cc8bfa1-d091-468e-b602-d1056299d41b",
        "colab": {
          "base_uri": "https://localhost:8080/",
          "height": 74
        }
      },
      "source": [
        "ac = AgglomerativeClustering(n_clusters=3)\n",
        "ac.fit(X)"
      ],
      "execution_count": 5,
      "outputs": [
        {
          "output_type": "execute_result",
          "data": {
            "text/plain": [
              "AgglomerativeClustering(n_clusters=3)"
            ],
            "text/html": [
              "<style>#sk-container-id-1 {color: black;background-color: white;}#sk-container-id-1 pre{padding: 0;}#sk-container-id-1 div.sk-toggleable {background-color: white;}#sk-container-id-1 label.sk-toggleable__label {cursor: pointer;display: block;width: 100%;margin-bottom: 0;padding: 0.3em;box-sizing: border-box;text-align: center;}#sk-container-id-1 label.sk-toggleable__label-arrow:before {content: \"▸\";float: left;margin-right: 0.25em;color: #696969;}#sk-container-id-1 label.sk-toggleable__label-arrow:hover:before {color: black;}#sk-container-id-1 div.sk-estimator:hover label.sk-toggleable__label-arrow:before {color: black;}#sk-container-id-1 div.sk-toggleable__content {max-height: 0;max-width: 0;overflow: hidden;text-align: left;background-color: #f0f8ff;}#sk-container-id-1 div.sk-toggleable__content pre {margin: 0.2em;color: black;border-radius: 0.25em;background-color: #f0f8ff;}#sk-container-id-1 input.sk-toggleable__control:checked~div.sk-toggleable__content {max-height: 200px;max-width: 100%;overflow: auto;}#sk-container-id-1 input.sk-toggleable__control:checked~label.sk-toggleable__label-arrow:before {content: \"▾\";}#sk-container-id-1 div.sk-estimator input.sk-toggleable__control:checked~label.sk-toggleable__label {background-color: #d4ebff;}#sk-container-id-1 div.sk-label input.sk-toggleable__control:checked~label.sk-toggleable__label {background-color: #d4ebff;}#sk-container-id-1 input.sk-hidden--visually {border: 0;clip: rect(1px 1px 1px 1px);clip: rect(1px, 1px, 1px, 1px);height: 1px;margin: -1px;overflow: hidden;padding: 0;position: absolute;width: 1px;}#sk-container-id-1 div.sk-estimator {font-family: monospace;background-color: #f0f8ff;border: 1px dotted black;border-radius: 0.25em;box-sizing: border-box;margin-bottom: 0.5em;}#sk-container-id-1 div.sk-estimator:hover {background-color: #d4ebff;}#sk-container-id-1 div.sk-parallel-item::after {content: \"\";width: 100%;border-bottom: 1px solid gray;flex-grow: 1;}#sk-container-id-1 div.sk-label:hover label.sk-toggleable__label {background-color: #d4ebff;}#sk-container-id-1 div.sk-serial::before {content: \"\";position: absolute;border-left: 1px solid gray;box-sizing: border-box;top: 0;bottom: 0;left: 50%;z-index: 0;}#sk-container-id-1 div.sk-serial {display: flex;flex-direction: column;align-items: center;background-color: white;padding-right: 0.2em;padding-left: 0.2em;position: relative;}#sk-container-id-1 div.sk-item {position: relative;z-index: 1;}#sk-container-id-1 div.sk-parallel {display: flex;align-items: stretch;justify-content: center;background-color: white;position: relative;}#sk-container-id-1 div.sk-item::before, #sk-container-id-1 div.sk-parallel-item::before {content: \"\";position: absolute;border-left: 1px solid gray;box-sizing: border-box;top: 0;bottom: 0;left: 50%;z-index: -1;}#sk-container-id-1 div.sk-parallel-item {display: flex;flex-direction: column;z-index: 1;position: relative;background-color: white;}#sk-container-id-1 div.sk-parallel-item:first-child::after {align-self: flex-end;width: 50%;}#sk-container-id-1 div.sk-parallel-item:last-child::after {align-self: flex-start;width: 50%;}#sk-container-id-1 div.sk-parallel-item:only-child::after {width: 0;}#sk-container-id-1 div.sk-dashed-wrapped {border: 1px dashed gray;margin: 0 0.4em 0.5em 0.4em;box-sizing: border-box;padding-bottom: 0.4em;background-color: white;}#sk-container-id-1 div.sk-label label {font-family: monospace;font-weight: bold;display: inline-block;line-height: 1.2em;}#sk-container-id-1 div.sk-label-container {text-align: center;}#sk-container-id-1 div.sk-container {/* jupyter's `normalize.less` sets `[hidden] { display: none; }` but bootstrap.min.css set `[hidden] { display: none !important; }` so we also need the `!important` here to be able to override the default hidden behavior on the sphinx rendered scikit-learn.org. See: https://github.com/scikit-learn/scikit-learn/issues/21755 */display: inline-block !important;position: relative;}#sk-container-id-1 div.sk-text-repr-fallback {display: none;}</style><div id=\"sk-container-id-1\" class=\"sk-top-container\"><div class=\"sk-text-repr-fallback\"><pre>AgglomerativeClustering(n_clusters=3)</pre><b>In a Jupyter environment, please rerun this cell to show the HTML representation or trust the notebook. <br />On GitHub, the HTML representation is unable to render, please try loading this page with nbviewer.org.</b></div><div class=\"sk-container\" hidden><div class=\"sk-item\"><div class=\"sk-estimator sk-toggleable\"><input class=\"sk-toggleable__control sk-hidden--visually\" id=\"sk-estimator-id-1\" type=\"checkbox\" checked><label for=\"sk-estimator-id-1\" class=\"sk-toggleable__label sk-toggleable__label-arrow\">AgglomerativeClustering</label><div class=\"sk-toggleable__content\"><pre>AgglomerativeClustering(n_clusters=3)</pre></div></div></div></div></div>"
            ]
          },
          "metadata": {},
          "execution_count": 5
        }
      ]
    },
    {
      "cell_type": "markdown",
      "metadata": {
        "id": "rX94D1nLIyIW"
      },
      "source": [
        "散布図をプロットして結果を確認します。"
      ]
    },
    {
      "cell_type": "code",
      "metadata": {
        "id": "vOuU2_BvIyIX",
        "outputId": "33a8c22a-7c9a-48c0-f21a-e4e505518706",
        "colab": {
          "base_uri": "https://localhost:8080/",
          "height": 433
        }
      },
      "source": [
        "result_plot(X, ac.labels_)"
      ],
      "execution_count": 6,
      "outputs": [
        {
          "output_type": "display_data",
          "data": {
            "text/plain": [
              "<Figure size 640x480 with 1 Axes>"
            ],
            "image/png": "[encoded data removed]"
          },
          "metadata": {}
        }
      ]
    },
    {
      "cell_type": "markdown",
      "source": [
        "類似度はAgglomerativeClusteringの引数linkageで指定します。可能な値は'ward', 'complete', 'average', 'single' で、デフォルトは 'ward' です。"
      ],
      "metadata": {
        "id": "HZ0ccMSRRgCq"
      }
    },
    {
      "cell_type": "code",
      "source": [
        "ac = AgglomerativeClustering(linkage='average', n_clusters=3)\n",
        "ac.fit(X)\n",
        "result_plot(X, ac.labels_)"
      ],
      "metadata": {
        "colab": {
          "base_uri": "https://localhost:8080/",
          "height": 433
        },
        "id": "Pf2IvuEnRgXx",
        "outputId": "78b027f1-7850-4e92-aedc-689444d27aa9"
      },
      "execution_count": 7,
      "outputs": [
        {
          "output_type": "display_data",
          "data": {
            "text/plain": [
              "<Figure size 640x480 with 1 Axes>"
            ],
            "image/png": "[encoded data removed]"
          },
          "metadata": {}
        }
      ]
    },
    {
      "cell_type": "markdown",
      "metadata": {
        "id": "_kWYAB9uIyId"
      },
      "source": [
        "### k-meansクラスタリング\n",
        "\n",
        "[KMeans](http://scikit-learn.org/stable/modules/generated/sklearn.cluster.KMeans.html)を用いて分割最適化クラスタリングを行います。クラスタ数3は予め与えておく必要があります。"
      ]
    },
    {
      "cell_type": "code",
      "metadata": {
        "id": "FiLAWqhVIyIe",
        "outputId": "bc84ee16-cb43-4181-fbcd-21cacd9350a9",
        "colab": {
          "base_uri": "https://localhost:8080/",
          "height": 130
        }
      },
      "source": [
        "km = KMeans(n_clusters = 3)\n",
        "km.fit(X)"
      ],
      "execution_count": 8,
      "outputs": [
        {
          "output_type": "stream",
          "name": "stderr",
          "text": [
            "/usr/local/lib/python3.10/dist-packages/sklearn/cluster/_kmeans.py:870: FutureWarning: The default value of `n_init` will change from 10 to 'auto' in 1.4. Set the value of `n_init` explicitly to suppress the warning\n",
            "  warnings.warn(\n"
          ]
        },
        {
          "output_type": "execute_result",
          "data": {
            "text/plain": [
              "KMeans(n_clusters=3)"
            ],
            "text/html": [
              "<style>#sk-container-id-2 {color: black;background-color: white;}#sk-container-id-2 pre{padding: 0;}#sk-container-id-2 div.sk-toggleable {background-color: white;}#sk-container-id-2 label.sk-toggleable__label {cursor: pointer;display: block;width: 100%;margin-bottom: 0;padding: 0.3em;box-sizing: border-box;text-align: center;}#sk-container-id-2 label.sk-toggleable__label-arrow:before {content: \"▸\";float: left;margin-right: 0.25em;color: #696969;}#sk-container-id-2 label.sk-toggleable__label-arrow:hover:before {color: black;}#sk-container-id-2 div.sk-estimator:hover label.sk-toggleable__label-arrow:before {color: black;}#sk-container-id-2 div.sk-toggleable__content {max-height: 0;max-width: 0;overflow: hidden;text-align: left;background-color: #f0f8ff;}#sk-container-id-2 div.sk-toggleable__content pre {margin: 0.2em;color: black;border-radius: 0.25em;background-color: #f0f8ff;}#sk-container-id-2 input.sk-toggleable__control:checked~div.sk-toggleable__content {max-height: 200px;max-width: 100%;overflow: auto;}#sk-container-id-2 input.sk-toggleable__control:checked~label.sk-toggleable__label-arrow:before {content: \"▾\";}#sk-container-id-2 div.sk-estimator input.sk-toggleable__control:checked~label.sk-toggleable__label {background-color: #d4ebff;}#sk-container-id-2 div.sk-label input.sk-toggleable__control:checked~label.sk-toggleable__label {background-color: #d4ebff;}#sk-container-id-2 input.sk-hidden--visually {border: 0;clip: rect(1px 1px 1px 1px);clip: rect(1px, 1px, 1px, 1px);height: 1px;margin: -1px;overflow: hidden;padding: 0;position: absolute;width: 1px;}#sk-container-id-2 div.sk-estimator {font-family: monospace;background-color: #f0f8ff;border: 1px dotted black;border-radius: 0.25em;box-sizing: border-box;margin-bottom: 0.5em;}#sk-container-id-2 div.sk-estimator:hover {background-color: #d4ebff;}#sk-container-id-2 div.sk-parallel-item::after {content: \"\";width: 100%;border-bottom: 1px solid gray;flex-grow: 1;}#sk-container-id-2 div.sk-label:hover label.sk-toggleable__label {background-color: #d4ebff;}#sk-container-id-2 div.sk-serial::before {content: \"\";position: absolute;border-left: 1px solid gray;box-sizing: border-box;top: 0;bottom: 0;left: 50%;z-index: 0;}#sk-container-id-2 div.sk-serial {display: flex;flex-direction: column;align-items: center;background-color: white;padding-right: 0.2em;padding-left: 0.2em;position: relative;}#sk-container-id-2 div.sk-item {position: relative;z-index: 1;}#sk-container-id-2 div.sk-parallel {display: flex;align-items: stretch;justify-content: center;background-color: white;position: relative;}#sk-container-id-2 div.sk-item::before, #sk-container-id-2 div.sk-parallel-item::before {content: \"\";position: absolute;border-left: 1px solid gray;box-sizing: border-box;top: 0;bottom: 0;left: 50%;z-index: -1;}#sk-container-id-2 div.sk-parallel-item {display: flex;flex-direction: column;z-index: 1;position: relative;background-color: white;}#sk-container-id-2 div.sk-parallel-item:first-child::after {align-self: flex-end;width: 50%;}#sk-container-id-2 div.sk-parallel-item:last-child::after {align-self: flex-start;width: 50%;}#sk-container-id-2 div.sk-parallel-item:only-child::after {width: 0;}#sk-container-id-2 div.sk-dashed-wrapped {border: 1px dashed gray;margin: 0 0.4em 0.5em 0.4em;box-sizing: border-box;padding-bottom: 0.4em;background-color: white;}#sk-container-id-2 div.sk-label label {font-family: monospace;font-weight: bold;display: inline-block;line-height: 1.2em;}#sk-container-id-2 div.sk-label-container {text-align: center;}#sk-container-id-2 div.sk-container {/* jupyter's `normalize.less` sets `[hidden] { display: none; }` but bootstrap.min.css set `[hidden] { display: none !important; }` so we also need the `!important` here to be able to override the default hidden behavior on the sphinx rendered scikit-learn.org. See: https://github.com/scikit-learn/scikit-learn/issues/21755 */display: inline-block !important;position: relative;}#sk-container-id-2 div.sk-text-repr-fallback {display: none;}</style><div id=\"sk-container-id-2\" class=\"sk-top-container\"><div class=\"sk-text-repr-fallback\"><pre>KMeans(n_clusters=3)</pre><b>In a Jupyter environment, please rerun this cell to show the HTML representation or trust the notebook. <br />On GitHub, the HTML representation is unable to render, please try loading this page with nbviewer.org.</b></div><div class=\"sk-container\" hidden><div class=\"sk-item\"><div class=\"sk-estimator sk-toggleable\"><input class=\"sk-toggleable__control sk-hidden--visually\" id=\"sk-estimator-id-2\" type=\"checkbox\" checked><label for=\"sk-estimator-id-2\" class=\"sk-toggleable__label sk-toggleable__label-arrow\">KMeans</label><div class=\"sk-toggleable__content\"><pre>KMeans(n_clusters=3)</pre></div></div></div></div></div>"
            ]
          },
          "metadata": {},
          "execution_count": 8
        }
      ]
    },
    {
      "cell_type": "markdown",
      "metadata": {
        "collapsed": true,
        "id": "yMCyNGW9IyIq"
      },
      "source": [
        "散布図をプロットして結果を確認します。"
      ]
    },
    {
      "cell_type": "code",
      "metadata": {
        "id": "AV1yLRYeIyIs",
        "outputId": "4da97f47-424e-4f32-8e1b-94b11334d5c7",
        "colab": {
          "base_uri": "https://localhost:8080/",
          "height": 295
        }
      },
      "source": [
        "plt.figure(figsize=(4,3))\n",
        "result_plot(X, km.labels_)"
      ],
      "execution_count": 9,
      "outputs": [
        {
          "output_type": "display_data",
          "data": {
            "text/plain": [
              "<Figure size 400x300 with 1 Axes>"
            ],
            "image/png": "[encoded data removed]"
          },
          "metadata": {}
        }
      ]
    },
    {
      "cell_type": "markdown",
      "metadata": {
        "id": "AvMGfRTtIyIy"
      },
      "source": [
        "## 例題11.5\n",
        "\n",
        "### クラスタ数決定の自動化 Affinity Propagation\n",
        "\n",
        " [AffinityPropagation](http://scikit-learn.org/stable/modules/generated/sklearn.cluster.AffinityPropagation.html)はすべてのノード間で「類似度」と「クラスタ中心になりやすさ」の情報を交換しながらクラスタリングを行う手法です。クラスタ数（すなわちクラスタ中心の数）を事前に決める必要はありません。"
      ]
    },
    {
      "cell_type": "code",
      "metadata": {
        "id": "EIVX5CVIIyIz",
        "outputId": "22a4d4f3-0f16-46aa-b70b-1b9b72324f66",
        "colab": {
          "base_uri": "https://localhost:8080/",
          "height": 74
        }
      },
      "source": [
        "ap=AffinityPropagation()\n",
        "ap.fit(X)"
      ],
      "execution_count": 10,
      "outputs": [
        {
          "output_type": "execute_result",
          "data": {
            "text/plain": [
              "AffinityPropagation()"
            ],
            "text/html": [
              "<style>#sk-container-id-3 {color: black;background-color: white;}#sk-container-id-3 pre{padding: 0;}#sk-container-id-3 div.sk-toggleable {background-color: white;}#sk-container-id-3 label.sk-toggleable__label {cursor: pointer;display: block;width: 100%;margin-bottom: 0;padding: 0.3em;box-sizing: border-box;text-align: center;}#sk-container-id-3 label.sk-toggleable__label-arrow:before {content: \"▸\";float: left;margin-right: 0.25em;color: #696969;}#sk-container-id-3 label.sk-toggleable__label-arrow:hover:before {color: black;}#sk-container-id-3 div.sk-estimator:hover label.sk-toggleable__label-arrow:before {color: black;}#sk-container-id-3 div.sk-toggleable__content {max-height: 0;max-width: 0;overflow: hidden;text-align: left;background-color: #f0f8ff;}#sk-container-id-3 div.sk-toggleable__content pre {margin: 0.2em;color: black;border-radius: 0.25em;background-color: #f0f8ff;}#sk-container-id-3 input.sk-toggleable__control:checked~div.sk-toggleable__content {max-height: 200px;max-width: 100%;overflow: auto;}#sk-container-id-3 input.sk-toggleable__control:checked~label.sk-toggleable__label-arrow:before {content: \"▾\";}#sk-container-id-3 div.sk-estimator input.sk-toggleable__control:checked~label.sk-toggleable__label {background-color: #d4ebff;}#sk-container-id-3 div.sk-label input.sk-toggleable__control:checked~label.sk-toggleable__label {background-color: #d4ebff;}#sk-container-id-3 input.sk-hidden--visually {border: 0;clip: rect(1px 1px 1px 1px);clip: rect(1px, 1px, 1px, 1px);height: 1px;margin: -1px;overflow: hidden;padding: 0;position: absolute;width: 1px;}#sk-container-id-3 div.sk-estimator {font-family: monospace;background-color: #f0f8ff;border: 1px dotted black;border-radius: 0.25em;box-sizing: border-box;margin-bottom: 0.5em;}#sk-container-id-3 div.sk-estimator:hover {background-color: #d4ebff;}#sk-container-id-3 div.sk-parallel-item::after {content: \"\";width: 100%;border-bottom: 1px solid gray;flex-grow: 1;}#sk-container-id-3 div.sk-label:hover label.sk-toggleable__label {background-color: #d4ebff;}#sk-container-id-3 div.sk-serial::before {content: \"\";position: absolute;border-left: 1px solid gray;box-sizing: border-box;top: 0;bottom: 0;left: 50%;z-index: 0;}#sk-container-id-3 div.sk-serial {display: flex;flex-direction: column;align-items: center;background-color: white;padding-right: 0.2em;padding-left: 0.2em;position: relative;}#sk-container-id-3 div.sk-item {position: relative;z-index: 1;}#sk-container-id-3 div.sk-parallel {display: flex;align-items: stretch;justify-content: center;background-color: white;position: relative;}#sk-container-id-3 div.sk-item::before, #sk-container-id-3 div.sk-parallel-item::before {content: \"\";position: absolute;border-left: 1px solid gray;box-sizing: border-box;top: 0;bottom: 0;left: 50%;z-index: -1;}#sk-container-id-3 div.sk-parallel-item {display: flex;flex-direction: column;z-index: 1;position: relative;background-color: white;}#sk-container-id-3 div.sk-parallel-item:first-child::after {align-self: flex-end;width: 50%;}#sk-container-id-3 div.sk-parallel-item:last-child::after {align-self: flex-start;width: 50%;}#sk-container-id-3 div.sk-parallel-item:only-child::after {width: 0;}#sk-container-id-3 div.sk-dashed-wrapped {border: 1px dashed gray;margin: 0 0.4em 0.5em 0.4em;box-sizing: border-box;padding-bottom: 0.4em;background-color: white;}#sk-container-id-3 div.sk-label label {font-family: monospace;font-weight: bold;display: inline-block;line-height: 1.2em;}#sk-container-id-3 div.sk-label-container {text-align: center;}#sk-container-id-3 div.sk-container {/* jupyter's `normalize.less` sets `[hidden] { display: none; }` but bootstrap.min.css set `[hidden] { display: none !important; }` so we also need the `!important` here to be able to override the default hidden behavior on the sphinx rendered scikit-learn.org. See: https://github.com/scikit-learn/scikit-learn/issues/21755 */display: inline-block !important;position: relative;}#sk-container-id-3 div.sk-text-repr-fallback {display: none;}</style><div id=\"sk-container-id-3\" class=\"sk-top-container\"><div class=\"sk-text-repr-fallback\"><pre>AffinityPropagation()</pre><b>In a Jupyter environment, please rerun this cell to show the HTML representation or trust the notebook. <br />On GitHub, the HTML representation is unable to render, please try loading this page with nbviewer.org.</b></div><div class=\"sk-container\" hidden><div class=\"sk-item\"><div class=\"sk-estimator sk-toggleable\"><input class=\"sk-toggleable__control sk-hidden--visually\" id=\"sk-estimator-id-3\" type=\"checkbox\" checked><label for=\"sk-estimator-id-3\" class=\"sk-toggleable__label sk-toggleable__label-arrow\">AffinityPropagation</label><div class=\"sk-toggleable__content\"><pre>AffinityPropagation()</pre></div></div></div></div></div>"
            ]
          },
          "metadata": {},
          "execution_count": 10
        }
      ]
    },
    {
      "cell_type": "markdown",
      "metadata": {
        "id": "iSQAsTa8IyI5"
      },
      "source": [
        "apインスタンスのcluster_centers\\_属性の値は、クラスタ中心となるデータ番号のリストです。\n"
      ]
    },
    {
      "cell_type": "code",
      "metadata": {
        "id": "X3d_egV7IyI6",
        "outputId": "d3ace97b-6226-4b01-ea69-5832ecc718c1",
        "colab": {
          "base_uri": "https://localhost:8080/"
        }
      },
      "source": [
        "ap.cluster_centers_indices_"
      ],
      "execution_count": 11,
      "outputs": [
        {
          "output_type": "execute_result",
          "data": {
            "text/plain": [
              "array([  2,  17,  33,  51,  57,  87,  94,  97, 117, 130, 141])"
            ]
          },
          "metadata": {},
          "execution_count": 11
        }
      ]
    },
    {
      "cell_type": "markdown",
      "metadata": {
        "id": "deHYaM0eIyJB"
      },
      "source": [
        "散布図をプロットして結果を確認します。"
      ]
    },
    {
      "cell_type": "code",
      "metadata": {
        "id": "5BYWCNxBIyJC",
        "outputId": "9c435132-9e0f-4aae-acb7-b3517273d7c9",
        "colab": {
          "base_uri": "https://localhost:8080/",
          "height": 295
        }
      },
      "source": [
        "plt.figure(figsize=(4,3))\n",
        "result_plot(X, ap.labels_)"
      ],
      "execution_count": 12,
      "outputs": [
        {
          "output_type": "display_data",
          "data": {
            "text/plain": [
              "<Figure size 400x300 with 1 Axes>"
            ],
            "image/png": "[encoded data removed]"
          },
          "metadata": {}
        }
      ]
    },
    {
      "cell_type": "markdown",
      "metadata": {
        "id": "YDXqKBgF7oTQ"
      },
      "source": [
        "パラメータpreferenceは各データの中心としての選ばれやすさを表すので、負の値を設定すれば、その絶対値に応じてクラスタ数が少なくなります。"
      ]
    },
    {
      "cell_type": "code",
      "metadata": {
        "id": "vEn2OTMxpAGp",
        "outputId": "7eab154c-3cad-4b2b-ae04-3d92ec2b5cdd",
        "colab": {
          "base_uri": "https://localhost:8080/",
          "height": 74
        }
      },
      "source": [
        "ap2 = AffinityPropagation(preference=-18)\n",
        "ap2.fit(X)"
      ],
      "execution_count": 13,
      "outputs": [
        {
          "output_type": "execute_result",
          "data": {
            "text/plain": [
              "AffinityPropagation(preference=-18)"
            ],
            "text/html": [
              "<style>#sk-container-id-4 {color: black;background-color: white;}#sk-container-id-4 pre{padding: 0;}#sk-container-id-4 div.sk-toggleable {background-color: white;}#sk-container-id-4 label.sk-toggleable__label {cursor: pointer;display: block;width: 100%;margin-bottom: 0;padding: 0.3em;box-sizing: border-box;text-align: center;}#sk-container-id-4 label.sk-toggleable__label-arrow:before {content: \"▸\";float: left;margin-right: 0.25em;color: #696969;}#sk-container-id-4 label.sk-toggleable__label-arrow:hover:before {color: black;}#sk-container-id-4 div.sk-estimator:hover label.sk-toggleable__label-arrow:before {color: black;}#sk-container-id-4 div.sk-toggleable__content {max-height: 0;max-width: 0;overflow: hidden;text-align: left;background-color: #f0f8ff;}#sk-container-id-4 div.sk-toggleable__content pre {margin: 0.2em;color: black;border-radius: 0.25em;background-color: #f0f8ff;}#sk-container-id-4 input.sk-toggleable__control:checked~div.sk-toggleable__content {max-height: 200px;max-width: 100%;overflow: auto;}#sk-container-id-4 input.sk-toggleable__control:checked~label.sk-toggleable__label-arrow:before {content: \"▾\";}#sk-container-id-4 div.sk-estimator input.sk-toggleable__control:checked~label.sk-toggleable__label {background-color: #d4ebff;}#sk-container-id-4 div.sk-label input.sk-toggleable__control:checked~label.sk-toggleable__label {background-color: #d4ebff;}#sk-container-id-4 input.sk-hidden--visually {border: 0;clip: rect(1px 1px 1px 1px);clip: rect(1px, 1px, 1px, 1px);height: 1px;margin: -1px;overflow: hidden;padding: 0;position: absolute;width: 1px;}#sk-container-id-4 div.sk-estimator {font-family: monospace;background-color: #f0f8ff;border: 1px dotted black;border-radius: 0.25em;box-sizing: border-box;margin-bottom: 0.5em;}#sk-container-id-4 div.sk-estimator:hover {background-color: #d4ebff;}#sk-container-id-4 div.sk-parallel-item::after {content: \"\";width: 100%;border-bottom: 1px solid gray;flex-grow: 1;}#sk-container-id-4 div.sk-label:hover label.sk-toggleable__label {background-color: #d4ebff;}#sk-container-id-4 div.sk-serial::before {content: \"\";position: absolute;border-left: 1px solid gray;box-sizing: border-box;top: 0;bottom: 0;left: 50%;z-index: 0;}#sk-container-id-4 div.sk-serial {display: flex;flex-direction: column;align-items: center;background-color: white;padding-right: 0.2em;padding-left: 0.2em;position: relative;}#sk-container-id-4 div.sk-item {position: relative;z-index: 1;}#sk-container-id-4 div.sk-parallel {display: flex;align-items: stretch;justify-content: center;background-color: white;position: relative;}#sk-container-id-4 div.sk-item::before, #sk-container-id-4 div.sk-parallel-item::before {content: \"\";position: absolute;border-left: 1px solid gray;box-sizing: border-box;top: 0;bottom: 0;left: 50%;z-index: -1;}#sk-container-id-4 div.sk-parallel-item {display: flex;flex-direction: column;z-index: 1;position: relative;background-color: white;}#sk-container-id-4 div.sk-parallel-item:first-child::after {align-self: flex-end;width: 50%;}#sk-container-id-4 div.sk-parallel-item:last-child::after {align-self: flex-start;width: 50%;}#sk-container-id-4 div.sk-parallel-item:only-child::after {width: 0;}#sk-container-id-4 div.sk-dashed-wrapped {border: 1px dashed gray;margin: 0 0.4em 0.5em 0.4em;box-sizing: border-box;padding-bottom: 0.4em;background-color: white;}#sk-container-id-4 div.sk-label label {font-family: monospace;font-weight: bold;display: inline-block;line-height: 1.2em;}#sk-container-id-4 div.sk-label-container {text-align: center;}#sk-container-id-4 div.sk-container {/* jupyter's `normalize.less` sets `[hidden] { display: none; }` but bootstrap.min.css set `[hidden] { display: none !important; }` so we also need the `!important` here to be able to override the default hidden behavior on the sphinx rendered scikit-learn.org. See: https://github.com/scikit-learn/scikit-learn/issues/21755 */display: inline-block !important;position: relative;}#sk-container-id-4 div.sk-text-repr-fallback {display: none;}</style><div id=\"sk-container-id-4\" class=\"sk-top-container\"><div class=\"sk-text-repr-fallback\"><pre>AffinityPropagation(preference=-18)</pre><b>In a Jupyter environment, please rerun this cell to show the HTML representation or trust the notebook. <br />On GitHub, the HTML representation is unable to render, please try loading this page with nbviewer.org.</b></div><div class=\"sk-container\" hidden><div class=\"sk-item\"><div class=\"sk-estimator sk-toggleable\"><input class=\"sk-toggleable__control sk-hidden--visually\" id=\"sk-estimator-id-4\" type=\"checkbox\" checked><label for=\"sk-estimator-id-4\" class=\"sk-toggleable__label sk-toggleable__label-arrow\">AffinityPropagation</label><div class=\"sk-toggleable__content\"><pre>AffinityPropagation(preference=-18)</pre></div></div></div></div></div>"
            ]
          },
          "metadata": {},
          "execution_count": 13
        }
      ]
    },
    {
      "cell_type": "code",
      "metadata": {
        "id": "0nMS3Zu2ge6R",
        "colab": {
          "base_uri": "https://localhost:8080/"
        },
        "outputId": "17edfdb5-1216-4800-de5b-9d55c121f427"
      },
      "source": [
        "ap2.cluster_centers_indices_"
      ],
      "execution_count": 14,
      "outputs": [
        {
          "output_type": "execute_result",
          "data": {
            "text/plain": [
              "array([ 49,  73, 125])"
            ]
          },
          "metadata": {},
          "execution_count": 14
        }
      ]
    },
    {
      "cell_type": "code",
      "metadata": {
        "id": "GhZmHgtnpAkB",
        "outputId": "152e255c-83f8-4483-f29b-256a922b75c5",
        "colab": {
          "base_uri": "https://localhost:8080/",
          "height": 433
        }
      },
      "source": [
        "result_plot(X, ap2.labels_)"
      ],
      "execution_count": 15,
      "outputs": [
        {
          "output_type": "display_data",
          "data": {
            "text/plain": [
              "<Figure size 640x480 with 1 Axes>"
            ],
            "image/png": "[encoded data removed]"
          },
          "metadata": {}
        }
      ]
    },
    {
      "cell_type": "markdown",
      "metadata": {
        "id": "JkRiaQNjIyJJ"
      },
      "source": [
        "## 例題11.8\n",
        "\n",
        "### 確率密度推定\n",
        "\n",
        "[GaussianMixture](http://scikit-learn.org/stable/modules/generated/sklearn.mixture.GaussianMixture.html)では、EMアルゴリズムを用いて混合分布によるクラスタリングを行います。クラスタ数は3としておきます。"
      ]
    },
    {
      "cell_type": "code",
      "metadata": {
        "id": "gt1n_ZWDIyJL",
        "outputId": "8200f14f-c567-4205-f646-1dec9b65bbe5",
        "colab": {
          "base_uri": "https://localhost:8080/",
          "height": 74
        }
      },
      "source": [
        "gmm = GaussianMixture(n_components=3, covariance_type='full')\n",
        "gmm.fit(X)"
      ],
      "execution_count": 16,
      "outputs": [
        {
          "output_type": "execute_result",
          "data": {
            "text/plain": [
              "GaussianMixture(n_components=3)"
            ],
            "text/html": [
              "<style>#sk-container-id-5 {color: black;background-color: white;}#sk-container-id-5 pre{padding: 0;}#sk-container-id-5 div.sk-toggleable {background-color: white;}#sk-container-id-5 label.sk-toggleable__label {cursor: pointer;display: block;width: 100%;margin-bottom: 0;padding: 0.3em;box-sizing: border-box;text-align: center;}#sk-container-id-5 label.sk-toggleable__label-arrow:before {content: \"▸\";float: left;margin-right: 0.25em;color: #696969;}#sk-container-id-5 label.sk-toggleable__label-arrow:hover:before {color: black;}#sk-container-id-5 div.sk-estimator:hover label.sk-toggleable__label-arrow:before {color: black;}#sk-container-id-5 div.sk-toggleable__content {max-height: 0;max-width: 0;overflow: hidden;text-align: left;background-color: #f0f8ff;}#sk-container-id-5 div.sk-toggleable__content pre {margin: 0.2em;color: black;border-radius: 0.25em;background-color: #f0f8ff;}#sk-container-id-5 input.sk-toggleable__control:checked~div.sk-toggleable__content {max-height: 200px;max-width: 100%;overflow: auto;}#sk-container-id-5 input.sk-toggleable__control:checked~label.sk-toggleable__label-arrow:before {content: \"▾\";}#sk-container-id-5 div.sk-estimator input.sk-toggleable__control:checked~label.sk-toggleable__label {background-color: #d4ebff;}#sk-container-id-5 div.sk-label input.sk-toggleable__control:checked~label.sk-toggleable__label {background-color: #d4ebff;}#sk-container-id-5 input.sk-hidden--visually {border: 0;clip: rect(1px 1px 1px 1px);clip: rect(1px, 1px, 1px, 1px);height: 1px;margin: -1px;overflow: hidden;padding: 0;position: absolute;width: 1px;}#sk-container-id-5 div.sk-estimator {font-family: monospace;background-color: #f0f8ff;border: 1px dotted black;border-radius: 0.25em;box-sizing: border-box;margin-bottom: 0.5em;}#sk-container-id-5 div.sk-estimator:hover {background-color: #d4ebff;}#sk-container-id-5 div.sk-parallel-item::after {content: \"\";width: 100%;border-bottom: 1px solid gray;flex-grow: 1;}#sk-container-id-5 div.sk-label:hover label.sk-toggleable__label {background-color: #d4ebff;}#sk-container-id-5 div.sk-serial::before {content: \"\";position: absolute;border-left: 1px solid gray;box-sizing: border-box;top: 0;bottom: 0;left: 50%;z-index: 0;}#sk-container-id-5 div.sk-serial {display: flex;flex-direction: column;align-items: center;background-color: white;padding-right: 0.2em;padding-left: 0.2em;position: relative;}#sk-container-id-5 div.sk-item {position: relative;z-index: 1;}#sk-container-id-5 div.sk-parallel {display: flex;align-items: stretch;justify-content: center;background-color: white;position: relative;}#sk-container-id-5 div.sk-item::before, #sk-container-id-5 div.sk-parallel-item::before {content: \"\";position: absolute;border-left: 1px solid gray;box-sizing: border-box;top: 0;bottom: 0;left: 50%;z-index: -1;}#sk-container-id-5 div.sk-parallel-item {display: flex;flex-direction: column;z-index: 1;position: relative;background-color: white;}#sk-container-id-5 div.sk-parallel-item:first-child::after {align-self: flex-end;width: 50%;}#sk-container-id-5 div.sk-parallel-item:last-child::after {align-self: flex-start;width: 50%;}#sk-container-id-5 div.sk-parallel-item:only-child::after {width: 0;}#sk-container-id-5 div.sk-dashed-wrapped {border: 1px dashed gray;margin: 0 0.4em 0.5em 0.4em;box-sizing: border-box;padding-bottom: 0.4em;background-color: white;}#sk-container-id-5 div.sk-label label {font-family: monospace;font-weight: bold;display: inline-block;line-height: 1.2em;}#sk-container-id-5 div.sk-label-container {text-align: center;}#sk-container-id-5 div.sk-container {/* jupyter's `normalize.less` sets `[hidden] { display: none; }` but bootstrap.min.css set `[hidden] { display: none !important; }` so we also need the `!important` here to be able to override the default hidden behavior on the sphinx rendered scikit-learn.org. See: https://github.com/scikit-learn/scikit-learn/issues/21755 */display: inline-block !important;position: relative;}#sk-container-id-5 div.sk-text-repr-fallback {display: none;}</style><div id=\"sk-container-id-5\" class=\"sk-top-container\"><div class=\"sk-text-repr-fallback\"><pre>GaussianMixture(n_components=3)</pre><b>In a Jupyter environment, please rerun this cell to show the HTML representation or trust the notebook. <br />On GitHub, the HTML representation is unable to render, please try loading this page with nbviewer.org.</b></div><div class=\"sk-container\" hidden><div class=\"sk-item\"><div class=\"sk-estimator sk-toggleable\"><input class=\"sk-toggleable__control sk-hidden--visually\" id=\"sk-estimator-id-5\" type=\"checkbox\" checked><label for=\"sk-estimator-id-5\" class=\"sk-toggleable__label sk-toggleable__label-arrow\">GaussianMixture</label><div class=\"sk-toggleable__content\"><pre>GaussianMixture(n_components=3)</pre></div></div></div></div></div>"
            ]
          },
          "metadata": {},
          "execution_count": 16
        }
      ]
    },
    {
      "cell_type": "markdown",
      "metadata": {
        "id": "i_6ncBA6IyJR"
      },
      "source": [
        "各正規分布のパラメータは、gmmインスタンスのmeans\\_属性とcovariances\\_属性にリスト形式で格納されています。"
      ]
    },
    {
      "cell_type": "code",
      "metadata": {
        "id": "EeOzdmR3IyJU",
        "outputId": "a707a129-c39e-41d3-fd4d-f19751206739",
        "colab": {
          "base_uri": "https://localhost:8080/"
        }
      },
      "source": [
        "print('means')\n",
        "print(gmm.means_)\n",
        "print('covariances:')\n",
        "print(gmm.covariances_)"
      ],
      "execution_count": 17,
      "outputs": [
        {
          "output_type": "stream",
          "name": "stdout",
          "text": [
            "means\n",
            "[[5.01509042 3.45136929]\n",
            " [6.69135935 3.03010885]\n",
            " [5.90637066 2.74742043]]\n",
            "covariances:\n",
            "[[[0.11944295 0.08835036]\n",
            "  [0.08835036 0.11895089]]\n",
            "\n",
            " [[0.35953784 0.05092452]\n",
            "  [0.05092452 0.08961421]]\n",
            "\n",
            " [[0.2771913  0.0894219 ]\n",
            "  [0.0894219  0.09420707]]]\n"
          ]
        }
      ]
    },
    {
      "cell_type": "markdown",
      "metadata": {
        "id": "dryJ1pMZIyJa"
      },
      "source": [
        "結果の表示は[サンプルコード](http://scikit-learn.org/stable/auto_examples/mixture/plot_gmm_pdf.html#sphx-glr-auto-examples-mixture-plot-gmm-pdf-py)を参考にしてください。"
      ]
    },
    {
      "cell_type": "code",
      "metadata": {
        "id": "a9TUIGz_qMu5",
        "outputId": "f22e7d47-49e8-495b-bf91-3a08fab41cfb",
        "colab": {
          "base_uri": "https://localhost:8080/",
          "height": 278
        }
      },
      "source": [
        "from matplotlib.colors import LogNorm\n",
        "\n",
        "plt.figure(figsize=(3.5,2.5))\n",
        "xa = np.linspace(4, 8)\n",
        "ya = np.linspace(2, 5)\n",
        "Xa, Ya = np.meshgrid(xa, ya)\n",
        "XX = np.array([Xa.ravel(), Ya.ravel()]).T\n",
        "Z = -gmm.score_samples(XX)\n",
        "Z = Z.reshape(Xa.shape)\n",
        "plt.contour(Xa, Ya, Z, norm=LogNorm(vmin=1.0, vmax=1000.0), levels=np.logspace(0, 3, 10))\n",
        "co = ['rgbcy'[i%5]+'o^xs'[i%4] for i in range(20)]\n",
        "\n",
        "y = gmm.predict(X)\n",
        "for t, c in zip(set(y),co):\n",
        "    plt.plot(X[y==t,0], X[y==t,1], c)\n",
        "plt.xlabel(iris.feature_names[0])\n",
        "plt.ylabel(iris.feature_names[1])\n",
        "plt.legend(range(3))\n",
        "\n",
        "plt.plot(gmm.means_[:,0], gmm.means_[:,1], 'yD')\n",
        "#plt.title('Negative log-likelihood predicted by a GMM')\n",
        "plt.axis('tight')\n",
        "plt.show()"
      ],
      "execution_count": 18,
      "outputs": [
        {
          "output_type": "display_data",
          "data": {
            "text/plain": [
              "<Figure size 350x250 with 1 Axes>"
            ],
            "image/png": "[encoded data removed]"
          },
          "metadata": {}
        }
      ]
    },
    {
      "cell_type": "markdown",
      "source": [
        "# 異常検知\n",
        "\n",
        "irisデータの一部を異常値に変更し、LOFで検出"
      ],
      "metadata": {
        "id": "E75NfHkQuH6l"
      }
    },
    {
      "cell_type": "code",
      "source": [
        "from sklearn.datasets import load_iris\n",
        "X, _ = load_iris(return_X_y=True, as_frame=True)\n",
        "X.describe()"
      ],
      "metadata": {
        "colab": {
          "base_uri": "https://localhost:8080/",
          "height": 300
        },
        "id": "3xu2SBZouIGZ",
        "outputId": "3e22451d-5160-4b6c-9f0e-1354897a91af"
      },
      "execution_count": 19,
      "outputs": [
        {
          "output_type": "execute_result",
          "data": {
            "text/plain": [
              "       sepal length (cm)  sepal width (cm)  petal length (cm)  \\\n",
              "count         150.000000        150.000000         150.000000   \n",
              "mean            5.843333          3.057333           3.758000   \n",
              "std             0.828066          0.435866           1.765298   \n",
              "min             4.300000          2.000000           1.000000   \n",
              "25%             5.100000          2.800000           1.600000   \n",
              "50%             5.800000          3.000000           4.350000   \n",
              "75%             6.400000          3.300000           5.100000   \n",
              "max             7.900000          4.400000           6.900000   \n",
              "\n",
              "       petal width (cm)  \n",
              "count        150.000000  \n",
              "mean           1.199333  \n",
              "std            0.762238  \n",
              "min            0.100000  \n",
              "25%            0.300000  \n",
              "50%            1.300000  \n",
              "75%            1.800000  \n",
              "max            2.500000  "
            ],
            "text/html": [
              "\n",
              "  <div id=\"df-40abf432-e226-453c-bc53-b4dfb2931c65\" class=\"colab-df-container\">\n",
              "    <div>\n",
              "<style scoped>\n",
              "    .dataframe tbody tr th:only-of-type {\n",
              "        vertical-align: middle;\n",
              "    }\n",
              "\n",
              "    .dataframe tbody tr th {\n",
              "        vertical-align: top;\n",
              "    }\n",
              "\n",
              "    .dataframe thead th {\n",
              "        text-align: right;\n",
              "    }\n",
              "</style>\n",
              "<table border=\"1\" class=\"dataframe\">\n",
              "  <thead>\n",
              "    <tr style=\"text-align: right;\">\n",
              "      <th></th>\n",
              "      <th>sepal length (cm)</th>\n",
              "      <th>sepal width (cm)</th>\n",
              "      <th>petal length (cm)</th>\n",
              "      <th>petal width (cm)</th>\n",
              "    </tr>\n",
              "  </thead>\n",
              "  <tbody>\n",
              "    <tr>\n",
              "      <th>count</th>\n",
              "      <td>150.000000</td>\n",
              "      <td>150.000000</td>\n",
              "      <td>150.000000</td>\n",
              "      <td>150.000000</td>\n",
              "    </tr>\n",
              "    <tr>\n",
              "      <th>mean</th>\n",
              "      <td>5.843333</td>\n",
              "      <td>3.057333</td>\n",
              "      <td>3.758000</td>\n",
              "      <td>1.199333</td>\n",
              "    </tr>\n",
              "    <tr>\n",
              "      <th>std</th>\n",
              "      <td>0.828066</td>\n",
              "      <td>0.435866</td>\n",
              "      <td>1.765298</td>\n",
              "      <td>0.762238</td>\n",
              "    </tr>\n",
              "    <tr>\n",
              "      <th>min</th>\n",
              "      <td>4.300000</td>\n",
              "      <td>2.000000</td>\n",
              "      <td>1.000000</td>\n",
              "      <td>0.100000</td>\n",
              "    </tr>\n",
              "    <tr>\n",
              "      <th>25%</th>\n",
              "      <td>5.100000</td>\n",
              "      <td>2.800000</td>\n",
              "      <td>1.600000</td>\n",
              "      <td>0.300000</td>\n",
              "    </tr>\n",
              "    <tr>\n",
              "      <th>50%</th>\n",
              "      <td>5.800000</td>\n",
              "      <td>3.000000</td>\n",
              "      <td>4.350000</td>\n",
              "      <td>1.300000</td>\n",
              "    </tr>\n",
              "    <tr>\n",
              "      <th>75%</th>\n",
              "      <td>6.400000</td>\n",
              "      <td>3.300000</td>\n",
              "      <td>5.100000</td>\n",
              "      <td>1.800000</td>\n",
              "    </tr>\n",
              "    <tr>\n",
              "      <th>max</th>\n",
              "      <td>7.900000</td>\n",
              "      <td>4.400000</td>\n",
              "      <td>6.900000</td>\n",
              "      <td>2.500000</td>\n",
              "    </tr>\n",
              "  </tbody>\n",
              "</table>\n",
              "</div>\n",
              "    <div class=\"colab-df-buttons\">\n",
              "\n",
              "  <div class=\"colab-df-container\">\n",
              "    <button class=\"colab-df-convert\" onclick=\"convertToInteractive('df-40abf432-e226-453c-bc53-b4dfb2931c65')\"\n",
              "            title=\"Convert this dataframe to an interactive table.\"\n",
              "            style=\"display:none;\">\n",
              "\n",
              "  <svg xmlns=\"http://www.w3.org/2000/svg\" height=\"24px\" viewBox=\"0 -960 960 960\">\n",
              "    <path d=\"M120-120v-720h720v720H120Zm60-500h600v-160H180v160Zm220 220h160v-160H400v160Zm0 220h160v-160H400v160ZM180-400h160v-160H180v160Zm440 0h160v-160H620v160ZM180-180h160v-160H180v160Zm440 0h160v-160H620v160Z\"/>\n",
              "  </svg>\n",
              "    </button>\n",
              "\n",
              "  <style>\n",
              "    .colab-df-container {\n",
              "      display:flex;\n",
              "      gap: 12px;\n",
              "    }\n",
              "\n",
              "    .colab-df-convert {\n",
              "      background-color: #E8F0FE;\n",
              "      border: none;\n",
              "      border-radius: 50%;\n",
              "      cursor: pointer;\n",
              "      display: none;\n",
              "      fill: #1967D2;\n",
              "      height: 32px;\n",
              "      padding: 0 0 0 0;\n",
              "      width: 32px;\n",
              "    }\n",
              "\n",
              "    .colab-df-convert:hover {\n",
              "      background-color: #E2EBFA;\n",
              "      box-shadow: 0px 1px 2px rgba(60, 64, 67, 0.3), 0px 1px 3px 1px rgba(60, 64, 67, 0.15);\n",
              "      fill: #174EA6;\n",
              "    }\n",
              "\n",
              "    .colab-df-buttons div {\n",
              "      margin-bottom: 4px;\n",
              "    }\n",
              "\n",
              "    [theme=dark] .colab-df-convert {\n",
              "      background-color: #3B4455;\n",
              "      fill: #D2E3FC;\n",
              "    }\n",
              "\n",
              "    [theme=dark] .colab-df-convert:hover {\n",
              "      background-color: #434B5C;\n",
              "      box-shadow: 0px 1px 3px 1px rgba(0, 0, 0, 0.15);\n",
              "      filter: drop-shadow(0px 1px 2px rgba(0, 0, 0, 0.3));\n",
              "      fill: #FFFFFF;\n",
              "    }\n",
              "  </style>\n",
              "\n",
              "    <script>\n",
              "      const buttonEl =\n",
              "        document.querySelector('#df-40abf432-e226-453c-bc53-b4dfb2931c65 button.colab-df-convert');\n",
              "      buttonEl.style.display =\n",
              "        google.colab.kernel.accessAllowed ? 'block' : 'none';\n",
              "\n",
              "      async function convertToInteractive(key) {\n",
              "        const element = document.querySelector('#df-40abf432-e226-453c-bc53-b4dfb2931c65');\n",
              "        const dataTable =\n",
              "          await google.colab.kernel.invokeFunction('convertToInteractive',\n",
              "                                                    [key], {});\n",
              "        if (!dataTable) return;\n",
              "\n",
              "        const docLinkHtml = 'Like what you see? Visit the ' +\n",
              "          '<a target=\"_blank\" href=https://colab.research.google.com/notebooks/data_table.ipynb>data table notebook</a>'\n",
              "          + ' to learn more about interactive tables.';\n",
              "        element.innerHTML = '';\n",
              "        dataTable['output_type'] = 'display_data';\n",
              "        await google.colab.output.renderOutput(dataTable, element);\n",
              "        const docLink = document.createElement('div');\n",
              "        docLink.innerHTML = docLinkHtml;\n",
              "        element.appendChild(docLink);\n",
              "      }\n",
              "    </script>\n",
              "  </div>\n",
              "\n",
              "\n",
              "<div id=\"df-cc57c292-1433-44ec-96a9-4c6c14350bc5\">\n",
              "  <button class=\"colab-df-quickchart\" onclick=\"quickchart('df-cc57c292-1433-44ec-96a9-4c6c14350bc5')\"\n",
              "            title=\"Suggest charts.\"\n",
              "            style=\"display:none;\">\n",
              "\n",
              "<svg xmlns=\"http://www.w3.org/2000/svg\" height=\"24px\"viewBox=\"0 0 24 24\"\n",
              "     width=\"24px\">\n",
              "    <g>\n",
              "        <path d=\"M19 3H5c-1.1 0-2 .9-2 2v14c0 1.1.9 2 2 2h14c1.1 0 2-.9 2-2V5c0-1.1-.9-2-2-2zM9 17H7v-7h2v7zm4 0h-2V7h2v10zm4 0h-2v-4h2v4z\"/>\n",
              "    </g>\n",
              "</svg>\n",
              "  </button>\n",
              "\n",
              "<style>\n",
              "  .colab-df-quickchart {\n",
              "      --bg-color: #E8F0FE;\n",
              "      --fill-color: #1967D2;\n",
              "      --hover-bg-color: #E2EBFA;\n",
              "      --hover-fill-color: #174EA6;\n",
              "      --disabled-fill-color: #AAA;\n",
              "      --disabled-bg-color: #DDD;\n",
              "  }\n",
              "\n",
              "  [theme=dark] .colab-df-quickchart {\n",
              "      --bg-color: #3B4455;\n",
              "      --fill-color: #D2E3FC;\n",
              "      --hover-bg-color: #434B5C;\n",
              "      --hover-fill-color: #FFFFFF;\n",
              "      --disabled-bg-color: #3B4455;\n",
              "      --disabled-fill-color: #666;\n",
              "  }\n",
              "\n",
              "  .colab-df-quickchart {\n",
              "    background-color: var(--bg-color);\n",
              "    border: none;\n",
              "    border-radius: 50%;\n",
              "    cursor: pointer;\n",
              "    display: none;\n",
              "    fill: var(--fill-color);\n",
              "    height: 32px;\n",
              "    padding: 0;\n",
              "    width: 32px;\n",
              "  }\n",
              "\n",
              "  .colab-df-quickchart:hover {\n",
              "    background-color: var(--hover-bg-color);\n",
              "    box-shadow: 0 1px 2px rgba(60, 64, 67, 0.3), 0 1px 3px 1px rgba(60, 64, 67, 0.15);\n",
              "    fill: var(--button-hover-fill-color);\n",
              "  }\n",
              "\n",
              "  .colab-df-quickchart-complete:disabled,\n",
              "  .colab-df-quickchart-complete:disabled:hover {\n",
              "    background-color: var(--disabled-bg-color);\n",
              "    fill: var(--disabled-fill-color);\n",
              "    box-shadow: none;\n",
              "  }\n",
              "\n",
              "  .colab-df-spinner {\n",
              "    border: 2px solid var(--fill-color);\n",
              "    border-color: transparent;\n",
              "    border-bottom-color: var(--fill-color);\n",
              "    animation:\n",
              "      spin 1s steps(1) infinite;\n",
              "  }\n",
              "\n",
              "  @keyframes spin {\n",
              "    0% {\n",
              "      border-color: transparent;\n",
              "      border-bottom-color: var(--fill-color);\n",
              "      border-left-color: var(--fill-color);\n",
              "    }\n",
              "    20% {\n",
              "      border-color: transparent;\n",
              "      border-left-color: var(--fill-color);\n",
              "      border-top-color: var(--fill-color);\n",
              "    }\n",
              "    30% {\n",
              "      border-color: transparent;\n",
              "      border-left-color: var(--fill-color);\n",
              "      border-top-color: var(--fill-color);\n",
              "      border-right-color: var(--fill-color);\n",
              "    }\n",
              "    40% {\n",
              "      border-color: transparent;\n",
              "      border-right-color: var(--fill-color);\n",
              "      border-top-color: var(--fill-color);\n",
              "    }\n",
              "    60% {\n",
              "      border-color: transparent;\n",
              "      border-right-color: var(--fill-color);\n",
              "    }\n",
              "    80% {\n",
              "      border-color: transparent;\n",
              "      border-right-color: var(--fill-color);\n",
              "      border-bottom-color: var(--fill-color);\n",
              "    }\n",
              "    90% {\n",
              "      border-color: transparent;\n",
              "      border-bottom-color: var(--fill-color);\n",
              "    }\n",
              "  }\n",
              "</style>\n",
              "\n",
              "  <script>\n",
              "    async function quickchart(key) {\n",
              "      const quickchartButtonEl =\n",
              "        document.querySelector('#' + key + ' button');\n",
              "      quickchartButtonEl.disabled = true;  // To prevent multiple clicks.\n",
              "      quickchartButtonEl.classList.add('colab-df-spinner');\n",
              "      try {\n",
              "        const charts = await google.colab.kernel.invokeFunction(\n",
              "            'suggestCharts', [key], {});\n",
              "      } catch (error) {\n",
              "        console.error('Error during call to suggestCharts:', error);\n",
              "      }\n",
              "      quickchartButtonEl.classList.remove('colab-df-spinner');\n",
              "      quickchartButtonEl.classList.add('colab-df-quickchart-complete');\n",
              "    }\n",
              "    (() => {\n",
              "      let quickchartButtonEl =\n",
              "        document.querySelector('#df-cc57c292-1433-44ec-96a9-4c6c14350bc5 button');\n",
              "      quickchartButtonEl.style.display =\n",
              "        google.colab.kernel.accessAllowed ? 'block' : 'none';\n",
              "    })();\n",
              "  </script>\n",
              "</div>\n",
              "\n",
              "    </div>\n",
              "  </div>\n"
            ]
          },
          "metadata": {},
          "execution_count": 19
        }
      ]
    },
    {
      "cell_type": "markdown",
      "source": [
        "X[0]のpetalwidthについて、最大値から1標準偏差程度離れた値に変更します"
      ],
      "metadata": {
        "id": "6WirqPy-uIUB"
      }
    },
    {
      "cell_type": "code",
      "source": [
        "X['petal width (cm)'][0] = 2.5 + 0.76\n",
        "X"
      ],
      "metadata": {
        "colab": {
          "base_uri": "https://localhost:8080/",
          "height": 423
        },
        "id": "9U5JOK8muIdB",
        "outputId": "120db1fd-07a0-4836-ca8e-46bc097cb103"
      },
      "execution_count": 20,
      "outputs": [
        {
          "output_type": "execute_result",
          "data": {
            "text/plain": [
              "     sepal length (cm)  sepal width (cm)  petal length (cm)  petal width (cm)\n",
              "0                  5.1               3.5                1.4              3.26\n",
              "1                  4.9               3.0                1.4              0.20\n",
              "2                  4.7               3.2                1.3              0.20\n",
              "3                  4.6               3.1                1.5              0.20\n",
              "4                  5.0               3.6                1.4              0.20\n",
              "..                 ...               ...                ...               ...\n",
              "145                6.7               3.0                5.2              2.30\n",
              "146                6.3               2.5                5.0              1.90\n",
              "147                6.5               3.0                5.2              2.00\n",
              "148                6.2               3.4                5.4              2.30\n",
              "149                5.9               3.0                5.1              1.80\n",
              "\n",
              "[150 rows x 4 columns]"
            ],
            "text/html": [
              "\n",
              "  <div id=\"df-ce779f95-c38e-48cb-a4e5-e27395bf05bf\" class=\"colab-df-container\">\n",
              "    <div>\n",
              "<style scoped>\n",
              "    .dataframe tbody tr th:only-of-type {\n",
              "        vertical-align: middle;\n",
              "    }\n",
              "\n",
              "    .dataframe tbody tr th {\n",
              "        vertical-align: top;\n",
              "    }\n",
              "\n",
              "    .dataframe thead th {\n",
              "        text-align: right;\n",
              "    }\n",
              "</style>\n",
              "<table border=\"1\" class=\"dataframe\">\n",
              "  <thead>\n",
              "    <tr style=\"text-align: right;\">\n",
              "      <th></th>\n",
              "      <th>sepal length (cm)</th>\n",
              "      <th>sepal width (cm)</th>\n",
              "      <th>petal length (cm)</th>\n",
              "      <th>petal width (cm)</th>\n",
              "    </tr>\n",
              "  </thead>\n",
              "  <tbody>\n",
              "    <tr>\n",
              "      <th>0</th>\n",
              "      <td>5.1</td>\n",
              "      <td>3.5</td>\n",
              "      <td>1.4</td>\n",
              "      <td>3.26</td>\n",
              "    </tr>\n",
              "    <tr>\n",
              "      <th>1</th>\n",
              "      <td>4.9</td>\n",
              "      <td>3.0</td>\n",
              "      <td>1.4</td>\n",
              "      <td>0.20</td>\n",
              "    </tr>\n",
              "    <tr>\n",
              "      <th>2</th>\n",
              "      <td>4.7</td>\n",
              "      <td>3.2</td>\n",
              "      <td>1.3</td>\n",
              "      <td>0.20</td>\n",
              "    </tr>\n",
              "    <tr>\n",
              "      <th>3</th>\n",
              "      <td>4.6</td>\n",
              "      <td>3.1</td>\n",
              "      <td>1.5</td>\n",
              "      <td>0.20</td>\n",
              "    </tr>\n",
              "    <tr>\n",
              "      <th>4</th>\n",
              "      <td>5.0</td>\n",
              "      <td>3.6</td>\n",
              "      <td>1.4</td>\n",
              "      <td>0.20</td>\n",
              "    </tr>\n",
              "    <tr>\n",
              "      <th>...</th>\n",
              "      <td>...</td>\n",
              "      <td>...</td>\n",
              "      <td>...</td>\n",
              "      <td>...</td>\n",
              "    </tr>\n",
              "    <tr>\n",
              "      <th>145</th>\n",
              "      <td>6.7</td>\n",
              "      <td>3.0</td>\n",
              "      <td>5.2</td>\n",
              "      <td>2.30</td>\n",
              "    </tr>\n",
              "    <tr>\n",
              "      <th>146</th>\n",
              "      <td>6.3</td>\n",
              "      <td>2.5</td>\n",
              "      <td>5.0</td>\n",
              "      <td>1.90</td>\n",
              "    </tr>\n",
              "    <tr>\n",
              "      <th>147</th>\n",
              "      <td>6.5</td>\n",
              "      <td>3.0</td>\n",
              "      <td>5.2</td>\n",
              "      <td>2.00</td>\n",
              "    </tr>\n",
              "    <tr>\n",
              "      <th>148</th>\n",
              "      <td>6.2</td>\n",
              "      <td>3.4</td>\n",
              "      <td>5.4</td>\n",
              "      <td>2.30</td>\n",
              "    </tr>\n",
              "    <tr>\n",
              "      <th>149</th>\n",
              "      <td>5.9</td>\n",
              "      <td>3.0</td>\n",
              "      <td>5.1</td>\n",
              "      <td>1.80</td>\n",
              "    </tr>\n",
              "  </tbody>\n",
              "</table>\n",
              "<p>150 rows × 4 columns</p>\n",
              "</div>\n",
              "    <div class=\"colab-df-buttons\">\n",
              "\n",
              "  <div class=\"colab-df-container\">\n",
              "    <button class=\"colab-df-convert\" onclick=\"convertToInteractive('df-ce779f95-c38e-48cb-a4e5-e27395bf05bf')\"\n",
              "            title=\"Convert this dataframe to an interactive table.\"\n",
              "            style=\"display:none;\">\n",
              "\n",
              "  <svg xmlns=\"http://www.w3.org/2000/svg\" height=\"24px\" viewBox=\"0 -960 960 960\">\n",
              "    <path d=\"M120-120v-720h720v720H120Zm60-500h600v-160H180v160Zm220 220h160v-160H400v160Zm0 220h160v-160H400v160ZM180-400h160v-160H180v160Zm440 0h160v-160H620v160ZM180-180h160v-160H180v160Zm440 0h160v-160H620v160Z\"/>\n",
              "  </svg>\n",
              "    </button>\n",
              "\n",
              "  <style>\n",
              "    .colab-df-container {\n",
              "      display:flex;\n",
              "      gap: 12px;\n",
              "    }\n",
              "\n",
              "    .colab-df-convert {\n",
              "      background-color: #E8F0FE;\n",
              "      border: none;\n",
              "      border-radius: 50%;\n",
              "      cursor: pointer;\n",
              "      display: none;\n",
              "      fill: #1967D2;\n",
              "      height: 32px;\n",
              "      padding: 0 0 0 0;\n",
              "      width: 32px;\n",
              "    }\n",
              "\n",
              "    .colab-df-convert:hover {\n",
              "      background-color: #E2EBFA;\n",
              "      box-shadow: 0px 1px 2px rgba(60, 64, 67, 0.3), 0px 1px 3px 1px rgba(60, 64, 67, 0.15);\n",
              "      fill: #174EA6;\n",
              "    }\n",
              "\n",
              "    .colab-df-buttons div {\n",
              "      margin-bottom: 4px;\n",
              "    }\n",
              "\n",
              "    [theme=dark] .colab-df-convert {\n",
              "      background-color: #3B4455;\n",
              "      fill: #D2E3FC;\n",
              "    }\n",
              "\n",
              "    [theme=dark] .colab-df-convert:hover {\n",
              "      background-color: #434B5C;\n",
              "      box-shadow: 0px 1px 3px 1px rgba(0, 0, 0, 0.15);\n",
              "      filter: drop-shadow(0px 1px 2px rgba(0, 0, 0, 0.3));\n",
              "      fill: #FFFFFF;\n",
              "    }\n",
              "  </style>\n",
              "\n",
              "    <script>\n",
              "      const buttonEl =\n",
              "        document.querySelector('#df-ce779f95-c38e-48cb-a4e5-e27395bf05bf button.colab-df-convert');\n",
              "      buttonEl.style.display =\n",
              "        google.colab.kernel.accessAllowed ? 'block' : 'none';\n",
              "\n",
              "      async function convertToInteractive(key) {\n",
              "        const element = document.querySelector('#df-ce779f95-c38e-48cb-a4e5-e27395bf05bf');\n",
              "        const dataTable =\n",
              "          await google.colab.kernel.invokeFunction('convertToInteractive',\n",
              "                                                    [key], {});\n",
              "        if (!dataTable) return;\n",
              "\n",
              "        const docLinkHtml = 'Like what you see? Visit the ' +\n",
              "          '<a target=\"_blank\" href=https://colab.research.google.com/notebooks/data_table.ipynb>data table notebook</a>'\n",
              "          + ' to learn more about interactive tables.';\n",
              "        element.innerHTML = '';\n",
              "        dataTable['output_type'] = 'display_data';\n",
              "        await google.colab.output.renderOutput(dataTable, element);\n",
              "        const docLink = document.createElement('div');\n",
              "        docLink.innerHTML = docLinkHtml;\n",
              "        element.appendChild(docLink);\n",
              "      }\n",
              "    </script>\n",
              "  </div>\n",
              "\n",
              "\n",
              "<div id=\"df-c8812568-a03c-4f43-a425-93460df999ca\">\n",
              "  <button class=\"colab-df-quickchart\" onclick=\"quickchart('df-c8812568-a03c-4f43-a425-93460df999ca')\"\n",
              "            title=\"Suggest charts.\"\n",
              "            style=\"display:none;\">\n",
              "\n",
              "<svg xmlns=\"http://www.w3.org/2000/svg\" height=\"24px\"viewBox=\"0 0 24 24\"\n",
              "     width=\"24px\">\n",
              "    <g>\n",
              "        <path d=\"M19 3H5c-1.1 0-2 .9-2 2v14c0 1.1.9 2 2 2h14c1.1 0 2-.9 2-2V5c0-1.1-.9-2-2-2zM9 17H7v-7h2v7zm4 0h-2V7h2v10zm4 0h-2v-4h2v4z\"/>\n",
              "    </g>\n",
              "</svg>\n",
              "  </button>\n",
              "\n",
              "<style>\n",
              "  .colab-df-quickchart {\n",
              "      --bg-color: #E8F0FE;\n",
              "      --fill-color: #1967D2;\n",
              "      --hover-bg-color: #E2EBFA;\n",
              "      --hover-fill-color: #174EA6;\n",
              "      --disabled-fill-color: #AAA;\n",
              "      --disabled-bg-color: #DDD;\n",
              "  }\n",
              "\n",
              "  [theme=dark] .colab-df-quickchart {\n",
              "      --bg-color: #3B4455;\n",
              "      --fill-color: #D2E3FC;\n",
              "      --hover-bg-color: #434B5C;\n",
              "      --hover-fill-color: #FFFFFF;\n",
              "      --disabled-bg-color: #3B4455;\n",
              "      --disabled-fill-color: #666;\n",
              "  }\n",
              "\n",
              "  .colab-df-quickchart {\n",
              "    background-color: var(--bg-color);\n",
              "    border: none;\n",
              "    border-radius: 50%;\n",
              "    cursor: pointer;\n",
              "    display: none;\n",
              "    fill: var(--fill-color);\n",
              "    height: 32px;\n",
              "    padding: 0;\n",
              "    width: 32px;\n",
              "  }\n",
              "\n",
              "  .colab-df-quickchart:hover {\n",
              "    background-color: var(--hover-bg-color);\n",
              "    box-shadow: 0 1px 2px rgba(60, 64, 67, 0.3), 0 1px 3px 1px rgba(60, 64, 67, 0.15);\n",
              "    fill: var(--button-hover-fill-color);\n",
              "  }\n",
              "\n",
              "  .colab-df-quickchart-complete:disabled,\n",
              "  .colab-df-quickchart-complete:disabled:hover {\n",
              "    background-color: var(--disabled-bg-color);\n",
              "    fill: var(--disabled-fill-color);\n",
              "    box-shadow: none;\n",
              "  }\n",
              "\n",
              "  .colab-df-spinner {\n",
              "    border: 2px solid var(--fill-color);\n",
              "    border-color: transparent;\n",
              "    border-bottom-color: var(--fill-color);\n",
              "    animation:\n",
              "      spin 1s steps(1) infinite;\n",
              "  }\n",
              "\n",
              "  @keyframes spin {\n",
              "    0% {\n",
              "      border-color: transparent;\n",
              "      border-bottom-color: var(--fill-color);\n",
              "      border-left-color: var(--fill-color);\n",
              "    }\n",
              "    20% {\n",
              "      border-color: transparent;\n",
              "      border-left-color: var(--fill-color);\n",
              "      border-top-color: var(--fill-color);\n",
              "    }\n",
              "    30% {\n",
              "      border-color: transparent;\n",
              "      border-left-color: var(--fill-color);\n",
              "      border-top-color: var(--fill-color);\n",
              "      border-right-color: var(--fill-color);\n",
              "    }\n",
              "    40% {\n",
              "      border-color: transparent;\n",
              "      border-right-color: var(--fill-color);\n",
              "      border-top-color: var(--fill-color);\n",
              "    }\n",
              "    60% {\n",
              "      border-color: transparent;\n",
              "      border-right-color: var(--fill-color);\n",
              "    }\n",
              "    80% {\n",
              "      border-color: transparent;\n",
              "      border-right-color: var(--fill-color);\n",
              "      border-bottom-color: var(--fill-color);\n",
              "    }\n",
              "    90% {\n",
              "      border-color: transparent;\n",
              "      border-bottom-color: var(--fill-color);\n",
              "    }\n",
              "  }\n",
              "</style>\n",
              "\n",
              "  <script>\n",
              "    async function quickchart(key) {\n",
              "      const quickchartButtonEl =\n",
              "        document.querySelector('#' + key + ' button');\n",
              "      quickchartButtonEl.disabled = true;  // To prevent multiple clicks.\n",
              "      quickchartButtonEl.classList.add('colab-df-spinner');\n",
              "      try {\n",
              "        const charts = await google.colab.kernel.invokeFunction(\n",
              "            'suggestCharts', [key], {});\n",
              "      } catch (error) {\n",
              "        console.error('Error during call to suggestCharts:', error);\n",
              "      }\n",
              "      quickchartButtonEl.classList.remove('colab-df-spinner');\n",
              "      quickchartButtonEl.classList.add('colab-df-quickchart-complete');\n",
              "    }\n",
              "    (() => {\n",
              "      let quickchartButtonEl =\n",
              "        document.querySelector('#df-c8812568-a03c-4f43-a425-93460df999ca button');\n",
              "      quickchartButtonEl.style.display =\n",
              "        google.colab.kernel.accessAllowed ? 'block' : 'none';\n",
              "    })();\n",
              "  </script>\n",
              "</div>\n",
              "\n",
              "  <div id=\"id_fd6691d2-3a05-4cb3-be0a-75bbef75fc55\">\n",
              "    <style>\n",
              "      .colab-df-generate {\n",
              "        background-color: #E8F0FE;\n",
              "        border: none;\n",
              "        border-radius: 50%;\n",
              "        cursor: pointer;\n",
              "        display: none;\n",
              "        fill: #1967D2;\n",
              "        height: 32px;\n",
              "        padding: 0 0 0 0;\n",
              "        width: 32px;\n",
              "      }\n",
              "\n",
              "      .colab-df-generate:hover {\n",
              "        background-color: #E2EBFA;\n",
              "        box-shadow: 0px 1px 2px rgba(60, 64, 67, 0.3), 0px 1px 3px 1px rgba(60, 64, 67, 0.15);\n",
              "        fill: #174EA6;\n",
              "      }\n",
              "\n",
              "      [theme=dark] .colab-df-generate {\n",
              "        background-color: #3B4455;\n",
              "        fill: #D2E3FC;\n",
              "      }\n",
              "\n",
              "      [theme=dark] .colab-df-generate:hover {\n",
              "        background-color: #434B5C;\n",
              "        box-shadow: 0px 1px 3px 1px rgba(0, 0, 0, 0.15);\n",
              "        filter: drop-shadow(0px 1px 2px rgba(0, 0, 0, 0.3));\n",
              "        fill: #FFFFFF;\n",
              "      }\n",
              "    </style>\n",
              "    <button class=\"colab-df-generate\" onclick=\"generateWithVariable('X')\"\n",
              "            title=\"Generate code using this dataframe.\"\n",
              "            style=\"display:none;\">\n",
              "\n",
              "  <svg xmlns=\"http://www.w3.org/2000/svg\" height=\"24px\"viewBox=\"0 0 24 24\"\n",
              "       width=\"24px\">\n",
              "    <path d=\"M7,19H8.4L18.45,9,17,7.55,7,17.6ZM5,21V16.75L18.45,3.32a2,2,0,0,1,2.83,0l1.4,1.43a1.91,1.91,0,0,1,.58,1.4,1.91,1.91,0,0,1-.58,1.4L9.25,21ZM18.45,9,17,7.55Zm-12,3A5.31,5.31,0,0,0,4.9,8.1,5.31,5.31,0,0,0,1,6.5,5.31,5.31,0,0,0,4.9,4.9,5.31,5.31,0,0,0,6.5,1,5.31,5.31,0,0,0,8.1,4.9,5.31,5.31,0,0,0,12,6.5,5.46,5.46,0,0,0,6.5,12Z\"/>\n",
              "  </svg>\n",
              "    </button>\n",
              "    <script>\n",
              "      (() => {\n",
              "      const buttonEl =\n",
              "        document.querySelector('#id_fd6691d2-3a05-4cb3-be0a-75bbef75fc55 button.colab-df-generate');\n",
              "      buttonEl.style.display =\n",
              "        google.colab.kernel.accessAllowed ? 'block' : 'none';\n",
              "\n",
              "      buttonEl.onclick = () => {\n",
              "        google.colab.notebook.generateWithVariable('X');\n",
              "      }\n",
              "      })();\n",
              "    </script>\n",
              "  </div>\n",
              "\n",
              "    </div>\n",
              "  </div>\n"
            ]
          },
          "metadata": {},
          "execution_count": 20
        }
      ]
    },
    {
      "cell_type": "markdown",
      "source": [
        "[Local Outlier Factor](https://scikit-learn.org/stable/modules/generated/sklearn.neighbors.LocalOutlierFactor.html) (LOF) を求めます"
      ],
      "metadata": {
        "id": "SzVCry97wgqb"
      }
    },
    {
      "cell_type": "code",
      "source": [
        "from sklearn.neighbors import LocalOutlierFactor\n",
        "lof = LocalOutlierFactor()\n",
        "lof.fit(X)\n",
        "X['lof'] = lof.negative_outlier_factor_"
      ],
      "metadata": {
        "id": "1eWioHB4wg1l"
      },
      "execution_count": 21,
      "outputs": []
    },
    {
      "cell_type": "code",
      "source": [
        "X.hist(column='lof', figsize=(3.5,2.5))"
      ],
      "metadata": {
        "colab": {
          "base_uri": "https://localhost:8080/",
          "height": 293
        },
        "id": "gbRXylwryNi8",
        "outputId": "0a620386-6ebb-4aff-fba1-94b9bc78d0a0"
      },
      "execution_count": 22,
      "outputs": [
        {
          "output_type": "execute_result",
          "data": {
            "text/plain": [
              "array([[<Axes: title={'center': 'lof'}>]], dtype=object)"
            ]
          },
          "metadata": {},
          "execution_count": 22
        },
        {
          "output_type": "display_data",
          "data": {
            "text/plain": [
              "<Figure size 350x250 with 1 Axes>"
            ],
            "image/png": "[encoded data removed]"
          },
          "metadata": {}
        }
      ]
    },
    {
      "cell_type": "markdown",
      "metadata": {
        "id": "wEIxma7fge6f"
      },
      "source": [
        "## 練習問題\n",
        "\n",
        "scikit-learnのdiabetesデータに対して様々なクラスタリング手法を適用してみてください。diabetesデータは回帰用のデータ（事例数442）で、target値は 25-346 で値が高くなるほど悪化の可能性が高いことを示しています。生成したクラスタ間で、target値の平均に違いが生じているかどうかで評価を行ってください。他のクラスタと比較してtarget値の平均が突出して高くなるようなクラスタ（一定数以上の要素数をもつことが条件）を見つけることができれば成功です。"
      ]
    },
    {
      "cell_type": "markdown",
      "source": [
        "### 解答例\n"
      ],
      "metadata": {
        "id": "-PlYNOVubx56"
      }
    },
    {
      "cell_type": "markdown",
      "metadata": {
        "id": "RIogSpAIS_Mq"
      },
      "source": [
        "ライブラリの読み込み"
      ]
    },
    {
      "cell_type": "code",
      "metadata": {
        "id": "Trp3CigLS_Mq"
      },
      "source": [
        "import numpy as np\n",
        "import pandas as pd\n",
        "import altair as alt\n",
        "from sklearn.datasets import load_diabetes\n",
        "from sklearn.decomposition import PCA\n",
        "from sklearn.cluster import AgglomerativeClustering, KMeans, AffinityPropagation\n",
        "from sklearn.mixture import GaussianMixture"
      ],
      "execution_count": 23,
      "outputs": []
    },
    {
      "cell_type": "markdown",
      "metadata": {
        "id": "J_hHQ8hSS_Mq"
      },
      "source": [
        "データの読み込み"
      ]
    },
    {
      "cell_type": "code",
      "metadata": {
        "colab": {
          "base_uri": "https://localhost:8080/"
        },
        "outputId": "4d1db01a-0dac-4b21-f3a8-b58ef72f7d63",
        "id": "ti-TV4gBS_Mq"
      },
      "source": [
        "ds = load_diabetes(as_frame=True)\n",
        "X = ds.data\n",
        "t = ds.target\n",
        "print(ds.DESCR)"
      ],
      "execution_count": 24,
      "outputs": [
        {
          "output_type": "stream",
          "name": "stdout",
          "text": [
            ".. _diabetes_dataset:\n",
            "\n",
            "Diabetes dataset\n",
            "----------------\n",
            "\n",
            "Ten baseline variables, age, sex, body mass index, average blood\n",
            "pressure, and six blood serum measurements were obtained for each of n =\n",
            "442 diabetes patients, as well as the response of interest, a\n",
            "quantitative measure of disease progression one year after baseline.\n",
            "\n",
            "**Data Set Characteristics:**\n",
            "\n",
            "  :Number of Instances: 442\n",
            "\n",
            "  :Number of Attributes: First 10 columns are numeric predictive values\n",
            "\n",
            "  :Target: Column 11 is a quantitative measure of disease progression one year after baseline\n",
            "\n",
            "  :Attribute Information:\n",
            "      - age     age in years\n",
            "      - sex\n",
            "      - bmi     body mass index\n",
            "      - bp      average blood pressure\n",
            "      - s1      tc, total serum cholesterol\n",
            "      - s2      ldl, low-density lipoproteins\n",
            "      - s3      hdl, high-density lipoproteins\n",
            "      - s4      tch, total cholesterol / HDL\n",
            "      - s5      ltg, possibly log of serum triglycerides level\n",
            "      - s6      glu, blood sugar level\n",
            "\n",
            "Note: Each of these 10 feature variables have been mean centered and scaled by the standard deviation times the square root of `n_samples` (i.e. the sum of squares of each column totals 1).\n",
            "\n",
            "Source URL:\n",
            "https://www4.stat.ncsu.edu/~boos/var.select/diabetes.html\n",
            "\n",
            "For more information see:\n",
            "Bradley Efron, Trevor Hastie, Iain Johnstone and Robert Tibshirani (2004) \"Least Angle Regression,\" Annals of Statistics (with discussion), 407-499.\n",
            "(https://web.stanford.edu/~hastie/Papers/LARS/LeastAngle_2002.pdf)\n",
            "\n"
          ]
        }
      ]
    },
    {
      "cell_type": "code",
      "source": [
        "pca = PCA(n_components=2)\n",
        "X2 = pca.fit_transform(X)\n",
        "df = pd.DataFrame(data=X2,columns=['x','y'])\n",
        "df2 = pd.concat([df, t], axis=1)"
      ],
      "metadata": {
        "id": "adndw2CFmTLu"
      },
      "execution_count": 25,
      "outputs": []
    },
    {
      "cell_type": "markdown",
      "metadata": {
        "id": "ILo_ezr9S_Mr"
      },
      "source": [
        "主成分分析を用いてデータをプロットします。点の色の濃さがtargetの値の大きさを表すようにします。色の濃い部分と薄い部分についてある程度傾向が見えるので、試してみる可能性はありそうです。\n",
        "\n",
        "使用したライブラリ [altair](https://altair-viz.github.io/index.html)"
      ]
    },
    {
      "cell_type": "code",
      "metadata": {
        "outputId": "e8167ceb-fb65-4419-bd49-d7099607f8fa",
        "colab": {
          "base_uri": "https://localhost:8080/",
          "height": 369
        },
        "id": "mqdZQ8f2S_Mr"
      },
      "source": [
        "alt.Chart(df2).mark_circle(size=60).encode(\n",
        "    x='x',\n",
        "    y='y',\n",
        "    color='target'\n",
        ").interactive()"
      ],
      "execution_count": 26,
      "outputs": [
        {
          "output_type": "execute_result",
          "data": {
            "text/html": [
              "\n",
              "<div id=\"altair-viz-00809614efe24c13a5ed9e43c0b5e1b0\"></div>\n",
              "<script type=\"text/javascript\">\n",
              "  var VEGA_DEBUG = (typeof VEGA_DEBUG == \"undefined\") ? {} : VEGA_DEBUG;\n",
              "  (function(spec, embedOpt){\n",
              "    let outputDiv = document.currentScript.previousElementSibling;\n",
              "    if (outputDiv.id !== \"altair-viz-00809614efe24c13a5ed9e43c0b5e1b0\") {\n",
              "      outputDiv = document.getElementById(\"altair-viz-00809614efe24c13a5ed9e43c0b5e1b0\");\n",
              "    }\n",
              "    const paths = {\n",
              "      \"vega\": \"https://cdn.jsdelivr.net/npm//vega@5?noext\",\n",
              "      \"vega-lib\": \"https://cdn.jsdelivr.net/npm//vega-lib?noext\",\n",
              "      \"vega-lite\": \"https://cdn.jsdelivr.net/npm//vega-lite@4.17.0?noext\",\n",
              "      \"vega-embed\": \"https://cdn.jsdelivr.net/npm//vega-embed@6?noext\",\n",
              "    };\n",
              "\n",
              "    function maybeLoadScript(lib, version) {\n",
              "      var key = `${lib.replace(\"-\", \"\")}_version`;\n",
              "      return (VEGA_DEBUG[key] == version) ?\n",
              "        Promise.resolve(paths[lib]) :\n",
              "        new Promise(function(resolve, reject) {\n",
              "          var s = document.createElement('script');\n",
              "          document.getElementsByTagName(\"head\")[0].appendChild(s);\n",
              "          s.async = true;\n",
              "          s.onload = () => {\n",
              "            VEGA_DEBUG[key] = version;\n",
              "            return resolve(paths[lib]);\n",
              "          };\n",
              "          s.onerror = () => reject(`Error loading script: ${paths[lib]}`);\n",
              "          s.src = paths[lib];\n",
              "        });\n",
              "    }\n",
              "\n",
              "    function showError(err) {\n",
              "      outputDiv.innerHTML = `<div class=\"error\" style=\"color:red;\">${err}</div>`;\n",
              "      throw err;\n",
              "    }\n",
              "\n",
              "    function displayChart(vegaEmbed) {\n",
              "      vegaEmbed(outputDiv, spec, embedOpt)\n",
              "        .catch(err => showError(`Javascript Error: ${err.message}<br>This usually means there's a typo in your chart specification. See the javascript console for the full traceback.`));\n",
              "    }\n",
              "\n",
              "    if(typeof define === \"function\" && define.amd) {\n",
              "      requirejs.config({paths});\n",
              "      require([\"vega-embed\"], displayChart, err => showError(`Error loading script: ${err.message}`));\n",
              "    } else {\n",
              "      maybeLoadScript(\"vega\", \"5\")\n",
              "        .then(() => maybeLoadScript(\"vega-lite\", \"4.17.0\"))\n",
              "        .then(() => maybeLoadScript(\"vega-embed\", \"6\"))\n",
              "        .catch(showError)\n",
              "        .then(() => displayChart(vegaEmbed));\n",
              "    }\n",
              "  })({\"config\": {\"view\": {\"continuousWidth\": 400, \"continuousHeight\": 300}}, \"data\": {\"name\": \"data-550b57ca80035203dee1803851e474e4\"}, \"mark\": {\"type\": \"circle\", \"size\": 60}, \"encoding\": {\"color\": {\"field\": \"target\", \"type\": \"quantitative\"}, \"x\": {\"field\": \"x\", \"type\": \"quantitative\"}, \"y\": {\"field\": \"y\", \"type\": \"quantitative\"}}, \"selection\": {\"selector001\": {\"type\": \"interval\", \"bind\": \"scales\", \"encodings\": [\"x\", \"y\"]}}, \"$schema\": \"https://vega.github.io/schema/vega-lite/v4.17.0.json\", \"datasets\": {\"data-550b57ca80035203dee1803851e474e4\": [{\"x\": 0.027930214307752225, \"y\": -0.09260136461319589, \"target\": 151.0}, {\"x\": -0.13468668440828696, \"y\": 0.06526327269524718, \"target\": 75.0}, {\"x\": 0.01294383508833548, \"y\": -0.07776432196626287, \"target\": 141.0}, {\"x\": 0.0023440650095196843, \"y\": 0.018183111545431015, \"target\": 206.0}, {\"x\": -0.03597929477521225, \"y\": 0.03862101040214439, \"target\": 135.0}, {\"x\": -0.1886586481240941, \"y\": -0.01812518105005381, \"target\": 97.0}, {\"x\": -0.09483621691911898, \"y\": -0.03831530197316482, \"target\": 138.0}, {\"x\": 0.09873891409489159, \"y\": 0.08694456761835652, \"target\": 63.0}, {\"x\": 0.028682263056201796, \"y\": -0.04191659318930593, \"target\": 110.0}, {\"x\": -0.010090580339882587, \"y\": -0.02344435162149134, \"target\": 310.0}, {\"x\": -0.18342094400946551, \"y\": -0.07287386360221128, \"target\": 101.0}, {\"x\": 0.018879143594194184, \"y\": -0.030086610935846785, \"target\": 69.0}, {\"x\": -0.07593104336522967, \"y\": 0.04668345458115927, \"target\": 179.0}, {\"x\": 0.015147634571074257, \"y\": -0.03096925308792207, \"target\": 185.0}, {\"x\": -0.08016803431695824, \"y\": 0.08647020452950005, \"target\": 118.0}, {\"x\": 0.1404896795759352, \"y\": 0.0451900438234767, \"target\": 171.0}, {\"x\": 0.007584722754605174, \"y\": 0.04339382869486938, \"target\": 166.0}, {\"x\": 0.10883769306065783, \"y\": -0.007068479220569727, \"target\": 144.0}, {\"x\": -0.05499288952758041, \"y\": -0.02037217987954811, \"target\": 97.0}, {\"x\": -0.08426474450673557, \"y\": 0.04418091133826888, \"target\": 168.0}, {\"x\": -0.09559389994513313, \"y\": -0.013793937680985979, \"target\": 68.0}, {\"x\": -0.09187364358648475, \"y\": -0.03954224821068283, \"target\": 49.0}, {\"x\": -0.07972647845231544, \"y\": 0.03423166359744365, \"target\": 68.0}, {\"x\": 0.17948892484515577, \"y\": -0.08392395101681781, \"target\": 245.0}, {\"x\": -0.061339593238727806, \"y\": -0.01186478194418049, \"target\": 184.0}, {\"x\": 0.0039228979724687555, \"y\": -0.05108158305198554, \"target\": 202.0}, {\"x\": -0.18482797881372243, \"y\": -0.0467873275975968, \"target\": 137.0}, {\"x\": -0.049696864589272936, \"y\": -0.02631180632614656, \"target\": 85.0}, {\"x\": -0.08367947541821283, \"y\": -0.002873150842038671, \"target\": 131.0}, {\"x\": -0.01718884515739223, \"y\": -0.06699185655661234, \"target\": 283.0}, {\"x\": -0.05586127056803854, \"y\": 0.017026190005635402, \"target\": 129.0}, {\"x\": -0.16496845360281068, \"y\": 0.031072168625040354, \"target\": 59.0}, {\"x\": 0.12405641267623159, \"y\": -0.13990225391395777, \"target\": 341.0}, {\"x\": -0.13651207026518122, \"y\": 0.025918906959496377, \"target\": 87.0}, {\"x\": -0.14016166952114054, \"y\": -0.005633555354570839, \"target\": 65.0}, {\"x\": -0.033442470121850344, \"y\": 0.08954529981370657, \"target\": 102.0}, {\"x\": -0.006776147628327869, \"y\": 0.021024832490695, \"target\": 265.0}, {\"x\": -0.06694458348681608, \"y\": 0.007152792495554333, \"target\": 276.0}, {\"x\": 0.1851930659925457, \"y\": 0.020869821163307083, \"target\": 252.0}, {\"x\": 0.0072867545021463075, \"y\": -0.014952907629009278, \"target\": 90.0}, {\"x\": 0.11550711372103692, \"y\": 0.020419301452995798, \"target\": 100.0}, {\"x\": -0.17446400512564975, \"y\": -0.02473915884616073, \"target\": 55.0}, {\"x\": -0.027653573830820406, \"y\": -0.08512644138761823, \"target\": 61.0}, {\"x\": -0.08569073618342057, \"y\": 0.09886945266853651, \"target\": 92.0}, {\"x\": 0.09679971092446395, \"y\": -0.07976042113282213, \"target\": 259.0}, {\"x\": -0.010148631727656338, \"y\": -0.0233658967409407, \"target\": 53.0}, {\"x\": -0.11556960364787354, \"y\": -0.014848434267307272, \"target\": 190.0}, {\"x\": -0.16176308181861287, \"y\": -0.05130322306412092, \"target\": 142.0}, {\"x\": -0.0407020176148851, \"y\": 0.019468757678934724, \"target\": 75.0}, {\"x\": 0.0612596235232774, \"y\": -0.06879025454214777, \"target\": 142.0}, {\"x\": -0.04923614979626081, \"y\": -0.023338039279071097, \"target\": 155.0}, {\"x\": 0.00978358812546916, \"y\": -0.07297381395103088, \"target\": 225.0}, {\"x\": -0.014617064883530033, \"y\": 0.07555845319404009, \"target\": 59.0}, {\"x\": 0.013467575293208946, \"y\": 0.031508193289550644, \"target\": 104.0}, {\"x\": -0.040883262200180404, \"y\": 0.05951515421612015, \"target\": 182.0}, {\"x\": -0.11662162674956612, \"y\": 0.060897895413789496, \"target\": 128.0}, {\"x\": -0.0152021503579413, \"y\": -0.03735062737953019, \"target\": 52.0}, {\"x\": -0.205136652493094, \"y\": -0.02713123016497739, \"target\": 37.0}, {\"x\": -0.12590620253852072, \"y\": 0.1060462697613283, \"target\": 170.0}, {\"x\": 0.06899439481576188, \"y\": 0.05749053692271482, \"target\": 170.0}, {\"x\": -0.16425440461361904, \"y\": -0.017585372261438054, \"target\": 61.0}, {\"x\": 0.035772863903974245, \"y\": -0.10059514188644726, \"target\": 144.0}, {\"x\": -0.09159180128268406, \"y\": 0.0104198796529242, \"target\": 52.0}, {\"x\": -0.053232105704427046, \"y\": 0.06150603030896969, \"target\": 128.0}, {\"x\": -0.05724126439521944, \"y\": -0.0699817152802487, \"target\": 71.0}, {\"x\": 0.08245918680373768, \"y\": -0.05100869707311582, \"target\": 163.0}, {\"x\": 0.04766207200209764, \"y\": -0.06238976621728597, \"target\": 150.0}, {\"x\": 0.00997591072001583, \"y\": -0.019373781580961893, \"target\": 97.0}, {\"x\": -0.02426961917121048, \"y\": -0.042679060830498966, \"target\": 160.0}, {\"x\": -0.09412942497455067, \"y\": -0.05021332025189981, \"target\": 178.0}, {\"x\": -0.08434508959002758, \"y\": 0.062256962316447596, \"target\": 48.0}, {\"x\": 0.08470772989777074, \"y\": 0.009745600998972358, \"target\": 270.0}, {\"x\": 0.08047915460375198, \"y\": 0.09467967555396443, \"target\": 202.0}, {\"x\": 0.04895582183865359, \"y\": 0.025906402908610994, \"target\": 111.0}, {\"x\": 0.04014723655676778, \"y\": 0.013541565315608598, \"target\": 85.0}, {\"x\": 0.0029998606394091147, \"y\": -0.03153217148228205, \"target\": 42.0}, {\"x\": -0.06256716578746453, \"y\": -0.18123770569779962, \"target\": 170.0}, {\"x\": -0.1332011771186155, \"y\": 0.006767286294369483, \"target\": 200.0}, {\"x\": -0.07474659165133536, \"y\": -0.06156456772772517, \"target\": 252.0}, {\"x\": -0.0800470133838853, \"y\": 0.04288551103505898, \"target\": 113.0}, {\"x\": 0.05755784985382693, \"y\": 0.10434056521488226, \"target\": 143.0}, {\"x\": 0.029140120795159593, \"y\": -0.005131364268352528, \"target\": 51.0}, {\"x\": -0.10996591421796584, \"y\": 0.11434800674560147, \"target\": 52.0}, {\"x\": -0.0991678461970307, \"y\": -0.036146295446682186, \"target\": 210.0}, {\"x\": -0.16980174295612258, \"y\": 0.0460491666708214, \"target\": 65.0}, {\"x\": -0.040222254440921444, \"y\": 0.019549380531641514, \"target\": 141.0}, {\"x\": -0.09984014096265577, \"y\": -0.05610508247974645, \"target\": 55.0}, {\"x\": -0.010218025561077874, \"y\": 0.11587693660742855, \"target\": 134.0}, {\"x\": -0.07489474504482566, \"y\": -0.02459966009695176, \"target\": 42.0}, {\"x\": -0.08273882572226367, \"y\": 0.053662352417863754, \"target\": 111.0}, {\"x\": -0.1290848192585401, \"y\": 0.03498618389316131, \"target\": 98.0}, {\"x\": 0.08507360428999144, \"y\": 0.07409647384449078, \"target\": 164.0}, {\"x\": -0.016668501222625108, \"y\": 0.02922598590419951, \"target\": 48.0}, {\"x\": -0.14110777339004, \"y\": 0.07138060860582185, \"target\": 96.0}, {\"x\": -0.12085999345113767, \"y\": 0.05931037485172576, \"target\": 90.0}, {\"x\": -0.07929171899708995, \"y\": -0.026252073271176006, \"target\": 162.0}, {\"x\": 0.09260945018741452, \"y\": -0.06218226630390012, \"target\": 150.0}, {\"x\": 0.07816749105152121, \"y\": 0.012181175273427979, \"target\": 279.0}, {\"x\": -0.048481135805067875, \"y\": -0.019373664607071992, \"target\": 92.0}, {\"x\": 0.002855870549134171, \"y\": 0.053363235247784656, \"target\": 83.0}, {\"x\": 0.03470620695171449, \"y\": 0.0878325309175133, \"target\": 128.0}, {\"x\": -0.014706178454113173, \"y\": 0.017956941222733835, \"target\": 102.0}, {\"x\": -0.03775006582001548, \"y\": 0.0747773261553709, \"target\": 302.0}, {\"x\": 0.0881231657308999, \"y\": 0.013068598221918783, \"target\": 198.0}, {\"x\": -0.07674996985953401, \"y\": 0.005262854855439462, \"target\": 95.0}, {\"x\": -0.019576929229944046, \"y\": -0.0443799354959133, \"target\": 53.0}, {\"x\": -0.1608415126555269, \"y\": 0.004416074128516519, \"target\": 134.0}, {\"x\": 0.028297638480467985, \"y\": 0.003930780768809406, \"target\": 144.0}, {\"x\": 0.05714622524980851, \"y\": -0.1343278907913627, \"target\": 232.0}, {\"x\": 0.09051893846519601, \"y\": -0.03832863378602457, \"target\": 81.0}, {\"x\": -0.09686042472274192, \"y\": -0.036378219603985636, \"target\": 104.0}, {\"x\": -0.05808034136623981, \"y\": 0.08025863379001863, \"target\": 59.0}, {\"x\": -0.02721766488849152, \"y\": 0.024941233901682104, \"target\": 246.0}, {\"x\": 0.12224166745395101, \"y\": -0.04690446415129007, \"target\": 297.0}, {\"x\": 0.10154406827651198, \"y\": -0.03358226987188578, \"target\": 258.0}, {\"x\": 0.13353772975599712, \"y\": 0.005428715171217897, \"target\": 229.0}, {\"x\": 0.10680462271637974, \"y\": -0.03514875310274517, \"target\": 275.0}, {\"x\": 0.1659854655517693, \"y\": 0.009190626864679854, \"target\": 281.0}, {\"x\": 0.07508098663133266, \"y\": -0.020227978412682885, \"target\": 179.0}, {\"x\": -0.048681118033593436, \"y\": 0.011692568827823678, \"target\": 200.0}, {\"x\": -0.05201683045298507, \"y\": -0.022938575283407498, \"target\": 200.0}, {\"x\": 0.0630818722822544, \"y\": 0.006689184062100192, \"target\": 173.0}, {\"x\": 0.1620788215092196, \"y\": -0.016151940594028066, \"target\": 180.0}, {\"x\": 0.2696446778709241, \"y\": 0.10284325436349953, \"target\": 84.0}, {\"x\": -0.05943258717516428, \"y\": -0.009573755895029925, \"target\": 121.0}, {\"x\": 0.013252541532434329, \"y\": -0.0870550110875444, \"target\": 161.0}, {\"x\": -0.18915537372323765, \"y\": 0.003215423218106398, \"target\": 99.0}, {\"x\": -0.03738321195027051, \"y\": 0.0624825050801054, \"target\": 109.0}, {\"x\": -0.10967761737057218, \"y\": 0.0475842708613806, \"target\": 115.0}, {\"x\": 0.08273479153927576, \"y\": -0.003308578292564569, \"target\": 268.0}, {\"x\": 0.08358663697725784, \"y\": -0.06574445895753583, \"target\": 274.0}, {\"x\": -0.1439507536892214, \"y\": 0.03575824843461242, \"target\": 158.0}, {\"x\": 0.03408560266791678, \"y\": 0.02602744374609986, \"target\": 107.0}, {\"x\": -0.1339812212956382, \"y\": -0.08278474775615086, \"target\": 83.0}, {\"x\": -0.07621232206906042, \"y\": 0.058307334375475514, \"target\": 103.0}, {\"x\": 0.04029050046400969, \"y\": -0.07965184780607315, \"target\": 272.0}, {\"x\": -0.19220854672973034, \"y\": 0.0014395356119853687, \"target\": 85.0}, {\"x\": 0.026288645662740025, \"y\": -0.022482574261829466, \"target\": 280.0}, {\"x\": 0.08791678711992429, \"y\": -0.09737366564089743, \"target\": 336.0}, {\"x\": 0.026756076181363213, \"y\": -0.05610179362991932, \"target\": 281.0}, {\"x\": 0.027016842738483607, \"y\": -0.06614617923405787, \"target\": 118.0}, {\"x\": 0.15724799787985647, \"y\": -0.0010483190636006497, \"target\": 317.0}, {\"x\": 0.08179568005839513, \"y\": 0.02796852484778702, \"target\": 235.0}, {\"x\": -0.07409353029589742, \"y\": 0.07535255124516983, \"target\": 60.0}, {\"x\": 0.10239881691545713, \"y\": -0.023532873584868448, \"target\": 174.0}, {\"x\": -0.026845914674608166, \"y\": -0.033921293905000365, \"target\": 259.0}, {\"x\": 0.07135497536043164, \"y\": -0.03436879308893762, \"target\": 178.0}, {\"x\": 0.057599841413639954, \"y\": 0.001798299947090271, \"target\": 128.0}, {\"x\": 0.006972730171079367, \"y\": 0.03196102774327682, \"target\": 96.0}, {\"x\": 0.031093000016736847, \"y\": -0.07393519683167925, \"target\": 126.0}, {\"x\": 0.005724447960790093, \"y\": -0.03751179090736024, \"target\": 288.0}, {\"x\": -0.061482651438423866, \"y\": 0.033591751714910335, \"target\": 88.0}, {\"x\": 0.15662276522188529, \"y\": -0.02487079780756836, \"target\": 292.0}, {\"x\": 0.01999330888938191, \"y\": -0.021634655004844502, \"target\": 71.0}, {\"x\": 0.04897161482100681, \"y\": 0.0028335096614724485, \"target\": 197.0}, {\"x\": 0.14049130697543893, \"y\": 0.04211483556368771, \"target\": 186.0}, {\"x\": -0.07955737036797947, \"y\": -0.007554910273584945, \"target\": 25.0}, {\"x\": 0.04526110604845178, \"y\": 0.014536522594601874, \"target\": 84.0}, {\"x\": -0.07383219317066189, \"y\": 0.04908295550145029, \"target\": 96.0}, {\"x\": 0.047671143336127944, \"y\": 0.0027002275786243844, \"target\": 195.0}, {\"x\": -0.10897879973845453, \"y\": 0.02719549607206489, \"target\": 53.0}, {\"x\": 0.24396992118754265, \"y\": 0.0582736389764624, \"target\": 217.0}, {\"x\": -0.05514863319586359, \"y\": 0.0013853896374380011, \"target\": 172.0}, {\"x\": 0.06641014992659547, \"y\": -0.05085807003642741, \"target\": 131.0}, {\"x\": -0.036627857302107304, \"y\": 0.08281709115119187, \"target\": 214.0}, {\"x\": -0.1346796330026358, \"y\": 0.021102411723358888, \"target\": 59.0}, {\"x\": -0.16241353834517835, \"y\": -0.08393227713266764, \"target\": 70.0}, {\"x\": 0.1369869229767253, \"y\": -0.014481699692941986, \"target\": 220.0}, {\"x\": 0.20064370573047866, \"y\": -0.01374686835270077, \"target\": 268.0}, {\"x\": 0.11192900422426905, \"y\": 0.00713749282626577, \"target\": 152.0}, {\"x\": -0.08760882580906407, \"y\": 0.011737801988653079, \"target\": 47.0}, {\"x\": -0.14701278502640727, \"y\": -0.03449221331057225, \"target\": 74.0}, {\"x\": 0.1362674492976562, \"y\": -0.02128171719367275, \"target\": 295.0}, {\"x\": -0.11653588495572084, \"y\": -0.07797706140462934, \"target\": 101.0}, {\"x\": -0.05918365191769832, \"y\": -0.1313267744780258, \"target\": 151.0}, {\"x\": -0.06138054739387672, \"y\": 0.006896332732775939, \"target\": 127.0}, {\"x\": 0.05367703040356947, \"y\": 0.00020040865099684664, \"target\": 237.0}, {\"x\": 0.10756323986189649, \"y\": -0.0010144600276030522, \"target\": 225.0}, {\"x\": -0.059776715698635206, \"y\": 0.08785162364775702, \"target\": 81.0}, {\"x\": 0.029118979056401227, \"y\": 0.027078836161461586, \"target\": 151.0}, {\"x\": 0.04434284591438417, \"y\": -0.05717138681169377, \"target\": 107.0}, {\"x\": -0.033130337475217306, \"y\": 0.10569352121459188, \"target\": 64.0}, {\"x\": 0.13444732682264976, \"y\": 0.026789510841870545, \"target\": 138.0}, {\"x\": 0.04971790773022159, \"y\": -0.03427780416602175, \"target\": 185.0}, {\"x\": 0.010945640165622921, \"y\": -0.0286868010637776, \"target\": 265.0}, {\"x\": 0.027677526323851363, \"y\": -0.07940777041253834, \"target\": 101.0}, {\"x\": 0.10460200007050925, \"y\": -0.018509707465027725, \"target\": 137.0}, {\"x\": -0.21466030822281995, \"y\": -0.013455733614388414, \"target\": 143.0}, {\"x\": 0.03827142187670546, \"y\": 0.10960387445242177, \"target\": 141.0}, {\"x\": -0.049022138619632706, \"y\": 0.036016024601798764, \"target\": 79.0}, {\"x\": 0.024764505795423563, \"y\": -0.02335538331774674, \"target\": 292.0}, {\"x\": -0.07741224374068688, \"y\": -0.10100982787946677, \"target\": 178.0}, {\"x\": -0.02825531382824348, \"y\": 0.03288952846045526, \"target\": 91.0}, {\"x\": 0.1090082229132453, \"y\": 0.04115903317214799, \"target\": 116.0}, {\"x\": -0.07263731719371695, \"y\": -0.03740404130175522, \"target\": 86.0}, {\"x\": 0.08954773706196753, \"y\": -0.012070384185013593, \"target\": 122.0}, {\"x\": -0.033099601131130356, \"y\": 0.08246217529257506, \"target\": 72.0}, {\"x\": 0.08878757093549139, \"y\": -0.05970777253123802, \"target\": 129.0}, {\"x\": -0.1014578786419931, \"y\": -0.03441346813941306, \"target\": 142.0}, {\"x\": 0.02549442368613754, \"y\": 0.056370052665815205, \"target\": 90.0}, {\"x\": -0.0021399713718058128, \"y\": 0.10892190929602687, \"target\": 158.0}, {\"x\": -0.06402820492220153, \"y\": 0.0013191328279819248, \"target\": 39.0}, {\"x\": 0.14426488624772724, \"y\": 0.10055940016457741, \"target\": 196.0}, {\"x\": 0.1265770789418867, \"y\": -0.011169013017626489, \"target\": 222.0}, {\"x\": 0.08500446132352407, \"y\": -0.0717175131490977, \"target\": 277.0}, {\"x\": -0.004786231851652579, \"y\": -0.02337718832621495, \"target\": 99.0}, {\"x\": 0.06255630691541643, \"y\": -0.0043556122028884404, \"target\": 196.0}, {\"x\": 0.01923224578332894, \"y\": 0.019089999276033373, \"target\": 202.0}, {\"x\": 0.111386516106892, \"y\": 0.0021681050453324986, \"target\": 155.0}, {\"x\": 0.03441769083375617, \"y\": -0.10079529507847153, \"target\": 77.0}, {\"x\": -0.031084404062090967, \"y\": 0.11069983992855048, \"target\": 191.0}, {\"x\": -0.018310654478010797, \"y\": -0.003799617027947419, \"target\": 70.0}, {\"x\": 0.014043436862329993, \"y\": 0.09413118943468005, \"target\": 73.0}, {\"x\": -0.0672016765684829, \"y\": 0.04632992117129575, \"target\": 49.0}, {\"x\": -0.15749486782849267, \"y\": 0.026539981838986617, \"target\": 65.0}, {\"x\": 0.10662625747559756, \"y\": -0.1128008444337734, \"target\": 263.0}, {\"x\": 0.19560513921108125, \"y\": -0.017241168428669382, \"target\": 248.0}, {\"x\": 0.09532813414718849, \"y\": 0.04854126247524064, \"target\": 296.0}, {\"x\": -0.019779021231733942, \"y\": 0.011106391165641808, \"target\": 214.0}, {\"x\": -0.12293194053678412, \"y\": -0.0399624692663996, \"target\": 185.0}, {\"x\": -0.10773578067590213, \"y\": -0.03737759838285121, \"target\": 78.0}, {\"x\": -0.04587540831932396, \"y\": 0.003543906796419324, \"target\": 93.0}, {\"x\": -0.031267968054910916, \"y\": -0.08490350904162831, \"target\": 252.0}, {\"x\": -0.13911087153194274, \"y\": -0.02183784278080478, \"target\": 150.0}, {\"x\": -0.13034774715120556, \"y\": -0.0005615128597437115, \"target\": 77.0}, {\"x\": 0.0694488682417782, \"y\": -0.11226705913970297, \"target\": 208.0}, {\"x\": -0.10960746848405203, \"y\": -0.015248618231742438, \"target\": 77.0}, {\"x\": -0.02999304881233713, \"y\": 0.014357450719863848, \"target\": 108.0}, {\"x\": -0.06841923777930184, \"y\": 0.04005773135611642, \"target\": 160.0}, {\"x\": -0.04212934811949949, \"y\": 0.01098526024409335, \"target\": 53.0}, {\"x\": 0.18696935295410563, \"y\": 0.12303496375121058, \"target\": 220.0}, {\"x\": 0.0008394118883185787, \"y\": 0.029289607112654686, \"target\": 154.0}, {\"x\": 0.09766555397498178, \"y\": 0.004079802828734063, \"target\": 259.0}, {\"x\": -0.06942584076670975, \"y\": 0.023445696944835327, \"target\": 90.0}, {\"x\": 0.05459856171445321, \"y\": -0.0019247147692281676, \"target\": 246.0}, {\"x\": 0.039630998805211336, \"y\": -0.10831170121031976, \"target\": 124.0}, {\"x\": 0.09085787578920956, \"y\": 0.09382297485872175, \"target\": 67.0}, {\"x\": -0.0836153666821412, \"y\": 0.06611807446132327, \"target\": 72.0}, {\"x\": 0.06459369999047357, \"y\": -0.09095044100617361, \"target\": 257.0}, {\"x\": 0.0633499633006148, \"y\": 0.10902081281106557, \"target\": 262.0}, {\"x\": 0.10267847059585856, \"y\": -0.07180996540655517, \"target\": 275.0}, {\"x\": 0.031050394248049982, \"y\": 0.004152938694553571, \"target\": 177.0}, {\"x\": -0.1444921727662053, \"y\": -0.0961210634926203, \"target\": 71.0}, {\"x\": -0.04343523737568934, \"y\": -0.03986334818500891, \"target\": 47.0}, {\"x\": -0.06838664231804607, \"y\": -0.06295854770467808, \"target\": 187.0}, {\"x\": -0.15918191701845769, \"y\": -0.0031835296910855777, \"target\": 125.0}, {\"x\": -0.002656948583967274, \"y\": 0.13440996597744173, \"target\": 78.0}, {\"x\": -0.1380921943886608, \"y\": 0.07156367391074084, \"target\": 51.0}, {\"x\": 0.19279919649999844, \"y\": 0.1061475115806307, \"target\": 258.0}, {\"x\": 0.09702403224435567, \"y\": 0.027071097143556048, \"target\": 215.0}, {\"x\": 0.07301398363499456, \"y\": -0.04586172671617993, \"target\": 303.0}, {\"x\": 0.19724331154058372, \"y\": -0.03497807723259649, \"target\": 243.0}, {\"x\": 0.04544304242321838, \"y\": 0.031362915007695516, \"target\": 91.0}, {\"x\": 0.11477398943445173, \"y\": 0.05209531691517728, \"target\": 150.0}, {\"x\": 0.1819257723002735, \"y\": -0.048878159700454185, \"target\": 310.0}, {\"x\": -0.06616417311995186, \"y\": 0.038481816081498796, \"target\": 153.0}, {\"x\": 0.0423514434378241, \"y\": -0.05712794553994092, \"target\": 346.0}, {\"x\": -0.0672032580455361, \"y\": 0.0032555128154605232, \"target\": 63.0}, {\"x\": 0.08676669909176102, \"y\": -0.022887641765025283, \"target\": 89.0}, {\"x\": -0.009861821149652209, \"y\": 0.0021291296981178335, \"target\": 50.0}, {\"x\": -0.13737884872337447, \"y\": 0.10427068078507493, \"target\": 39.0}, {\"x\": -0.061646567175363445, \"y\": 0.11424896122671414, \"target\": 103.0}, {\"x\": 0.11775516705730005, \"y\": -0.05071472255791199, \"target\": 308.0}, {\"x\": -0.12166746431788003, \"y\": -0.03776993001841773, \"target\": 116.0}, {\"x\": -0.01892070853820876, \"y\": -0.07058764541438838, \"target\": 145.0}, {\"x\": -0.0013743309410888926, \"y\": -0.014024371782448062, \"target\": 74.0}, {\"x\": -0.13266927567173784, \"y\": 0.03374975200545023, \"target\": 45.0}, {\"x\": 0.06647720634201786, \"y\": 0.10820021398016792, \"target\": 115.0}, {\"x\": 0.16899376110324357, \"y\": -0.04905595131647344, \"target\": 264.0}, {\"x\": -0.10691082710145712, \"y\": 0.1352164931721564, \"target\": 87.0}, {\"x\": 0.00012130262571835271, \"y\": -0.06968770159026812, \"target\": 202.0}, {\"x\": 0.015424880117872884, \"y\": -0.07938497532741157, \"target\": 127.0}, {\"x\": -0.11494908197291855, \"y\": -0.04915395850459154, \"target\": 182.0}, {\"x\": 0.16157271765249387, \"y\": 0.00898472021051597, \"target\": 241.0}, {\"x\": 0.007588585263508684, \"y\": 0.0027671238005467806, \"target\": 66.0}, {\"x\": 0.026275763193588562, \"y\": -0.05615918172730424, \"target\": 94.0}, {\"x\": 0.09042782269051085, \"y\": 0.15104090057794442, \"target\": 283.0}, {\"x\": -0.13414243024641098, \"y\": -0.0032669401656751614, \"target\": 64.0}, {\"x\": 0.0352628095007963, \"y\": -0.026933726913955625, \"target\": 102.0}, {\"x\": -0.04249832504377647, \"y\": -0.028660342405116092, \"target\": 200.0}, {\"x\": 0.03143836781826481, \"y\": -0.0015711129921323669, \"target\": 265.0}, {\"x\": -0.06196300954555135, \"y\": -0.03389711542214028, \"target\": 94.0}, {\"x\": 0.08724643055255374, \"y\": 0.12078704523740155, \"target\": 230.0}, {\"x\": -0.12275414982513055, \"y\": 0.004151599094370321, \"target\": 181.0}, {\"x\": -0.01935755465976022, \"y\": -0.10328652981148605, \"target\": 156.0}, {\"x\": 0.07919947133370019, \"y\": -0.005978125773334974, \"target\": 233.0}, {\"x\": -0.17766717786552447, \"y\": 0.0537962619017066, \"target\": 60.0}, {\"x\": 0.10209475506583027, \"y\": 0.15813999320795338, \"target\": 219.0}, {\"x\": 0.01644805893616977, \"y\": 0.056518189004577606, \"target\": 80.0}, {\"x\": 0.09121230125284363, \"y\": 0.00337593960496644, \"target\": 68.0}, {\"x\": 0.11468205452990192, \"y\": -0.058539086425138054, \"target\": 332.0}, {\"x\": 0.06635393914595568, \"y\": 0.0716152487762661, \"target\": 248.0}, {\"x\": -0.15173823948175755, \"y\": 0.01506749907112444, \"target\": 84.0}, {\"x\": 0.00885314916034952, \"y\": 0.030826045221138382, \"target\": 200.0}, {\"x\": -0.026890247443231197, \"y\": -0.025735599408013555, \"target\": 55.0}, {\"x\": -0.02060154394318687, \"y\": -0.023645717904644207, \"target\": 85.0}, {\"x\": -0.10771982002266518, \"y\": 0.035432809121405444, \"target\": 89.0}, {\"x\": -0.11023734656835389, \"y\": 0.005475514341804815, \"target\": 31.0}, {\"x\": -0.09115754475665606, \"y\": -0.10451548059068239, \"target\": 129.0}, {\"x\": -0.01822632866987797, \"y\": -0.05028569426653781, \"target\": 83.0}, {\"x\": 0.03406231092778343, \"y\": -0.008345454686908055, \"target\": 275.0}, {\"x\": 0.029844005179221894, \"y\": 0.019154756795010264, \"target\": 65.0}, {\"x\": 0.05896547525677202, \"y\": 0.032313493392704645, \"target\": 198.0}, {\"x\": 0.08414366529683716, \"y\": 0.0560346253258932, \"target\": 236.0}, {\"x\": 0.11741136516254799, \"y\": 0.05487745292995329, \"target\": 253.0}, {\"x\": 0.021457659664235747, \"y\": -0.03845793741652409, \"target\": 124.0}, {\"x\": -0.039720473273474, \"y\": -0.05386415081586815, \"target\": 44.0}, {\"x\": 0.0948530461745491, \"y\": -0.006494369653624055, \"target\": 172.0}, {\"x\": -0.17604912765388095, \"y\": -0.014051344645403056, \"target\": 114.0}, {\"x\": 0.08505193874294299, \"y\": 0.06737654932032747, \"target\": 142.0}, {\"x\": 0.03228134218471915, \"y\": -0.0014974867169517058, \"target\": 109.0}, {\"x\": 0.079877177300421, \"y\": 0.0611530166574224, \"target\": 180.0}, {\"x\": -0.09082442671778092, \"y\": 0.014111731079257398, \"target\": 144.0}, {\"x\": 0.10924201259312394, \"y\": -0.01364776684702229, \"target\": 163.0}, {\"x\": -0.025592544638663943, \"y\": 0.007859600671884518, \"target\": 147.0}, {\"x\": -0.046344594387807116, \"y\": 0.0871043161649897, \"target\": 97.0}, {\"x\": 0.07578081302128141, \"y\": -0.05443472332929823, \"target\": 220.0}, {\"x\": 0.09738765822301916, \"y\": 0.07608604668683158, \"target\": 190.0}, {\"x\": 0.01227523885170712, \"y\": 0.06965631568008317, \"target\": 109.0}, {\"x\": -0.019870050905493084, \"y\": 0.004671283712449779, \"target\": 191.0}, {\"x\": 0.10387535473490267, \"y\": 0.08647256178419384, \"target\": 122.0}, {\"x\": 0.22071230648170315, \"y\": -0.005607283529390872, \"target\": 230.0}, {\"x\": 0.21512161875475097, \"y\": -0.10636375217778203, \"target\": 242.0}, {\"x\": 0.1840877357973302, \"y\": -0.032736776024283196, \"target\": 248.0}, {\"x\": 0.14739410167656128, \"y\": 0.06375939556451343, \"target\": 249.0}, {\"x\": 0.13078570803538794, \"y\": 0.05129696720295577, \"target\": 192.0}, {\"x\": 0.05197905845667044, \"y\": -0.040791343505953905, \"target\": 131.0}, {\"x\": 0.059069981893157826, \"y\": 0.03451048775587525, \"target\": 237.0}, {\"x\": -0.02340075006322314, \"y\": -0.020433399569729248, \"target\": 78.0}, {\"x\": -0.04506931600234361, \"y\": -0.03124350690371989, \"target\": 135.0}, {\"x\": 0.08925308082375748, \"y\": -0.05340126835147295, \"target\": 244.0}, {\"x\": -0.03822099307054394, \"y\": -0.08678677470490395, \"target\": 199.0}, {\"x\": 0.10759120443303165, \"y\": -0.056319726161817796, \"target\": 270.0}, {\"x\": 0.06753583123726026, \"y\": -0.066960886989932, \"target\": 164.0}, {\"x\": -0.1255428528364888, \"y\": -0.07345418575850053, \"target\": 72.0}, {\"x\": -0.10047358407098407, \"y\": 0.06555687799192571, \"target\": 96.0}, {\"x\": 0.193608352566784, \"y\": 0.053830257092748746, \"target\": 306.0}, {\"x\": 0.05661033812700128, \"y\": -0.052425164399607316, \"target\": 91.0}, {\"x\": -0.053934322587954504, \"y\": 0.028981563949008558, \"target\": 214.0}, {\"x\": 0.03820619876381242, \"y\": 0.11053354305645216, \"target\": 95.0}, {\"x\": -0.030506891213165275, \"y\": 0.008947118708401307, \"target\": 216.0}, {\"x\": 0.03524310759673886, \"y\": -0.061550363150002556, \"target\": 263.0}, {\"x\": 0.05423547971436853, \"y\": -0.04169246570748479, \"target\": 178.0}, {\"x\": -0.02509986127178643, \"y\": 0.029768636984492527, \"target\": 113.0}, {\"x\": 0.005272036352729797, \"y\": 0.07048381641235595, \"target\": 200.0}, {\"x\": 0.06919540844464009, \"y\": 0.032378617010252866, \"target\": 139.0}, {\"x\": 0.17861951955223404, \"y\": 0.08616066849407893, \"target\": 139.0}, {\"x\": -0.031007443268413003, \"y\": -0.010974206815411185, \"target\": 88.0}, {\"x\": -0.06467809327957716, \"y\": 0.049245326995771756, \"target\": 148.0}, {\"x\": -0.07284779089423561, \"y\": -0.1257763229976423, \"target\": 88.0}, {\"x\": 0.1192487798415229, \"y\": -0.060889705315226035, \"target\": 243.0}, {\"x\": -0.13344574449229354, \"y\": -0.08629917714341982, \"target\": 71.0}, {\"x\": -0.16038403779860222, \"y\": -0.005826510547866889, \"target\": 77.0}, {\"x\": 0.046396976325681266, \"y\": 0.07644202299140743, \"target\": 109.0}, {\"x\": 0.15533946519974276, \"y\": 0.06363237994602722, \"target\": 272.0}, {\"x\": -0.03199098345114741, \"y\": -0.061750172475503844, \"target\": 60.0}, {\"x\": -0.03822324724735751, \"y\": 0.014767767285161677, \"target\": 54.0}, {\"x\": 0.003954580818310913, \"y\": -0.06092994434117191, \"target\": 221.0}, {\"x\": -0.14998429753260262, \"y\": 0.027610137576203626, \"target\": 90.0}, {\"x\": 0.08367707463292298, \"y\": -0.03200296506119338, \"target\": 311.0}, {\"x\": 0.016757488577153867, \"y\": -0.009239150815291182, \"target\": 281.0}, {\"x\": -0.09259965220535855, \"y\": 0.001265391574775555, \"target\": 182.0}, {\"x\": 0.0632167341309543, \"y\": -0.09354932138297758, \"target\": 321.0}, {\"x\": 0.006972569249795711, \"y\": -0.09429989229978465, \"target\": 58.0}, {\"x\": 0.06428252818368617, \"y\": -0.05041587814233424, \"target\": 262.0}, {\"x\": 0.03334290998574777, \"y\": 0.022024678391932756, \"target\": 206.0}, {\"x\": 0.14753417999801097, \"y\": -0.0355669925052823, \"target\": 233.0}, {\"x\": 0.12927958346211518, \"y\": -0.03282767601731155, \"target\": 242.0}, {\"x\": 0.09516979571619559, \"y\": -0.03903736972158778, \"target\": 123.0}, {\"x\": 0.006487361891304119, \"y\": -0.02487506436809322, \"target\": 167.0}, {\"x\": -0.1276272551095558, \"y\": 0.07687094168439527, \"target\": 63.0}, {\"x\": 0.10024484160128305, \"y\": -0.013314781328708884, \"target\": 197.0}, {\"x\": -0.018497746256325227, \"y\": 0.014428994595099968, \"target\": 71.0}, {\"x\": -0.10460047960094529, \"y\": -0.045163558257129734, \"target\": 168.0}, {\"x\": -0.15208686120983436, \"y\": -0.027724257707641184, \"target\": 140.0}, {\"x\": 0.07616921671570183, \"y\": 0.009818324629476382, \"target\": 217.0}, {\"x\": 0.15857105460650436, \"y\": 0.11547611532065387, \"target\": 121.0}, {\"x\": 0.07387830459243505, \"y\": -0.024882794248408186, \"target\": 235.0}, {\"x\": 0.03935289669967385, \"y\": -0.042130477651350556, \"target\": 245.0}, {\"x\": -0.14186228736680973, \"y\": -0.07894640702619388, \"target\": 40.0}, {\"x\": -0.05582081237280164, \"y\": -0.05036744300233124, \"target\": 52.0}, {\"x\": -0.09148359231162413, \"y\": -0.04597912085995011, \"target\": 104.0}, {\"x\": 0.04296906481033028, \"y\": -0.06114385014367069, \"target\": 132.0}, {\"x\": -0.045438891680766015, \"y\": -0.0383161349468195, \"target\": 88.0}, {\"x\": 0.05784580172781274, \"y\": 0.09911170830253346, \"target\": 69.0}, {\"x\": -0.05347564337209979, \"y\": -0.07985855865271345, \"target\": 219.0}, {\"x\": -0.07218173078978939, \"y\": 0.043571766512208523, \"target\": 72.0}, {\"x\": -0.11383346821642382, \"y\": -0.018412656689619784, \"target\": 201.0}, {\"x\": 0.027176666330019295, \"y\": -0.03562566548900671, \"target\": 110.0}, {\"x\": -0.09871270529562065, \"y\": 0.013550391920233678, \"target\": 51.0}, {\"x\": 0.1373458768798566, \"y\": -0.07384725951954701, \"target\": 277.0}, {\"x\": -0.16267669812929694, \"y\": -0.0019853517784953686, \"target\": 63.0}, {\"x\": 0.012069317476918789, \"y\": 0.014421093958003285, \"target\": 118.0}, {\"x\": -0.1118482289178572, \"y\": 0.01334563111065426, \"target\": 69.0}, {\"x\": 0.10667783321047482, \"y\": -0.05368166093945252, \"target\": 273.0}, {\"x\": -0.04917114017739272, \"y\": 0.014563607935007055, \"target\": 258.0}, {\"x\": -0.1353958566589957, \"y\": -0.05864274843463332, \"target\": 43.0}, {\"x\": -0.029056476366158168, \"y\": -0.03726940066488077, \"target\": 198.0}, {\"x\": 0.010521315847359195, \"y\": 0.06148032525541969, \"target\": 242.0}, {\"x\": 0.0766937384640519, \"y\": -0.022183374854899466, \"target\": 232.0}, {\"x\": -0.04669197251866722, \"y\": 0.010221373450369945, \"target\": 175.0}, {\"x\": -0.12178588817751143, \"y\": 0.029095308781750068, \"target\": 93.0}, {\"x\": 0.09104996700679663, \"y\": -0.03988788432078557, \"target\": 168.0}, {\"x\": 0.046170137666138485, \"y\": -0.027847383419493953, \"target\": 275.0}, {\"x\": -0.0301936453504136, \"y\": -0.025072038327185513, \"target\": 293.0}, {\"x\": 0.03133521850534848, \"y\": -0.18753497562582325, \"target\": 281.0}, {\"x\": -0.18603573330869796, \"y\": 0.03384022486365434, \"target\": 72.0}, {\"x\": 0.03325540309628018, \"y\": 0.017600530824943963, \"target\": 140.0}, {\"x\": 0.08713346895043007, \"y\": 0.024391606947855346, \"target\": 189.0}, {\"x\": 0.10644060987882391, \"y\": 0.012233386061604843, \"target\": 181.0}, {\"x\": 0.06496250725907857, \"y\": 0.012695845706298715, \"target\": 209.0}, {\"x\": -0.117858604471254, \"y\": -0.042059067588904445, \"target\": 136.0}, {\"x\": 0.08509085472833283, \"y\": 0.013569952472265919, \"target\": 261.0}, {\"x\": -0.05884666078062311, \"y\": 0.05472349268040795, \"target\": 113.0}, {\"x\": 0.17844078935408775, \"y\": 0.07525639218827294, \"target\": 131.0}, {\"x\": 0.05436788294708975, \"y\": 0.031522306877628366, \"target\": 174.0}, {\"x\": 0.04907791810912088, \"y\": -0.015001872368470323, \"target\": 257.0}, {\"x\": -0.05129680488176204, \"y\": 0.009365586528397567, \"target\": 55.0}, {\"x\": 0.019230720268357305, \"y\": 0.16066723442850633, \"target\": 84.0}, {\"x\": -0.13684086184386465, \"y\": -0.02068584346243863, \"target\": 42.0}, {\"x\": 0.03240948590192226, \"y\": 0.011848020222785579, \"target\": 146.0}, {\"x\": 0.12474577156035119, \"y\": -0.009651449782136456, \"target\": 212.0}, {\"x\": 0.08383114682414941, \"y\": 0.045028145355883065, \"target\": 233.0}, {\"x\": 0.1040666766074849, \"y\": -0.002182170366791069, \"target\": 91.0}, {\"x\": 0.04561844005209334, \"y\": -0.058686789545246816, \"target\": 111.0}, {\"x\": -0.19722071102843233, \"y\": -0.056060086801216935, \"target\": 152.0}, {\"x\": 0.13654571583663727, \"y\": 0.016946063763973545, \"target\": 120.0}, {\"x\": -0.0669382061349205, \"y\": -0.09388001735421567, \"target\": 67.0}, {\"x\": 0.17959840564077592, \"y\": -0.04101552702699287, \"target\": 310.0}, {\"x\": -0.05165366865273631, \"y\": 0.10337870416623038, \"target\": 94.0}, {\"x\": -0.004451448066414502, \"y\": 0.05079235141870728, \"target\": 183.0}, {\"x\": -0.040554540994899226, \"y\": -0.037129797115115375, \"target\": 66.0}, {\"x\": 0.1105319741542417, \"y\": 0.049633492231127646, \"target\": 173.0}, {\"x\": -0.09149275702865395, \"y\": 0.13209281134188336, \"target\": 72.0}, {\"x\": -0.028901954578405206, \"y\": 0.04112501548105851, \"target\": 49.0}, {\"x\": -0.05627279291154043, \"y\": 0.013957551704975955, \"target\": 64.0}, {\"x\": -0.17899893082317345, \"y\": 0.055323542166966014, \"target\": 48.0}, {\"x\": 0.058958186019657056, \"y\": -0.04927595323253821, \"target\": 178.0}, {\"x\": 0.06015655786610482, \"y\": 0.0362122367230314, \"target\": 104.0}, {\"x\": -0.009760672302898942, \"y\": -0.05733918033538688, \"target\": 132.0}, {\"x\": 0.03295651832963231, \"y\": 0.009994727011041692, \"target\": 220.0}, {\"x\": -0.09056122261222581, \"y\": 0.1891084064905614, \"target\": 57.0}]}}, {\"mode\": \"vega-lite\"});\n",
              "</script>"
            ],
            "text/plain": [
              "alt.Chart(...)"
            ]
          },
          "metadata": {},
          "execution_count": 26
        }
      ]
    },
    {
      "cell_type": "markdown",
      "metadata": {
        "id": "ue7I-peIgtqq"
      },
      "source": [
        "ターゲット値の統計値"
      ]
    },
    {
      "cell_type": "code",
      "metadata": {
        "id": "V6Mtzl7Mgtqq",
        "colab": {
          "base_uri": "https://localhost:8080/"
        },
        "outputId": "a7fb5c66-1bd6-41f3-8ac9-1ef6ccf77ba5"
      },
      "source": [
        "print(f'ave: {np.average(t):.1f}   std: {np.std(t):.1f}')"
      ],
      "execution_count": 27,
      "outputs": [
        {
          "output_type": "stream",
          "name": "stdout",
          "text": [
            "ave: 152.1   std: 77.0\n"
          ]
        }
      ]
    },
    {
      "cell_type": "markdown",
      "metadata": {
        "id": "gsECvbqzS_Mr"
      },
      "source": [
        "### 階層的クラスタリング\n",
        "\n",
        "[AgglomerativeClustering](http://scikit-learn.org/stable/modules/generated/sklearn.cluster.AgglomerativeClustering.html)を用いて階層的クラスタリングを行います。クラスタ数を変化させて結果を観察してください。"
      ]
    },
    {
      "cell_type": "code",
      "metadata": {
        "outputId": "2005abea-4dca-4eca-e947-82a4e21ed04d",
        "colab": {
          "base_uri": "https://localhost:8080/",
          "height": 74
        },
        "id": "O3LRTxTVS_Mr"
      },
      "source": [
        "ac=AgglomerativeClustering(n_clusters=5)\n",
        "ac.fit(X)"
      ],
      "execution_count": 28,
      "outputs": [
        {
          "output_type": "execute_result",
          "data": {
            "text/plain": [
              "AgglomerativeClustering(n_clusters=5)"
            ],
            "text/html": [
              "<style>#sk-container-id-6 {color: black;background-color: white;}#sk-container-id-6 pre{padding: 0;}#sk-container-id-6 div.sk-toggleable {background-color: white;}#sk-container-id-6 label.sk-toggleable__label {cursor: pointer;display: block;width: 100%;margin-bottom: 0;padding: 0.3em;box-sizing: border-box;text-align: center;}#sk-container-id-6 label.sk-toggleable__label-arrow:before {content: \"▸\";float: left;margin-right: 0.25em;color: #696969;}#sk-container-id-6 label.sk-toggleable__label-arrow:hover:before {color: black;}#sk-container-id-6 div.sk-estimator:hover label.sk-toggleable__label-arrow:before {color: black;}#sk-container-id-6 div.sk-toggleable__content {max-height: 0;max-width: 0;overflow: hidden;text-align: left;background-color: #f0f8ff;}#sk-container-id-6 div.sk-toggleable__content pre {margin: 0.2em;color: black;border-radius: 0.25em;background-color: #f0f8ff;}#sk-container-id-6 input.sk-toggleable__control:checked~div.sk-toggleable__content {max-height: 200px;max-width: 100%;overflow: auto;}#sk-container-id-6 input.sk-toggleable__control:checked~label.sk-toggleable__label-arrow:before {content: \"▾\";}#sk-container-id-6 div.sk-estimator input.sk-toggleable__control:checked~label.sk-toggleable__label {background-color: #d4ebff;}#sk-container-id-6 div.sk-label input.sk-toggleable__control:checked~label.sk-toggleable__label {background-color: #d4ebff;}#sk-container-id-6 input.sk-hidden--visually {border: 0;clip: rect(1px 1px 1px 1px);clip: rect(1px, 1px, 1px, 1px);height: 1px;margin: -1px;overflow: hidden;padding: 0;position: absolute;width: 1px;}#sk-container-id-6 div.sk-estimator {font-family: monospace;background-color: #f0f8ff;border: 1px dotted black;border-radius: 0.25em;box-sizing: border-box;margin-bottom: 0.5em;}#sk-container-id-6 div.sk-estimator:hover {background-color: #d4ebff;}#sk-container-id-6 div.sk-parallel-item::after {content: \"\";width: 100%;border-bottom: 1px solid gray;flex-grow: 1;}#sk-container-id-6 div.sk-label:hover label.sk-toggleable__label {background-color: #d4ebff;}#sk-container-id-6 div.sk-serial::before {content: \"\";position: absolute;border-left: 1px solid gray;box-sizing: border-box;top: 0;bottom: 0;left: 50%;z-index: 0;}#sk-container-id-6 div.sk-serial {display: flex;flex-direction: column;align-items: center;background-color: white;padding-right: 0.2em;padding-left: 0.2em;position: relative;}#sk-container-id-6 div.sk-item {position: relative;z-index: 1;}#sk-container-id-6 div.sk-parallel {display: flex;align-items: stretch;justify-content: center;background-color: white;position: relative;}#sk-container-id-6 div.sk-item::before, #sk-container-id-6 div.sk-parallel-item::before {content: \"\";position: absolute;border-left: 1px solid gray;box-sizing: border-box;top: 0;bottom: 0;left: 50%;z-index: -1;}#sk-container-id-6 div.sk-parallel-item {display: flex;flex-direction: column;z-index: 1;position: relative;background-color: white;}#sk-container-id-6 div.sk-parallel-item:first-child::after {align-self: flex-end;width: 50%;}#sk-container-id-6 div.sk-parallel-item:last-child::after {align-self: flex-start;width: 50%;}#sk-container-id-6 div.sk-parallel-item:only-child::after {width: 0;}#sk-container-id-6 div.sk-dashed-wrapped {border: 1px dashed gray;margin: 0 0.4em 0.5em 0.4em;box-sizing: border-box;padding-bottom: 0.4em;background-color: white;}#sk-container-id-6 div.sk-label label {font-family: monospace;font-weight: bold;display: inline-block;line-height: 1.2em;}#sk-container-id-6 div.sk-label-container {text-align: center;}#sk-container-id-6 div.sk-container {/* jupyter's `normalize.less` sets `[hidden] { display: none; }` but bootstrap.min.css set `[hidden] { display: none !important; }` so we also need the `!important` here to be able to override the default hidden behavior on the sphinx rendered scikit-learn.org. See: https://github.com/scikit-learn/scikit-learn/issues/21755 */display: inline-block !important;position: relative;}#sk-container-id-6 div.sk-text-repr-fallback {display: none;}</style><div id=\"sk-container-id-6\" class=\"sk-top-container\"><div class=\"sk-text-repr-fallback\"><pre>AgglomerativeClustering(n_clusters=5)</pre><b>In a Jupyter environment, please rerun this cell to show the HTML representation or trust the notebook. <br />On GitHub, the HTML representation is unable to render, please try loading this page with nbviewer.org.</b></div><div class=\"sk-container\" hidden><div class=\"sk-item\"><div class=\"sk-estimator sk-toggleable\"><input class=\"sk-toggleable__control sk-hidden--visually\" id=\"sk-estimator-id-6\" type=\"checkbox\" checked><label for=\"sk-estimator-id-6\" class=\"sk-toggleable__label sk-toggleable__label-arrow\">AgglomerativeClustering</label><div class=\"sk-toggleable__content\"><pre>AgglomerativeClustering(n_clusters=5)</pre></div></div></div></div></div>"
            ]
          },
          "metadata": {},
          "execution_count": 28
        }
      ]
    },
    {
      "cell_type": "markdown",
      "metadata": {
        "id": "zwiaBTxTS_Ms"
      },
      "source": [
        "クラスタ毎の事例数とtarget値の平均を表示します。"
      ]
    },
    {
      "cell_type": "code",
      "metadata": {
        "id": "Nc-U5Wy-gtqy"
      },
      "source": [
        "def show_results(y, target):\n",
        "  for c in set(y):\n",
        "    num = np.count_nonzero(y==c)\n",
        "    ave = np.average(target[y==c])\n",
        "    print(f'Cluster {c}: num {num:3}, ave {ave:.1f}')"
      ],
      "execution_count": 29,
      "outputs": []
    },
    {
      "cell_type": "code",
      "source": [
        "show_results(ac.labels_, t)"
      ],
      "metadata": {
        "colab": {
          "base_uri": "https://localhost:8080/"
        },
        "id": "BgrpOYq_kKe-",
        "outputId": "9799745c-7ce6-4150-da63-e51150ec628a"
      },
      "execution_count": 30,
      "outputs": [
        {
          "output_type": "stream",
          "name": "stdout",
          "text": [
            "Cluster 0: num 118, ave 170.2\n",
            "Cluster 1: num  84, ave 173.4\n",
            "Cluster 2: num  98, ave 102.0\n",
            "Cluster 3: num  83, ave 196.8\n",
            "Cluster 4: num  59, ave 106.3\n"
          ]
        }
      ]
    },
    {
      "cell_type": "markdown",
      "metadata": {
        "id": "weyWY7KnS_Ms"
      },
      "source": [
        "### k-meansクラスタリング\n",
        "\n",
        "[KMeans](http://scikit-learn.org/stable/modules/generated/sklearn.cluster.KMeans.html)を用いて分割最適化クラスタリングを行います。クラスタ数は予め与えておく必要があります。"
      ]
    },
    {
      "cell_type": "code",
      "metadata": {
        "outputId": "909bc0a6-9062-41c4-ca77-a1f60acc166a",
        "colab": {
          "base_uri": "https://localhost:8080/",
          "height": 130
        },
        "id": "fWYllGc4S_Ms"
      },
      "source": [
        "km = KMeans(n_clusters = 3)\n",
        "km.fit(X)"
      ],
      "execution_count": 31,
      "outputs": [
        {
          "output_type": "stream",
          "name": "stderr",
          "text": [
            "/usr/local/lib/python3.10/dist-packages/sklearn/cluster/_kmeans.py:870: FutureWarning: The default value of `n_init` will change from 10 to 'auto' in 1.4. Set the value of `n_init` explicitly to suppress the warning\n",
            "  warnings.warn(\n"
          ]
        },
        {
          "output_type": "execute_result",
          "data": {
            "text/plain": [
              "KMeans(n_clusters=3)"
            ],
            "text/html": [
              "<style>#sk-container-id-7 {color: black;background-color: white;}#sk-container-id-7 pre{padding: 0;}#sk-container-id-7 div.sk-toggleable {background-color: white;}#sk-container-id-7 label.sk-toggleable__label {cursor: pointer;display: block;width: 100%;margin-bottom: 0;padding: 0.3em;box-sizing: border-box;text-align: center;}#sk-container-id-7 label.sk-toggleable__label-arrow:before {content: \"▸\";float: left;margin-right: 0.25em;color: #696969;}#sk-container-id-7 label.sk-toggleable__label-arrow:hover:before {color: black;}#sk-container-id-7 div.sk-estimator:hover label.sk-toggleable__label-arrow:before {color: black;}#sk-container-id-7 div.sk-toggleable__content {max-height: 0;max-width: 0;overflow: hidden;text-align: left;background-color: #f0f8ff;}#sk-container-id-7 div.sk-toggleable__content pre {margin: 0.2em;color: black;border-radius: 0.25em;background-color: #f0f8ff;}#sk-container-id-7 input.sk-toggleable__control:checked~div.sk-toggleable__content {max-height: 200px;max-width: 100%;overflow: auto;}#sk-container-id-7 input.sk-toggleable__control:checked~label.sk-toggleable__label-arrow:before {content: \"▾\";}#sk-container-id-7 div.sk-estimator input.sk-toggleable__control:checked~label.sk-toggleable__label {background-color: #d4ebff;}#sk-container-id-7 div.sk-label input.sk-toggleable__control:checked~label.sk-toggleable__label {background-color: #d4ebff;}#sk-container-id-7 input.sk-hidden--visually {border: 0;clip: rect(1px 1px 1px 1px);clip: rect(1px, 1px, 1px, 1px);height: 1px;margin: -1px;overflow: hidden;padding: 0;position: absolute;width: 1px;}#sk-container-id-7 div.sk-estimator {font-family: monospace;background-color: #f0f8ff;border: 1px dotted black;border-radius: 0.25em;box-sizing: border-box;margin-bottom: 0.5em;}#sk-container-id-7 div.sk-estimator:hover {background-color: #d4ebff;}#sk-container-id-7 div.sk-parallel-item::after {content: \"\";width: 100%;border-bottom: 1px solid gray;flex-grow: 1;}#sk-container-id-7 div.sk-label:hover label.sk-toggleable__label {background-color: #d4ebff;}#sk-container-id-7 div.sk-serial::before {content: \"\";position: absolute;border-left: 1px solid gray;box-sizing: border-box;top: 0;bottom: 0;left: 50%;z-index: 0;}#sk-container-id-7 div.sk-serial {display: flex;flex-direction: column;align-items: center;background-color: white;padding-right: 0.2em;padding-left: 0.2em;position: relative;}#sk-container-id-7 div.sk-item {position: relative;z-index: 1;}#sk-container-id-7 div.sk-parallel {display: flex;align-items: stretch;justify-content: center;background-color: white;position: relative;}#sk-container-id-7 div.sk-item::before, #sk-container-id-7 div.sk-parallel-item::before {content: \"\";position: absolute;border-left: 1px solid gray;box-sizing: border-box;top: 0;bottom: 0;left: 50%;z-index: -1;}#sk-container-id-7 div.sk-parallel-item {display: flex;flex-direction: column;z-index: 1;position: relative;background-color: white;}#sk-container-id-7 div.sk-parallel-item:first-child::after {align-self: flex-end;width: 50%;}#sk-container-id-7 div.sk-parallel-item:last-child::after {align-self: flex-start;width: 50%;}#sk-container-id-7 div.sk-parallel-item:only-child::after {width: 0;}#sk-container-id-7 div.sk-dashed-wrapped {border: 1px dashed gray;margin: 0 0.4em 0.5em 0.4em;box-sizing: border-box;padding-bottom: 0.4em;background-color: white;}#sk-container-id-7 div.sk-label label {font-family: monospace;font-weight: bold;display: inline-block;line-height: 1.2em;}#sk-container-id-7 div.sk-label-container {text-align: center;}#sk-container-id-7 div.sk-container {/* jupyter's `normalize.less` sets `[hidden] { display: none; }` but bootstrap.min.css set `[hidden] { display: none !important; }` so we also need the `!important` here to be able to override the default hidden behavior on the sphinx rendered scikit-learn.org. See: https://github.com/scikit-learn/scikit-learn/issues/21755 */display: inline-block !important;position: relative;}#sk-container-id-7 div.sk-text-repr-fallback {display: none;}</style><div id=\"sk-container-id-7\" class=\"sk-top-container\"><div class=\"sk-text-repr-fallback\"><pre>KMeans(n_clusters=3)</pre><b>In a Jupyter environment, please rerun this cell to show the HTML representation or trust the notebook. <br />On GitHub, the HTML representation is unable to render, please try loading this page with nbviewer.org.</b></div><div class=\"sk-container\" hidden><div class=\"sk-item\"><div class=\"sk-estimator sk-toggleable\"><input class=\"sk-toggleable__control sk-hidden--visually\" id=\"sk-estimator-id-7\" type=\"checkbox\" checked><label for=\"sk-estimator-id-7\" class=\"sk-toggleable__label sk-toggleable__label-arrow\">KMeans</label><div class=\"sk-toggleable__content\"><pre>KMeans(n_clusters=3)</pre></div></div></div></div></div>"
            ]
          },
          "metadata": {},
          "execution_count": 31
        }
      ]
    },
    {
      "cell_type": "markdown",
      "metadata": {
        "collapsed": true,
        "id": "nS-dUq3lS_Ms"
      },
      "source": [
        "クラスタ毎の事例数とtarget値の平均を表示します。"
      ]
    },
    {
      "cell_type": "code",
      "metadata": {
        "outputId": "4b1a588c-6bda-4bad-9837-8879274ed618",
        "colab": {
          "base_uri": "https://localhost:8080/"
        },
        "id": "GPuyzg2bS_Ms"
      },
      "source": [
        "show_results(km.labels_, t)"
      ],
      "execution_count": 32,
      "outputs": [
        {
          "output_type": "stream",
          "name": "stdout",
          "text": [
            "Cluster 0: num 125, ave 197.4\n",
            "Cluster 1: num 158, ave 108.0\n",
            "Cluster 2: num 159, ave 160.4\n"
          ]
        }
      ]
    },
    {
      "cell_type": "markdown",
      "metadata": {
        "id": "Fxt82ma6S_Ms"
      },
      "source": [
        " [AffinityPropagation](http://scikit-learn.org/stable/modules/generated/sklearn.cluster.AffinityPropagation.html)はすべてのノード間で「類似度」と「クラスタ中心になりやすさ」の情報を交換しながらクラスタリングを行う手法です。クラスタ数（すなわちクラスタ中心の数）を事前に決める必要はありません。\n",
        "\n",
        " パラメータpreferenceは各データの中心としての選ばれやすさを表すので、負の値を設定すれば、その絶対値に応じてクラスタ数が少なくなります。"
      ]
    },
    {
      "cell_type": "code",
      "metadata": {
        "outputId": "f086e374-1050-46a3-9ee2-e7d86a480463",
        "colab": {
          "base_uri": "https://localhost:8080/",
          "height": 74
        },
        "id": "AeqKR5lbS_Ms"
      },
      "source": [
        "ap=AffinityPropagation(preference=-0.3)\n",
        "ap.fit(X)"
      ],
      "execution_count": 33,
      "outputs": [
        {
          "output_type": "execute_result",
          "data": {
            "text/plain": [
              "AffinityPropagation(preference=-0.3)"
            ],
            "text/html": [
              "<style>#sk-container-id-8 {color: black;background-color: white;}#sk-container-id-8 pre{padding: 0;}#sk-container-id-8 div.sk-toggleable {background-color: white;}#sk-container-id-8 label.sk-toggleable__label {cursor: pointer;display: block;width: 100%;margin-bottom: 0;padding: 0.3em;box-sizing: border-box;text-align: center;}#sk-container-id-8 label.sk-toggleable__label-arrow:before {content: \"▸\";float: left;margin-right: 0.25em;color: #696969;}#sk-container-id-8 label.sk-toggleable__label-arrow:hover:before {color: black;}#sk-container-id-8 div.sk-estimator:hover label.sk-toggleable__label-arrow:before {color: black;}#sk-container-id-8 div.sk-toggleable__content {max-height: 0;max-width: 0;overflow: hidden;text-align: left;background-color: #f0f8ff;}#sk-container-id-8 div.sk-toggleable__content pre {margin: 0.2em;color: black;border-radius: 0.25em;background-color: #f0f8ff;}#sk-container-id-8 input.sk-toggleable__control:checked~div.sk-toggleable__content {max-height: 200px;max-width: 100%;overflow: auto;}#sk-container-id-8 input.sk-toggleable__control:checked~label.sk-toggleable__label-arrow:before {content: \"▾\";}#sk-container-id-8 div.sk-estimator input.sk-toggleable__control:checked~label.sk-toggleable__label {background-color: #d4ebff;}#sk-container-id-8 div.sk-label input.sk-toggleable__control:checked~label.sk-toggleable__label {background-color: #d4ebff;}#sk-container-id-8 input.sk-hidden--visually {border: 0;clip: rect(1px 1px 1px 1px);clip: rect(1px, 1px, 1px, 1px);height: 1px;margin: -1px;overflow: hidden;padding: 0;position: absolute;width: 1px;}#sk-container-id-8 div.sk-estimator {font-family: monospace;background-color: #f0f8ff;border: 1px dotted black;border-radius: 0.25em;box-sizing: border-box;margin-bottom: 0.5em;}#sk-container-id-8 div.sk-estimator:hover {background-color: #d4ebff;}#sk-container-id-8 div.sk-parallel-item::after {content: \"\";width: 100%;border-bottom: 1px solid gray;flex-grow: 1;}#sk-container-id-8 div.sk-label:hover label.sk-toggleable__label {background-color: #d4ebff;}#sk-container-id-8 div.sk-serial::before {content: \"\";position: absolute;border-left: 1px solid gray;box-sizing: border-box;top: 0;bottom: 0;left: 50%;z-index: 0;}#sk-container-id-8 div.sk-serial {display: flex;flex-direction: column;align-items: center;background-color: white;padding-right: 0.2em;padding-left: 0.2em;position: relative;}#sk-container-id-8 div.sk-item {position: relative;z-index: 1;}#sk-container-id-8 div.sk-parallel {display: flex;align-items: stretch;justify-content: center;background-color: white;position: relative;}#sk-container-id-8 div.sk-item::before, #sk-container-id-8 div.sk-parallel-item::before {content: \"\";position: absolute;border-left: 1px solid gray;box-sizing: border-box;top: 0;bottom: 0;left: 50%;z-index: -1;}#sk-container-id-8 div.sk-parallel-item {display: flex;flex-direction: column;z-index: 1;position: relative;background-color: white;}#sk-container-id-8 div.sk-parallel-item:first-child::after {align-self: flex-end;width: 50%;}#sk-container-id-8 div.sk-parallel-item:last-child::after {align-self: flex-start;width: 50%;}#sk-container-id-8 div.sk-parallel-item:only-child::after {width: 0;}#sk-container-id-8 div.sk-dashed-wrapped {border: 1px dashed gray;margin: 0 0.4em 0.5em 0.4em;box-sizing: border-box;padding-bottom: 0.4em;background-color: white;}#sk-container-id-8 div.sk-label label {font-family: monospace;font-weight: bold;display: inline-block;line-height: 1.2em;}#sk-container-id-8 div.sk-label-container {text-align: center;}#sk-container-id-8 div.sk-container {/* jupyter's `normalize.less` sets `[hidden] { display: none; }` but bootstrap.min.css set `[hidden] { display: none !important; }` so we also need the `!important` here to be able to override the default hidden behavior on the sphinx rendered scikit-learn.org. See: https://github.com/scikit-learn/scikit-learn/issues/21755 */display: inline-block !important;position: relative;}#sk-container-id-8 div.sk-text-repr-fallback {display: none;}</style><div id=\"sk-container-id-8\" class=\"sk-top-container\"><div class=\"sk-text-repr-fallback\"><pre>AffinityPropagation(preference=-0.3)</pre><b>In a Jupyter environment, please rerun this cell to show the HTML representation or trust the notebook. <br />On GitHub, the HTML representation is unable to render, please try loading this page with nbviewer.org.</b></div><div class=\"sk-container\" hidden><div class=\"sk-item\"><div class=\"sk-estimator sk-toggleable\"><input class=\"sk-toggleable__control sk-hidden--visually\" id=\"sk-estimator-id-8\" type=\"checkbox\" checked><label for=\"sk-estimator-id-8\" class=\"sk-toggleable__label sk-toggleable__label-arrow\">AffinityPropagation</label><div class=\"sk-toggleable__content\"><pre>AffinityPropagation(preference=-0.3)</pre></div></div></div></div></div>"
            ]
          },
          "metadata": {},
          "execution_count": 33
        }
      ]
    },
    {
      "cell_type": "markdown",
      "metadata": {
        "id": "5e9qE1saS_Ms"
      },
      "source": [
        "クラスタ毎の事例数とtarget値の平均を表示します。"
      ]
    },
    {
      "cell_type": "code",
      "metadata": {
        "id": "W8xtb0HAgtq9",
        "colab": {
          "base_uri": "https://localhost:8080/"
        },
        "outputId": "436c8456-9ff8-4081-fa17-aeb66acbb74f"
      },
      "source": [
        "show_results(ap.labels_, t)"
      ],
      "execution_count": 34,
      "outputs": [
        {
          "output_type": "stream",
          "name": "stdout",
          "text": [
            "Cluster 0: num  85, ave 194.0\n",
            "Cluster 1: num  67, ave 182.1\n",
            "Cluster 2: num  62, ave 109.2\n",
            "Cluster 3: num  70, ave 105.9\n",
            "Cluster 4: num  89, ave 119.0\n",
            "Cluster 5: num  69, ave 199.7\n"
          ]
        }
      ]
    },
    {
      "cell_type": "markdown",
      "metadata": {
        "id": "91V7yLyDS_Mt"
      },
      "source": [
        "### 確率密度推定\n",
        "\n",
        "[GaussianMixture](http://scikit-learn.org/stable/modules/generated/sklearn.mixture.GaussianMixture.html)では、EMアルゴリズムを用いて混合分布によるクラスタリングを行います。クラスタ数を指定する必要があります。これまでのクラスと少しメソッドが異なるので注意してください。"
      ]
    },
    {
      "cell_type": "code",
      "metadata": {
        "outputId": "c0165e15-3990-4e4c-d5ef-2c39ca7caeb0",
        "colab": {
          "base_uri": "https://localhost:8080/",
          "height": 74
        },
        "id": "rmjgQ3pzS_Mt"
      },
      "source": [
        "from sklearn.mixture import GaussianMixture\n",
        "\n",
        "gmm = GaussianMixture(n_components=3, covariance_type='full', random_state=1)\n",
        "gmm.fit(X)"
      ],
      "execution_count": 35,
      "outputs": [
        {
          "output_type": "execute_result",
          "data": {
            "text/plain": [
              "GaussianMixture(n_components=3, random_state=1)"
            ],
            "text/html": [
              "<style>#sk-container-id-9 {color: black;background-color: white;}#sk-container-id-9 pre{padding: 0;}#sk-container-id-9 div.sk-toggleable {background-color: white;}#sk-container-id-9 label.sk-toggleable__label {cursor: pointer;display: block;width: 100%;margin-bottom: 0;padding: 0.3em;box-sizing: border-box;text-align: center;}#sk-container-id-9 label.sk-toggleable__label-arrow:before {content: \"▸\";float: left;margin-right: 0.25em;color: #696969;}#sk-container-id-9 label.sk-toggleable__label-arrow:hover:before {color: black;}#sk-container-id-9 div.sk-estimator:hover label.sk-toggleable__label-arrow:before {color: black;}#sk-container-id-9 div.sk-toggleable__content {max-height: 0;max-width: 0;overflow: hidden;text-align: left;background-color: #f0f8ff;}#sk-container-id-9 div.sk-toggleable__content pre {margin: 0.2em;color: black;border-radius: 0.25em;background-color: #f0f8ff;}#sk-container-id-9 input.sk-toggleable__control:checked~div.sk-toggleable__content {max-height: 200px;max-width: 100%;overflow: auto;}#sk-container-id-9 input.sk-toggleable__control:checked~label.sk-toggleable__label-arrow:before {content: \"▾\";}#sk-container-id-9 div.sk-estimator input.sk-toggleable__control:checked~label.sk-toggleable__label {background-color: #d4ebff;}#sk-container-id-9 div.sk-label input.sk-toggleable__control:checked~label.sk-toggleable__label {background-color: #d4ebff;}#sk-container-id-9 input.sk-hidden--visually {border: 0;clip: rect(1px 1px 1px 1px);clip: rect(1px, 1px, 1px, 1px);height: 1px;margin: -1px;overflow: hidden;padding: 0;position: absolute;width: 1px;}#sk-container-id-9 div.sk-estimator {font-family: monospace;background-color: #f0f8ff;border: 1px dotted black;border-radius: 0.25em;box-sizing: border-box;margin-bottom: 0.5em;}#sk-container-id-9 div.sk-estimator:hover {background-color: #d4ebff;}#sk-container-id-9 div.sk-parallel-item::after {content: \"\";width: 100%;border-bottom: 1px solid gray;flex-grow: 1;}#sk-container-id-9 div.sk-label:hover label.sk-toggleable__label {background-color: #d4ebff;}#sk-container-id-9 div.sk-serial::before {content: \"\";position: absolute;border-left: 1px solid gray;box-sizing: border-box;top: 0;bottom: 0;left: 50%;z-index: 0;}#sk-container-id-9 div.sk-serial {display: flex;flex-direction: column;align-items: center;background-color: white;padding-right: 0.2em;padding-left: 0.2em;position: relative;}#sk-container-id-9 div.sk-item {position: relative;z-index: 1;}#sk-container-id-9 div.sk-parallel {display: flex;align-items: stretch;justify-content: center;background-color: white;position: relative;}#sk-container-id-9 div.sk-item::before, #sk-container-id-9 div.sk-parallel-item::before {content: \"\";position: absolute;border-left: 1px solid gray;box-sizing: border-box;top: 0;bottom: 0;left: 50%;z-index: -1;}#sk-container-id-9 div.sk-parallel-item {display: flex;flex-direction: column;z-index: 1;position: relative;background-color: white;}#sk-container-id-9 div.sk-parallel-item:first-child::after {align-self: flex-end;width: 50%;}#sk-container-id-9 div.sk-parallel-item:last-child::after {align-self: flex-start;width: 50%;}#sk-container-id-9 div.sk-parallel-item:only-child::after {width: 0;}#sk-container-id-9 div.sk-dashed-wrapped {border: 1px dashed gray;margin: 0 0.4em 0.5em 0.4em;box-sizing: border-box;padding-bottom: 0.4em;background-color: white;}#sk-container-id-9 div.sk-label label {font-family: monospace;font-weight: bold;display: inline-block;line-height: 1.2em;}#sk-container-id-9 div.sk-label-container {text-align: center;}#sk-container-id-9 div.sk-container {/* jupyter's `normalize.less` sets `[hidden] { display: none; }` but bootstrap.min.css set `[hidden] { display: none !important; }` so we also need the `!important` here to be able to override the default hidden behavior on the sphinx rendered scikit-learn.org. See: https://github.com/scikit-learn/scikit-learn/issues/21755 */display: inline-block !important;position: relative;}#sk-container-id-9 div.sk-text-repr-fallback {display: none;}</style><div id=\"sk-container-id-9\" class=\"sk-top-container\"><div class=\"sk-text-repr-fallback\"><pre>GaussianMixture(n_components=3, random_state=1)</pre><b>In a Jupyter environment, please rerun this cell to show the HTML representation or trust the notebook. <br />On GitHub, the HTML representation is unable to render, please try loading this page with nbviewer.org.</b></div><div class=\"sk-container\" hidden><div class=\"sk-item\"><div class=\"sk-estimator sk-toggleable\"><input class=\"sk-toggleable__control sk-hidden--visually\" id=\"sk-estimator-id-9\" type=\"checkbox\" checked><label for=\"sk-estimator-id-9\" class=\"sk-toggleable__label sk-toggleable__label-arrow\">GaussianMixture</label><div class=\"sk-toggleable__content\"><pre>GaussianMixture(n_components=3, random_state=1)</pre></div></div></div></div></div>"
            ]
          },
          "metadata": {},
          "execution_count": 35
        }
      ]
    },
    {
      "cell_type": "markdown",
      "metadata": {
        "id": "HYPBNuG2gtrC"
      },
      "source": [
        "クラスタ毎の事例数とtarget値の平均を表示します。"
      ]
    },
    {
      "cell_type": "code",
      "metadata": {
        "id": "nqwugW1FgtrC",
        "colab": {
          "base_uri": "https://localhost:8080/"
        },
        "outputId": "d9e217c1-598c-47c7-9c27-7060498cc7ee"
      },
      "source": [
        "show_results(gmm.predict(X), t)"
      ],
      "execution_count": 36,
      "outputs": [
        {
          "output_type": "stream",
          "name": "stdout",
          "text": [
            "Cluster 0: num 224, ave 111.2\n",
            "Cluster 1: num 173, ave 185.8\n",
            "Cluster 2: num  45, ave 226.6\n"
          ]
        }
      ]
    },
    {
      "cell_type": "markdown",
      "metadata": {
        "id": "6D2UZP6XgtrE"
      },
      "source": [
        "## まとめ\n",
        "\n",
        "初期値に乱数を用いるアルゴリズムは、実施毎に結果が異なります。GMMの例ではrandom_state=1で、事例数45、平均値226.6のクラスタが発見できていますが、他の値ではかなり異なる結果になります。"
      ]
    }
  ]
}