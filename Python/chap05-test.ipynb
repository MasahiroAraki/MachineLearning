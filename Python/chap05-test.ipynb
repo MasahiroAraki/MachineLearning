{
 "cells": [
  {
   "cell_type": "code",
   "execution_count": 26,
   "metadata": {
    "collapsed": true
   },
   "outputs": [],
   "source": [
    "import numpy as np\n",
    "from scipy.io import arff\n",
    "from sklearn.preprocessing import Imputer\n",
    "from sklearn.naive_bayes import GaussianNB\n",
    "from sklearn.model_selection import cross_val_score\n",
    "np.set_printoptions(precision=3, suppress=True)"
   ]
  },
  {
   "cell_type": "code",
   "execution_count": 27,
   "metadata": {
    "collapsed": true
   },
   "outputs": [],
   "source": [
    "data, meta = arff.loadarff('diabetes.arff')"
   ]
  },
  {
   "cell_type": "code",
   "execution_count": 28,
   "metadata": {
    "collapsed": true
   },
   "outputs": [],
   "source": [
    "X = np.empty((0,8), np.float)\n",
    "y = np.empty((0,1), np.str)\n",
    "for e in data:\n",
    "    e2 = list(e)\n",
    "    X = np.append(X, [e2[0:8]], axis=0)\n",
    "    y = np.append(y, e2[8:9])"
   ]
  },
  {
   "cell_type": "code",
   "execution_count": 29,
   "metadata": {},
   "outputs": [
    {
     "name": "stdout",
     "output_type": "stream",
     "text": [
      "GaussianNB(priors=None)\n"
     ]
    }
   ],
   "source": [
    "clf = GaussianNB()\n",
    "print(clf)"
   ]
  },
  {
   "cell_type": "code",
   "execution_count": 30,
   "metadata": {},
   "outputs": [
    {
     "name": "stdout",
     "output_type": "stream",
     "text": [
      "75.65 +/- 3.30 %\n"
     ]
    }
   ],
   "source": [
    "scores = cross_val_score(clf, X, y, cv=10)\n",
    "print(\"{0:4.2f} +/- {1:4.2f} %\".format(scores.mean() * 100, scores.std() * 100))"
   ]
  },
  {
   "cell_type": "code",
   "execution_count": 31,
   "metadata": {
    "collapsed": true
   },
   "outputs": [],
   "source": [
    "X2 = X.copy()\n",
    "med_imp = Imputer(missing_values=0, strategy='median', axis=0)\n",
    "med_imp.fit(X2[:, 1:6])\n",
    "X2[:, 1:6] = med_imp.transform(X2[:, 1:6])"
   ]
  },
  {
   "cell_type": "code",
   "execution_count": 32,
   "metadata": {},
   "outputs": [
    {
     "name": "stdout",
     "output_type": "stream",
     "text": [
      "75.00 +/- 3.38 %\n"
     ]
    }
   ],
   "source": [
    "scores = cross_val_score(clf, X2, y, cv=10)\n",
    "print(\"{0:4.2f} +/- {1:4.2f} %\".format(scores.mean() * 100, scores.std() * 100))"
   ]
  },
  {
   "cell_type": "code",
   "execution_count": 33,
   "metadata": {
    "collapsed": true
   },
   "outputs": [],
   "source": [
    "from sklearn.preprocessing import StandardScaler\n",
    "scaler = StandardScaler()\n",
    "scaler.fit(X2)\n",
    "X2 = scaler.transform(X2)"
   ]
  },
  {
   "cell_type": "code",
   "execution_count": 34,
   "metadata": {},
   "outputs": [
    {
     "name": "stdout",
     "output_type": "stream",
     "text": [
      "75.00 +/- 3.38 %\n"
     ]
    }
   ],
   "source": [
    "scores = cross_val_score(clf, X2, y, cv=10)\n",
    "print(\"{0:4.2f} +/- {1:4.2f} %\".format(scores.mean() * 100, scores.std() * 100))"
   ]
  },
  {
   "cell_type": "code",
   "execution_count": 38,
   "metadata": {},
   "outputs": [
    {
     "data": {
      "text/plain": [
       "array([[ 0.64 ,  0.866, -0.032,  0.671, -0.182,  0.167,  0.468,  1.426],\n",
       "       [-0.845, -1.205, -0.528, -0.012, -0.182, -0.852, -0.365, -0.191],\n",
       "       [ 1.234,  2.017, -0.694, -0.012, -0.182, -1.333,  0.604, -0.106],\n",
       "       [-0.845, -1.074, -0.528, -0.695, -0.541, -0.634, -0.921, -1.042],\n",
       "       [-1.142,  0.504, -2.679,  0.671,  0.317,  1.549,  5.485, -0.02 ],\n",
       "       [ 0.343, -0.186,  0.133, -0.012, -0.182, -0.998, -0.818, -0.276],\n",
       "       [-0.251, -1.435, -1.852,  0.329, -0.61 , -0.212, -0.676, -0.616],\n",
       "       [ 1.828, -0.219, -0.032, -0.012, -0.182,  0.414, -1.02 , -0.361],\n",
       "       [-0.548,  2.477, -0.197,  1.809,  4.661, -0.285, -0.948,  1.681],\n",
       "       [ 1.234,  0.11 ,  1.953, -0.012, -0.182, -0.023, -0.724,  1.766],\n",
       "       [ 0.046, -0.383,  1.622, -0.012, -0.182,  0.749, -0.848, -0.276],\n",
       "       [ 1.828,  1.524,  0.133, -0.012, -0.182,  0.807,  0.197,  0.065],\n",
       "       [ 1.828,  0.57 ,  0.63 , -0.012, -0.182, -0.779,  2.927,  2.022],\n",
       "       [-0.845,  2.214, -1.025, -0.695,  8.17 , -0.343, -0.223,  2.192],\n",
       "       [ 0.343,  1.458, -0.032, -1.151,  0.398, -0.969,  0.348,  1.511],\n",
       "       [ 0.937, -0.712, -0.032, -0.012, -0.182, -0.357,  0.037, -0.106],\n",
       "       [-1.142, -0.12 ,  0.961,  2.037,  1.035,  1.942,  0.239, -0.191],\n",
       "       [ 0.937, -0.482,  0.133, -0.012, -0.182, -0.416, -0.658, -0.191],\n",
       "       [-0.845, -0.613, -3.506,  1.012, -0.668,  1.578, -0.872, -0.02 ],\n",
       "       [-0.845, -0.219, -0.197,  0.102, -0.517,  0.312,  0.173, -0.106]])"
      ]
     },
     "execution_count": 38,
     "metadata": {},
     "output_type": "execute_result"
    }
   ],
   "source": [
    "X2[0:20]"
   ]
  },
  {
   "cell_type": "code",
   "execution_count": 39,
   "metadata": {
    "collapsed": true
   },
   "outputs": [],
   "source": [
    "rows, cols = np.where(X[:,1:6]==0)"
   ]
  },
  {
   "cell_type": "code",
   "execution_count": 40,
   "metadata": {
    "collapsed": true
   },
   "outputs": [],
   "source": [
    "X3 = np.delete(X, np.unique(rows), axis=0)\n",
    "y3 = np.delete(y, np.unique(rows), axis=0)"
   ]
  },
  {
   "cell_type": "code",
   "execution_count": 41,
   "metadata": {},
   "outputs": [
    {
     "data": {
      "text/plain": [
       "(392, 8)"
      ]
     },
     "execution_count": 41,
     "metadata": {},
     "output_type": "execute_result"
    }
   ],
   "source": [
    "X3.shape"
   ]
  },
  {
   "cell_type": "code",
   "execution_count": 42,
   "metadata": {},
   "outputs": [
    {
     "name": "stdout",
     "output_type": "stream",
     "text": [
      "77.27 +/- 6.30 %\n"
     ]
    }
   ],
   "source": [
    "scores = cross_val_score(clf, X3, y3, cv=10)\n",
    "print(\"{0:4.2f} +/- {1:4.2f} %\".format(scores.mean() * 100, scores.std() * 100))"
   ]
  },
  {
   "cell_type": "code",
   "execution_count": 43,
   "metadata": {},
   "outputs": [
    {
     "name": "stdout",
     "output_type": "stream",
     "text": [
      "LogisticRegression(C=1.0, class_weight=None, dual=False, fit_intercept=True,\n",
      "          intercept_scaling=1, max_iter=100, multi_class='ovr', n_jobs=1,\n",
      "          penalty='l2', random_state=None, solver='liblinear', tol=0.0001,\n",
      "          verbose=0, warm_start=False)\n"
     ]
    }
   ],
   "source": [
    "from sklearn.linear_model import LogisticRegression\n",
    "clf2 = LogisticRegression()\n",
    "print(clf2)"
   ]
  },
  {
   "cell_type": "code",
   "execution_count": 44,
   "metadata": {},
   "outputs": [
    {
     "name": "stdout",
     "output_type": "stream",
     "text": [
      "76.70 +/- 3.54 %\n"
     ]
    }
   ],
   "source": [
    "scores = cross_val_score(clf2, X, y, cv=10)\n",
    "print(\"{0:4.2f} +/- {1:4.2f} %\".format(scores.mean() * 100, scores.std() * 100))"
   ]
  },
  {
   "cell_type": "code",
   "execution_count": 45,
   "metadata": {},
   "outputs": [
    {
     "name": "stdout",
     "output_type": "stream",
     "text": [
      "76.56 +/- 3.55 %\n"
     ]
    }
   ],
   "source": [
    "scores = cross_val_score(clf2, X2, y, cv=10)\n",
    "print(\"{0:4.2f} +/- {1:4.2f} %\".format(scores.mean() * 100, scores.std() * 100))"
   ]
  },
  {
   "cell_type": "code",
   "execution_count": 46,
   "metadata": {},
   "outputs": [
    {
     "name": "stdout",
     "output_type": "stream",
     "text": [
      "76.26 +/- 5.77 %\n"
     ]
    }
   ],
   "source": [
    "scores = cross_val_score(clf2, X3, y3, cv=10)\n",
    "print(\"{0:4.2f} +/- {1:4.2f} %\".format(scores.mean() * 100, scores.std() * 100))"
   ]
  },
  {
   "cell_type": "code",
   "execution_count": null,
   "metadata": {
    "collapsed": true
   },
   "outputs": [],
   "source": []
  }
 ],
 "metadata": {
  "kernelspec": {
   "display_name": "Python 3",
   "language": "python",
   "name": "python3"
  },
  "language_info": {
   "codemirror_mode": {
    "name": "ipython",
    "version": 3
   },
   "file_extension": ".py",
   "mimetype": "text/x-python",
   "name": "python",
   "nbconvert_exporter": "python",
   "pygments_lexer": "ipython3",
   "version": "3.6.3"
  }
 },
 "nbformat": 4,
 "nbformat_minor": 2
}
