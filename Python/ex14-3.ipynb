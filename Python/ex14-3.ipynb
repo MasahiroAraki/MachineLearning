{
 "cells": [
  {
   "cell_type": "markdown",
   "metadata": {},
   "source": [
    "## 実践演習13-3\n",
    "\n",
    "scikit-learnのLabelPropagationでirisデータの半教師あり学習を行います。"
   ]
  },
  {
   "cell_type": "markdown",
   "metadata": {},
   "source": [
    "ライブラリの読み込み"
   ]
  },
  {
   "cell_type": "code",
   "execution_count": 5,
   "metadata": {
    "collapsed": true
   },
   "outputs": [],
   "source": [
    "import numpy as np\n",
    "from sklearn.datasets import load_iris\n",
    "from sklearn.semi_supervised import LabelPropagation\n",
    "from sklearn.semi_supervised import LabelSpreading"
   ]
  },
  {
   "cell_type": "markdown",
   "metadata": {},
   "source": [
    "irisデータの読み込み"
   ]
  },
  {
   "cell_type": "code",
   "execution_count": 2,
   "metadata": {
    "collapsed": true
   },
   "outputs": [],
   "source": [
    "iris = load_iris()\n",
    "X = iris.data\n",
    "y = iris.target"
   ]
  },
  {
   "cell_type": "markdown",
   "metadata": {},
   "source": [
    "### 半教師ありデータの作成\n",
    "\n",
    "まず、どのデータの教師信号を消すかを決めます。\n",
    "[np.random.choice](https://docs.scipy.org/doc/numpy-dev/reference/generated/numpy.random.choice.html)を使って、データのインデックスを表すndarrayから、指定された個数のインデックスを、重複なしで抜き出します。"
   ]
  },
  {
   "cell_type": "code",
   "execution_count": 3,
   "metadata": {},
   "outputs": [
    {
     "data": {
      "text/plain": [
       "array([102,  51,  32,  22, 144,  29,  31,   6, 136, 138,  37,  80,  12,\n",
       "        72,  43,  94,  56,  90, 119,  36,  69,   1, 130,  24,  83,  96,\n",
       "         7,   5,  64,  19,  58, 105,  81,  54, 149, 146,  39,  60,  92,\n",
       "        99,   8, 107,  61,  11,  26, 120,  84,   2,  21,  71,  28,   0,\n",
       "        74,  75,   9, 118,  18,  45, 126, 123,  97,  95,  46,  66,  13,\n",
       "       135, 139,  49, 111,  98,  41, 104, 114,  35,  47,  27, 132,  55,\n",
       "        76,  15, 115,  68, 124,  40, 147, 109, 108,  85,  89,  93,  62,\n",
       "       137,  77,  65, 113, 129, 131,  42, 122, 142, 103, 121, 116,  34,  59])"
      ]
     },
     "execution_count": 3,
     "metadata": {},
     "output_type": "execute_result"
    }
   ],
   "source": [
    "np.random.choice(np.arange(y.size), int((y.size)*.7), replace=False)"
   ]
  },
  {
   "cell_type": "markdown",
   "metadata": {},
   "source": [
    "教師ベクトルyを[np.copy](https://docs.scipy.org/doc/numpy/reference/generated/numpy.copy.html)を使って変数labelsにコピーし（代入文でコピーすると、オブジェクトが共有されます）、先ほど抜き出したインデックスに対応する値を-1に書き換えます。"
   ]
  },
  {
   "cell_type": "code",
   "execution_count": 4,
   "metadata": {},
   "outputs": [
    {
     "data": {
      "text/plain": [
       "array([-1,  0, -1, -1,  0, -1, -1, -1,  0, -1,  0, -1, -1,  0, -1, -1, -1,\n",
       "       -1, -1, -1, -1, -1,  0,  0, -1, -1,  0, -1, -1, -1, -1, -1, -1, -1,\n",
       "        0, -1, -1,  0,  0, -1, -1,  0,  0, -1,  0, -1, -1, -1,  0, -1, -1,\n",
       "       -1, -1, -1, -1, -1,  1,  1, -1,  1, -1, -1, -1,  1, -1,  1, -1, -1,\n",
       "        1, -1, -1, -1, -1, -1, -1, -1, -1, -1, -1, -1, -1, -1, -1, -1, -1,\n",
       "        1,  1, -1, -1, -1,  1, -1, -1, -1, -1, -1,  1, -1, -1, -1, -1, -1,\n",
       "       -1,  2, -1, -1,  2, -1, -1, -1,  2,  2, -1,  2,  2, -1, -1, -1, -1,\n",
       "        2, -1, -1, -1,  2, -1, -1, -1, -1,  2,  2, -1, -1,  2,  2, -1,  2,\n",
       "       -1,  2,  2,  2, -1,  2,  2, -1, -1, -1,  2,  2, -1, -1])"
      ]
     },
     "execution_count": 4,
     "metadata": {},
     "output_type": "execute_result"
    }
   ],
   "source": [
    "unlabeled_points = np.random.choice(np.arange(y.size), int((y.size)*.7), replace=False)\n",
    "labels = np.copy(y)\n",
    "labels[unlabeled_points] = -1\n",
    "labels"
   ]
  },
  {
   "cell_type": "markdown",
   "metadata": {},
   "source": [
    "これを教師ベクトルとして、[LabelPropagation](http://scikit-learn.org/stable/modules/generated/sklearn.semi_supervised.LabelPropagation.html)で半教師あり学習を行います。"
   ]
  },
  {
   "cell_type": "code",
   "execution_count": 6,
   "metadata": {},
   "outputs": [
    {
     "data": {
      "text/plain": [
       "LabelSpreading(alpha=0.2, gamma=20, kernel='rbf', max_iter=30, n_jobs=1,\n",
       "        n_neighbors=7, tol=0.001)"
      ]
     },
     "execution_count": 6,
     "metadata": {},
     "output_type": "execute_result"
    }
   ],
   "source": [
    "lp = LabelSpreading()\n",
    "lp.fit(X, labels)"
   ]
  },
  {
   "cell_type": "markdown",
   "metadata": {},
   "source": [
    "結果を表示します。"
   ]
  },
  {
   "cell_type": "code",
   "execution_count": 7,
   "metadata": {},
   "outputs": [
    {
     "data": {
      "text/plain": [
       "0.97333333333333338"
      ]
     },
     "execution_count": 7,
     "metadata": {},
     "output_type": "execute_result"
    }
   ],
   "source": [
    "lp.score(X, y)"
   ]
  },
  {
   "cell_type": "markdown",
   "metadata": {},
   "source": [
    "正解付きデータを5%, 10%, 20%, 30%と変えて、それぞれ100回ずつ学習を試みて性能を評価します。"
   ]
  },
  {
   "cell_type": "code",
   "execution_count": 8,
   "metadata": {},
   "outputs": [
    {
     "name": "stdout",
     "output_type": "stream",
     "text": [
      "labeled: 5.0%, score= 0.872\n",
      "labeled:10.0%, score= 0.931\n",
      "labeled:20.0%, score= 0.956\n",
      "labeled:30.0%, score= 0.964\n"
     ]
    }
   ],
   "source": [
    "labeled_percent = [0.05, 0.1, 0.2, 0.3]\n",
    "num = y.size\n",
    "for labeled in labeled_percent :\n",
    "    score = 0\n",
    "    for i in range(100):\n",
    "        unlabeled_points = np.random.choice(np.arange(num),int(num-num*labeled), replace=False)\n",
    "        labels = np.copy(y)\n",
    "        labels[unlabeled_points] = -1\n",
    "        lp.fit(X, labels)\n",
    "        score += lp.score(X, y)\n",
    "    print(\"{0}{1:4.1f}{2}{3:6.3f}\".format(\"labeled:\", labeled*100, \"%, score=\", score/100))        "
   ]
  },
  {
   "cell_type": "code",
   "execution_count": null,
   "metadata": {
    "collapsed": true
   },
   "outputs": [],
   "source": []
  },
  {
   "cell_type": "code",
   "execution_count": null,
   "metadata": {
    "collapsed": true
   },
   "outputs": [],
   "source": []
  }
 ],
 "metadata": {
  "anaconda-cloud": {},
  "kernelspec": {
   "display_name": "Python 3",
   "language": "python",
   "name": "python3"
  },
  "language_info": {
   "codemirror_mode": {
    "name": "ipython",
    "version": 3
   },
   "file_extension": ".py",
   "mimetype": "text/x-python",
   "name": "python",
   "nbconvert_exporter": "python",
   "pygments_lexer": "ipython3",
   "version": "3.6.3"
  }
 },
 "nbformat": 4,
 "nbformat_minor": 1
}
