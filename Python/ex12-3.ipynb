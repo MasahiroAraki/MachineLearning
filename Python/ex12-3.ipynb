{
 "cells": [
  {
   "cell_type": "markdown",
   "metadata": {},
   "source": [
    "# 例題12-3"
   ]
  },
  {
   "cell_type": "markdown",
   "metadata": {},
   "source": [
    "MovieLensデータセットは個々のユーザが複数の映画について0.5-5.0の0.5刻みで評価をつけたものです。このデータにNMFを適用して行列分解を行い、得られた行列を用いて評価用データの評価値を推測してみます。評価は5-fold CVで行います。"
   ]
  },
  {
   "cell_type": "code",
   "execution_count": 4,
   "metadata": {},
   "outputs": [
    {
     "name": "stdout",
     "output_type": "stream",
     "text": [
      "Evaluating RMSE, MAE of algorithm NMF on 5 split(s).\n",
      "\n",
      "                  Fold 1  Fold 2  Fold 3  Fold 4  Fold 5  Mean    Std     \n",
      "RMSE (testset)    0.9611  0.9651  0.9532  0.9656  0.9643  0.9619  0.0046  \n",
      "MAE (testset)     0.7557  0.7603  0.7500  0.7562  0.7563  0.7557  0.0033  \n",
      "Fit time          9.64    9.92    10.21   9.78    5.69    9.05    1.69    \n",
      "Test time         0.25    0.24    0.17    0.13    0.11    0.18    0.06    \n"
     ]
    },
    {
     "data": {
      "text/plain": [
       "{'fit_time': (9.644838333129883,\n",
       "  9.919146060943604,\n",
       "  10.205156087875366,\n",
       "  9.784902334213257,\n",
       "  5.686781167984009),\n",
       " 'test_mae': array([0.75565629, 0.76029915, 0.74996751, 0.75623311, 0.75626553]),\n",
       " 'test_rmse': array([0.96105827, 0.9650838 , 0.95323387, 0.96563315, 0.96432493]),\n",
       " 'test_time': (0.25371885299682617,\n",
       "  0.24056458473205566,\n",
       "  0.1657719612121582,\n",
       "  0.12962698936462402,\n",
       "  0.11488461494445801)}"
      ]
     },
     "execution_count": 4,
     "metadata": {},
     "output_type": "execute_result"
    }
   ],
   "source": [
    "from surprise import NMF\n",
    "from surprise import Dataset\n",
    "from surprise.model_selection import cross_validate\n",
    "\n",
    "# movielens-100k データを読み込みます\n",
    "X = Dataset.load_builtin('ml-100k')\n",
    "\n",
    "# 5-fold CVで、平均平方二乗誤差と平均絶対誤差を表示します。\n",
    "cross_validate(NMF(), X, measures=['RMSE', 'MAE'], cv=5, verbose=True)"
   ]
  },
  {
   "cell_type": "code",
   "execution_count": null,
   "metadata": {},
   "outputs": [],
   "source": []
  }
 ],
 "metadata": {
  "kernelspec": {
   "display_name": "Python 3",
   "language": "python",
   "name": "python3"
  },
  "language_info": {
   "codemirror_mode": {
    "name": "ipython",
    "version": 3
   },
   "file_extension": ".py",
   "mimetype": "text/x-python",
   "name": "python",
   "nbconvert_exporter": "python",
   "pygments_lexer": "ipython3",
   "version": "3.6.4"
  }
 },
 "nbformat": 4,
 "nbformat_minor": 2
}
