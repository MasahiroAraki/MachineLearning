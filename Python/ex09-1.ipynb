{
 "cells": [
  {
   "cell_type": "markdown",
   "metadata": {},
   "source": [
    "# 演習9.1"
   ]
  },
  {
   "cell_type": "markdown",
   "metadata": {},
   "source": [
    "バージョン確認"
   ]
  },
  {
   "cell_type": "code",
   "execution_count": 1,
   "metadata": {},
   "outputs": [
    {
     "name": "stderr",
     "output_type": "stream",
     "text": [
      "C:\\Users\\araki\\Anaconda3\\lib\\site-packages\\h5py\\__init__.py:36: FutureWarning: Conversion of the second argument of issubdtype from `float` to `np.floating` is deprecated. In future, it will be treated as `np.float64 == np.dtype(float).type`.\n",
      "  from ._conv import register_converters as _register_converters\n"
     ]
    },
    {
     "name": "stdout",
     "output_type": "stream",
     "text": [
      "b'Hello, TensorFlow!'\n"
     ]
    }
   ],
   "source": [
    "import tensorflow as tf\n",
    "hello = tf.constant('Hello, TensorFlow!')\n",
    "sess = tf.Session()\n",
    "print(sess.run(hello))"
   ]
  },
  {
   "cell_type": "code",
   "execution_count": 2,
   "metadata": {},
   "outputs": [
    {
     "name": "stderr",
     "output_type": "stream",
     "text": [
      "Using TensorFlow backend.\n"
     ]
    },
    {
     "data": {
      "text/plain": [
       "'2.1.4'"
      ]
     },
     "execution_count": 2,
     "metadata": {},
     "output_type": "execute_result"
    }
   ],
   "source": [
    "import keras\n",
    "keras.__version__"
   ]
  },
  {
   "cell_type": "markdown",
   "metadata": {},
   "source": [
    "MNISTデータのロード"
   ]
  },
  {
   "cell_type": "code",
   "execution_count": 3,
   "metadata": {},
   "outputs": [],
   "source": [
    "from keras.datasets import mnist\n",
    "(X_train, y_train), (X_test, y_test) = mnist.load_data()"
   ]
  },
  {
   "cell_type": "markdown",
   "metadata": {},
   "source": [
    "入力をフラットな配列に変換し、学習データは10,000個、テストデータは1000個だけ利用します。また、元データでは濃淡が0から255までで表現されており、最大値が大きすぎるので、特徴の値の最大値を1としておきます。"
   ]
  },
  {
   "cell_type": "code",
   "execution_count": 4,
   "metadata": {},
   "outputs": [],
   "source": [
    "# input image dimensions\n",
    "img_rows, img_cols = 28, 28\n",
    "\n",
    "X_train = X_train.reshape(X_train.shape[0], img_rows * img_cols)[0:10000]\n",
    "X_test = X_test.reshape(X_test.shape[0], img_rows * img_cols)[0:1000]\n",
    "\n",
    "X_train = X_train.astype('float32')\n",
    "X_test = X_test.astype('float32')\n",
    "X_train /= 255\n",
    "X_test /= 255"
   ]
  },
  {
   "cell_type": "markdown",
   "metadata": {},
   "source": [
    "出力をone-hotに変換します。"
   ]
  },
  {
   "cell_type": "code",
   "execution_count": 5,
   "metadata": {},
   "outputs": [],
   "source": [
    "from keras.utils import np_utils\n",
    "Y_train = np_utils.to_categorical(y_train)[0:10000]\n",
    "Y_test = np_utils.to_categorical(y_test)[0:1000]"
   ]
  },
  {
   "cell_type": "markdown",
   "metadata": {
    "collapsed": true
   },
   "source": [
    "## 多層パーセプトロン (MLP)"
   ]
  },
  {
   "cell_type": "markdown",
   "metadata": {},
   "source": [
    "準備"
   ]
  },
  {
   "cell_type": "code",
   "execution_count": 6,
   "metadata": {},
   "outputs": [],
   "source": [
    "import numpy as np\n",
    "from keras.models import Sequential\n",
    "from keras.layers import Dense, Activation\n",
    "from keras.optimizers import SGD"
   ]
  },
  {
   "cell_type": "markdown",
   "metadata": {},
   "source": [
    "まず、中間層1層のモデルを設定します。ユニット数は入力の次元数を考えて、適切に設定してください。活性化関数は、パラメータ[activation](https://keras.io/ja/activations/)で指定します。"
   ]
  },
  {
   "cell_type": "code",
   "execution_count": 7,
   "metadata": {},
   "outputs": [
    {
     "name": "stdout",
     "output_type": "stream",
     "text": [
      "_________________________________________________________________\n",
      "Layer (type)                 Output Shape              Param #   \n",
      "=================================================================\n",
      "dense_1 (Dense)              (None, 200)               157000    \n",
      "_________________________________________________________________\n",
      "dense_2 (Dense)              (None, 10)                2010      \n",
      "=================================================================\n",
      "Total params: 159,010\n",
      "Trainable params: 159,010\n",
      "Non-trainable params: 0\n",
      "_________________________________________________________________\n"
     ]
    }
   ],
   "source": [
    "input_shape = X_train[0].shape\n",
    "n_hidden = 200\n",
    "n_out = len(Y_train[0])  # 10\n",
    "\n",
    "model = Sequential()\n",
    "model.add(Dense(n_hidden, input_shape=input_shape, activation='sigmoid'))\n",
    "model.add(Dense(n_out, activation='softmax'))\n",
    "model.summary()"
   ]
  },
  {
   "cell_type": "markdown",
   "metadata": {},
   "source": [
    "損失関数 ([loss](https://keras.io/ja/losses/))、最適化アルゴリズム([optimizer](https://keras.io/ja/optimizers/))、評価基準([metrics](https://keras.io/ja/metrics/))を指定して、モデルをcompileします。"
   ]
  },
  {
   "cell_type": "code",
   "execution_count": 8,
   "metadata": {},
   "outputs": [],
   "source": [
    "model.compile(loss = 'categorical_crossentropy',\n",
    "              optimizer = SGD(lr=0.1),\n",
    "              metrics = ['accuracy'])"
   ]
  },
  {
   "cell_type": "markdown",
   "metadata": {},
   "source": [
    "[fit](https://keras.io/ja/models/sequential/#fit)メソッドで学習します。繰り返し回数はパラメータepocksで、バッチサイズはパラメータbatch\\_sizeで指定します。"
   ]
  },
  {
   "cell_type": "code",
   "execution_count": 9,
   "metadata": {},
   "outputs": [
    {
     "name": "stdout",
     "output_type": "stream",
     "text": [
      "Epoch 1/10\n",
      "10000/10000 [==============================] - 1s 64us/step - loss: 1.9971 - acc: 0.4735\n",
      "Epoch 2/10\n",
      "10000/10000 [==============================] - 0s 37us/step - loss: 1.4417 - acc: 0.7194\n",
      "Epoch 3/10\n",
      "10000/10000 [==============================] - 0s 37us/step - loss: 1.0801 - acc: 0.7894\n",
      "Epoch 4/10\n",
      "10000/10000 [==============================] - 0s 39us/step - loss: 0.8662 - acc: 0.8199\n",
      "Epoch 5/10\n",
      "10000/10000 [==============================] - 0s 38us/step - loss: 0.7353 - acc: 0.8394\n",
      "Epoch 6/10\n",
      "10000/10000 [==============================] - 0s 37us/step - loss: 0.6488 - acc: 0.8555\n",
      "Epoch 7/10\n",
      "10000/10000 [==============================] - 0s 37us/step - loss: 0.5879 - acc: 0.8631\n",
      "Epoch 8/10\n",
      "10000/10000 [==============================] - 1s 50us/step - loss: 0.5428 - acc: 0.8703\n",
      "Epoch 9/10\n",
      "10000/10000 [==============================] - 0s 38us/step - loss: 0.5076 - acc: 0.8781\n",
      "Epoch 10/10\n",
      "10000/10000 [==============================] - 0s 38us/step - loss: 0.4798 - acc: 0.8818\n"
     ]
    },
    {
     "data": {
      "text/plain": [
       "<keras.callbacks.History at 0x177187c5518>"
      ]
     },
     "execution_count": 9,
     "metadata": {},
     "output_type": "execute_result"
    }
   ],
   "source": [
    "model.fit(X_train, Y_train, epochs=10, batch_size=200)"
   ]
  },
  {
   "cell_type": "markdown",
   "metadata": {},
   "source": [
    "[evaluate](https://keras.io/ja/models/sequential/#evaluate)メソッドで評価します。"
   ]
  },
  {
   "cell_type": "code",
   "execution_count": 10,
   "metadata": {},
   "outputs": [
    {
     "name": "stdout",
     "output_type": "stream",
     "text": [
      "Test loss: 0.5343050398826599\n",
      "Test accuracy: 0.857\n"
     ]
    }
   ],
   "source": [
    "score = model.evaluate(X_test, Y_test, verbose=0)\n",
    "print('Test loss:', score[0])\n",
    "print('Test accuracy:', score[1])"
   ]
  },
  {
   "cell_type": "markdown",
   "metadata": {},
   "source": [
    "### 中間層の層数を増やす\n",
    "\n",
    "中間層の層数を増やしてみます。その際、活性化関数sigmoid, tanh, reluのそれぞれの違いを確認します。"
   ]
  },
  {
   "cell_type": "code",
   "execution_count": 11,
   "metadata": {},
   "outputs": [
    {
     "name": "stdout",
     "output_type": "stream",
     "text": [
      "_________________________________________________________________\n",
      "Layer (type)                 Output Shape              Param #   \n",
      "=================================================================\n",
      "dense_3 (Dense)              (None, 200)               157000    \n",
      "_________________________________________________________________\n",
      "dense_4 (Dense)              (None, 200)               40200     \n",
      "_________________________________________________________________\n",
      "dense_5 (Dense)              (None, 200)               40200     \n",
      "_________________________________________________________________\n",
      "dense_6 (Dense)              (None, 200)               40200     \n",
      "_________________________________________________________________\n",
      "dense_7 (Dense)              (None, 200)               40200     \n",
      "_________________________________________________________________\n",
      "dense_8 (Dense)              (None, 10)                2010      \n",
      "=================================================================\n",
      "Total params: 319,810\n",
      "Trainable params: 319,810\n",
      "Non-trainable params: 0\n",
      "_________________________________________________________________\n"
     ]
    }
   ],
   "source": [
    "model = Sequential()\n",
    "af = 'sigmoid'\n",
    "model.add(Dense(n_hidden, input_shape=input_shape, activation=af))\n",
    "model.add(Dense(n_hidden, activation=af))\n",
    "model.add(Dense(n_hidden, activation=af))\n",
    "model.add(Dense(n_hidden, activation=af))\n",
    "model.add(Dense(n_hidden, activation=af))\n",
    "model.add(Dense(n_out, activation='softmax'))\n",
    "model.summary()"
   ]
  },
  {
   "cell_type": "code",
   "execution_count": 12,
   "metadata": {},
   "outputs": [
    {
     "name": "stdout",
     "output_type": "stream",
     "text": [
      "Epoch 1/10\n",
      "10000/10000 [==============================] - 1s 111us/step - loss: 2.3170 - acc: 0.1065\n",
      "Epoch 2/10\n",
      "10000/10000 [==============================] - 1s 74us/step - loss: 2.3082 - acc: 0.1111\n",
      "Epoch 3/10\n",
      "10000/10000 [==============================] - 1s 68us/step - loss: 2.3109 - acc: 0.1004\n",
      "Epoch 4/10\n",
      "10000/10000 [==============================] - 1s 70us/step - loss: 2.3096 - acc: 0.1069\n",
      "Epoch 5/10\n",
      "10000/10000 [==============================] - 1s 84us/step - loss: 2.3093 - acc: 0.1043\n",
      "Epoch 6/10\n",
      "10000/10000 [==============================] - 1s 78us/step - loss: 2.3092 - acc: 0.1090\n",
      "Epoch 7/10\n",
      "10000/10000 [==============================] - 1s 84us/step - loss: 2.3092 - acc: 0.1058\n",
      "Epoch 8/10\n",
      "10000/10000 [==============================] - 2s 184us/step - loss: 2.3094 - acc: 0.1005\n",
      "Epoch 9/10\n",
      "10000/10000 [==============================] - 3s 299us/step - loss: 2.3095 - acc: 0.1047\n",
      "Epoch 10/10\n",
      "10000/10000 [==============================] - 3s 307us/step - loss: 2.3099 - acc: 0.1081\n",
      "Test loss: 2.3339265632629393\n",
      "Test accuracy: 0.126\n"
     ]
    }
   ],
   "source": [
    "model.compile(loss = 'categorical_crossentropy',\n",
    "              optimizer = SGD(lr=0.1),\n",
    "              metrics = ['accuracy'])\n",
    "model.fit(X_train, Y_train, epochs=10, batch_size=200)\n",
    "score = model.evaluate(X_test, Y_test, verbose=0)\n",
    "print('Test loss:', score[0])\n",
    "print('Test accuracy:', score[1])"
   ]
  },
  {
   "cell_type": "code",
   "execution_count": 13,
   "metadata": {},
   "outputs": [],
   "source": [
    "model = Sequential()\n",
    "af = 'tanh'\n",
    "model.add(Dense(n_hidden, input_shape=input_shape, activation=af))\n",
    "model.add(Dense(n_hidden, activation=af))\n",
    "model.add(Dense(n_hidden, activation=af))\n",
    "model.add(Dense(n_hidden, activation=af))\n",
    "model.add(Dense(n_hidden, activation=af))\n",
    "model.add(Dense(n_out, activation='softmax'))"
   ]
  },
  {
   "cell_type": "code",
   "execution_count": 14,
   "metadata": {},
   "outputs": [
    {
     "name": "stdout",
     "output_type": "stream",
     "text": [
      "Epoch 1/10\n",
      "10000/10000 [==============================] - 1s 105us/step - loss: 0.8084 - acc: 0.7842\n",
      "Epoch 2/10\n",
      "10000/10000 [==============================] - 1s 66us/step - loss: 0.3737 - acc: 0.8940\n",
      "Epoch 3/10\n",
      "10000/10000 [==============================] - 1s 69us/step - loss: 0.3142 - acc: 0.9093\n",
      "Epoch 4/10\n",
      "10000/10000 [==============================] - 1s 82us/step - loss: 0.2830 - acc: 0.9169\n",
      "Epoch 5/10\n",
      "10000/10000 [==============================] - 1s 76us/step - loss: 0.2591 - acc: 0.9214\n",
      "Epoch 6/10\n",
      "10000/10000 [==============================] - 1s 69us/step - loss: 0.2288 - acc: 0.9340\n",
      "Epoch 7/10\n",
      "10000/10000 [==============================] - 1s 70us/step - loss: 0.2148 - acc: 0.9378\n",
      "Epoch 8/10\n",
      "10000/10000 [==============================] - 1s 77us/step - loss: 0.1991 - acc: 0.9414\n",
      "Epoch 9/10\n",
      "10000/10000 [==============================] - 1s 83us/step - loss: 0.1834 - acc: 0.9458\n",
      "Epoch 10/10\n",
      "10000/10000 [==============================] - 1s 79us/step - loss: 0.1706 - acc: 0.9493\n",
      "Test loss: 0.26543133771419525\n",
      "Test accuracy: 0.914\n"
     ]
    }
   ],
   "source": [
    "model.compile(loss = 'categorical_crossentropy',\n",
    "              optimizer = SGD(lr=0.1),\n",
    "              metrics = ['accuracy'])\n",
    "model.fit(X_train, Y_train, epochs=10, batch_size=200)\n",
    "score = model.evaluate(X_test, Y_test, verbose=0)\n",
    "print('Test loss:', score[0])\n",
    "print('Test accuracy:', score[1])"
   ]
  },
  {
   "cell_type": "code",
   "execution_count": 15,
   "metadata": {},
   "outputs": [],
   "source": [
    "model = Sequential()\n",
    "af = 'relu'\n",
    "model.add(Dense(n_hidden, input_shape=input_shape, activation=af))\n",
    "model.add(Dense(n_hidden, activation=af))\n",
    "model.add(Dense(n_hidden, activation=af))\n",
    "model.add(Dense(n_hidden, activation=af))\n",
    "model.add(Dense(n_hidden, activation=af))\n",
    "model.add(Dense(n_out, activation='softmax'))"
   ]
  },
  {
   "cell_type": "code",
   "execution_count": 16,
   "metadata": {},
   "outputs": [
    {
     "name": "stdout",
     "output_type": "stream",
     "text": [
      "Epoch 1/10\n",
      "10000/10000 [==============================] - 1s 102us/step - loss: 1.6664 - acc: 0.4743\n",
      "Epoch 2/10\n",
      "10000/10000 [==============================] - 1s 74us/step - loss: 0.6938 - acc: 0.7804\n",
      "Epoch 3/10\n",
      "10000/10000 [==============================] - 1s 80us/step - loss: 0.3888 - acc: 0.8809\n",
      "Epoch 4/10\n",
      "10000/10000 [==============================] - 1s 74us/step - loss: 0.2934 - acc: 0.9142\n",
      "Epoch 5/10\n",
      "10000/10000 [==============================] - 1s 91us/step - loss: 0.2629 - acc: 0.9228\n",
      "Epoch 6/10\n",
      "10000/10000 [==============================] - 1s 74us/step - loss: 0.2063 - acc: 0.9390\n",
      "Epoch 7/10\n",
      "10000/10000 [==============================] - 1s 87us/step - loss: 0.1784 - acc: 0.9483\n",
      "Epoch 8/10\n",
      "10000/10000 [==============================] - 1s 96us/step - loss: 0.1818 - acc: 0.9456\n",
      "Epoch 9/10\n",
      "10000/10000 [==============================] - 1s 72us/step - loss: 0.1385 - acc: 0.9584\n",
      "Epoch 10/10\n",
      "10000/10000 [==============================] - 1s 73us/step - loss: 0.1153 - acc: 0.9669\n",
      "Test loss: 0.23518405652046204\n",
      "Test accuracy: 0.918\n"
     ]
    }
   ],
   "source": [
    "model.compile(loss = 'categorical_crossentropy',\n",
    "              optimizer = SGD(lr=0.1),\n",
    "              metrics = ['accuracy'])\n",
    "model.fit(X_train, Y_train, epochs=10, batch_size=200)\n",
    "score = model.evaluate(X_test, Y_test, verbose=0)\n",
    "print('Test loss:', score[0])\n",
    "print('Test accuracy:', score[1])"
   ]
  },
  {
   "cell_type": "markdown",
   "metadata": {},
   "source": [
    "dropoutを入れてみます。学習データとテストデータの正解率の差に注目してください。"
   ]
  },
  {
   "cell_type": "code",
   "execution_count": 17,
   "metadata": {},
   "outputs": [
    {
     "name": "stdout",
     "output_type": "stream",
     "text": [
      "_________________________________________________________________\n",
      "Layer (type)                 Output Shape              Param #   \n",
      "=================================================================\n",
      "dense_21 (Dense)             (None, 200)               157000    \n",
      "_________________________________________________________________\n",
      "dropout_1 (Dropout)          (None, 200)               0         \n",
      "_________________________________________________________________\n",
      "dense_22 (Dense)             (None, 200)               40200     \n",
      "_________________________________________________________________\n",
      "dropout_2 (Dropout)          (None, 200)               0         \n",
      "_________________________________________________________________\n",
      "dense_23 (Dense)             (None, 200)               40200     \n",
      "_________________________________________________________________\n",
      "dropout_3 (Dropout)          (None, 200)               0         \n",
      "_________________________________________________________________\n",
      "dense_24 (Dense)             (None, 200)               40200     \n",
      "_________________________________________________________________\n",
      "dropout_4 (Dropout)          (None, 200)               0         \n",
      "_________________________________________________________________\n",
      "dense_25 (Dense)             (None, 200)               40200     \n",
      "_________________________________________________________________\n",
      "dropout_5 (Dropout)          (None, 200)               0         \n",
      "_________________________________________________________________\n",
      "dense_26 (Dense)             (None, 10)                2010      \n",
      "=================================================================\n",
      "Total params: 319,810\n",
      "Trainable params: 319,810\n",
      "Non-trainable params: 0\n",
      "_________________________________________________________________\n"
     ]
    }
   ],
   "source": [
    "from keras.layers.core import Dropout\n",
    "\n",
    "model = Sequential()\n",
    "af = 'relu'\n",
    "model.add(Dense(n_hidden, input_shape=input_shape, activation=af))\n",
    "model.add(Dropout(0.5))\n",
    "model.add(Dense(n_hidden, activation=af))\n",
    "model.add(Dropout(0.5))\n",
    "model.add(Dense(n_hidden, activation=af))\n",
    "model.add(Dropout(0.5))\n",
    "model.add(Dense(n_hidden, activation=af))\n",
    "model.add(Dropout(0.5))\n",
    "model.add(Dense(n_hidden, activation=af))\n",
    "model.add(Dropout(0.5))\n",
    "model.add(Dense(n_out, activation='softmax'))\n",
    "model.summary()"
   ]
  },
  {
   "cell_type": "code",
   "execution_count": 18,
   "metadata": {},
   "outputs": [
    {
     "name": "stdout",
     "output_type": "stream",
     "text": [
      "Epoch 1/20\n",
      "10000/10000 [==============================] - 2s 165us/step - loss: 2.3181 - acc: 0.1208\n",
      "Epoch 2/20\n",
      "10000/10000 [==============================] - 1s 109us/step - loss: 2.1952 - acc: 0.2043\n",
      "Epoch 3/20\n",
      "10000/10000 [==============================] - 1s 121us/step - loss: 2.0431 - acc: 0.2867\n",
      "Epoch 4/20\n",
      "10000/10000 [==============================] - 1s 123us/step - loss: 1.8182 - acc: 0.3687\n",
      "Epoch 5/20\n",
      "10000/10000 [==============================] - 1s 116us/step - loss: 1.5580 - acc: 0.4446\n",
      "Epoch 6/20\n",
      "10000/10000 [==============================] - 1s 109us/step - loss: 1.3601 - acc: 0.5010\n",
      "Epoch 7/20\n",
      "10000/10000 [==============================] - 1s 106us/step - loss: 1.2145 - acc: 0.5537\n",
      "Epoch 8/20\n",
      "10000/10000 [==============================] - 1s 140us/step - loss: 1.1010 - acc: 0.5978\n",
      "Epoch 9/20\n",
      "10000/10000 [==============================] - 1s 115us/step - loss: 0.9937 - acc: 0.6488\n",
      "Epoch 10/20\n",
      "10000/10000 [==============================] - 1s 105us/step - loss: 0.9188 - acc: 0.6830\n",
      "Epoch 11/20\n",
      "10000/10000 [==============================] - 1s 115us/step - loss: 0.8473 - acc: 0.7107\n",
      "Epoch 12/20\n",
      "10000/10000 [==============================] - 1s 97us/step - loss: 0.7751 - acc: 0.7446\n",
      "Epoch 13/20\n",
      "10000/10000 [==============================] - 1s 95us/step - loss: 0.7158 - acc: 0.7673\n",
      "Epoch 14/20\n",
      "10000/10000 [==============================] - 1s 100us/step - loss: 0.6886 - acc: 0.7772\n",
      "Epoch 15/20\n",
      "10000/10000 [==============================] - 2s 152us/step - loss: 0.6411 - acc: 0.7904\n",
      "Epoch 16/20\n",
      "10000/10000 [==============================] - 1s 121us/step - loss: 0.5886 - acc: 0.8141\n",
      "Epoch 17/20\n",
      "10000/10000 [==============================] - 1s 103us/step - loss: 0.5670 - acc: 0.8240\n",
      "Epoch 18/20\n",
      "10000/10000 [==============================] - 1s 108us/step - loss: 0.5599 - acc: 0.8293\n",
      "Epoch 19/20\n",
      "10000/10000 [==============================] - 1s 109us/step - loss: 0.5097 - acc: 0.8445\n",
      "Epoch 20/20\n",
      "10000/10000 [==============================] - 1s 112us/step - loss: 0.4907 - acc: 0.8495\n",
      "Test loss: 0.3823092278242111\n",
      "Test accuracy: 0.881\n"
     ]
    }
   ],
   "source": [
    "model.compile(loss = 'categorical_crossentropy',\n",
    "              optimizer = SGD(lr=0.1),\n",
    "              metrics = ['accuracy'])\n",
    "model.fit(X_train, Y_train, epochs=20, batch_size=200)\n",
    "score = model.evaluate(X_test, Y_test, verbose=0)\n",
    "print('Test loss:', score[0])\n",
    "print('Test accuracy:', score[1])"
   ]
  },
  {
   "cell_type": "code",
   "execution_count": null,
   "metadata": {},
   "outputs": [],
   "source": []
  }
 ],
 "metadata": {
  "kernelspec": {
   "display_name": "Python 3",
   "language": "python",
   "name": "python3"
  },
  "language_info": {
   "codemirror_mode": {
    "name": "ipython",
    "version": 3
   },
   "file_extension": ".py",
   "mimetype": "text/x-python",
   "name": "python",
   "nbconvert_exporter": "python",
   "pygments_lexer": "ipython3",
   "version": "3.6.4"
  }
 },
 "nbformat": 4,
 "nbformat_minor": 2
}
