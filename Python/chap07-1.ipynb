{
 "cells": [
  {
   "cell_type": "code",
   "execution_count": 1,
   "metadata": {
    "collapsed": true
   },
   "outputs": [],
   "source": [
    "import numpy as np\n",
    "import re\n",
    "from sklearn.feature_extraction.text import CountVectorizer\n",
    "from sklearn.feature_extraction.text import TfidfVectorizer\n",
    "from sklearn.svm import SVC\n",
    "from sklearn.metrics import classification_report"
   ]
  },
  {
   "cell_type": "code",
   "execution_count": 2,
   "metadata": {
    "collapsed": true
   },
   "outputs": [],
   "source": [
    "# 学習データ\n",
    "r = re.compile(\"'(.*)',([01])\")\n",
    "X = np.empty((0,1),np.string_)\n",
    "y = np.empty((0,1),np.string_)\n",
    "\n",
    "with open('ReutersGrain-train.arff', 'r') as file:\n",
    "    line = file.readline()\n",
    "    while not(re.match(r\"@data\", line)):\n",
    "        line = file.readline()\n",
    "    line = file.readline()  # @data のあとの空行を読み飛ばす\n",
    "    for line in file:\n",
    "        m = r.search(line)\n",
    "        X = np.append(X, m.group(1))\n",
    "        y = np.append(y, m.group(2))"
   ]
  },
  {
   "cell_type": "code",
   "execution_count": 3,
   "metadata": {
    "collapsed": true
   },
   "outputs": [],
   "source": [
    "# 評価データ\n",
    "Xe = np.empty((0,1),np.string_)\n",
    "ye = np.empty((0,1),np.string_)\n",
    "with open('ReutersGrain-test.arff', 'r') as file:\n",
    "    line = file.readline()\n",
    "    while not(re.match(r\"@data\", line)):\n",
    "        line = file.readline()\n",
    "    line = file.readline()  # @data のあとの空行を読み飛ばす\n",
    "    for line in file:\n",
    "        m = r.search(line)\n",
    "        Xe = np.append(Xe, m.group(1))\n",
    "        ye = np.append(ye, m.group(2))"
   ]
  },
  {
   "cell_type": "code",
   "execution_count": 5,
   "metadata": {},
   "outputs": [
    {
     "name": "stdout",
     "output_type": "stream",
     "text": [
      "CountVectorizer(analyzer='word', binary=False, decode_error='strict',\n",
      "        dtype=<class 'numpy.int64'>, encoding='utf-8', input='content',\n",
      "        lowercase=True, max_df=1.0, max_features=None, min_df=1,\n",
      "        ngram_range=(1, 1), preprocessor=None, stop_words=None,\n",
      "        strip_accents=None, token_pattern='(?u)\\\\b\\\\w\\\\w+\\\\b',\n",
      "        tokenizer=None, vocabulary=None)\n"
     ]
    }
   ],
   "source": [
    "vectorizer = CountVectorizer(min_df=1)\n",
    "print(vectorizer)\n",
    "Xv = vectorizer.fit_transform(X)\n",
    "Xev = vectorizer.transform(Xe)"
   ]
  },
  {
   "cell_type": "code",
   "execution_count": 6,
   "metadata": {},
   "outputs": [
    {
     "name": "stdout",
     "output_type": "stream",
     "text": [
      "SVC(C=1.0, cache_size=200, class_weight='balanced', coef0=0.0,\n",
      "  decision_function_shape='ovr', degree=3, gamma='auto', kernel='linear',\n",
      "  max_iter=-1, probability=False, random_state=None, shrinking=True,\n",
      "  tol=0.001, verbose=False)\n"
     ]
    }
   ],
   "source": [
    "clf = SVC(kernel='linear', class_weight = 'balanced')\n",
    "print(clf)"
   ]
  },
  {
   "cell_type": "code",
   "execution_count": 7,
   "metadata": {},
   "outputs": [
    {
     "name": "stdout",
     "output_type": "stream",
     "text": [
      "             precision    recall  f1-score   support\n",
      "\n",
      "   negative       0.98      0.99      0.99       547\n",
      "   positive       0.92      0.79      0.85        57\n",
      "\n",
      "avg / total       0.97      0.97      0.97       604\n",
      "\n"
     ]
    }
   ],
   "source": [
    "clf = clf.fit(Xv, y)\n",
    "print(classification_report(ye, clf.predict(Xev), target_names=['negative', 'positive']))"
   ]
  },
  {
   "cell_type": "code",
   "execution_count": null,
   "metadata": {
    "collapsed": true
   },
   "outputs": [],
   "source": []
  }
 ],
 "metadata": {
  "kernelspec": {
   "display_name": "Python 3",
   "language": "python",
   "name": "python3"
  },
  "language_info": {
   "codemirror_mode": {
    "name": "ipython",
    "version": 3
   },
   "file_extension": ".py",
   "mimetype": "text/x-python",
   "name": "python",
   "nbconvert_exporter": "python",
   "pygments_lexer": "ipython3",
   "version": "3.6.3"
  }
 },
 "nbformat": 4,
 "nbformat_minor": 2
}
