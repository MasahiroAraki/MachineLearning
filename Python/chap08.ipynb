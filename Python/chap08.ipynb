{
  "nbformat": 4,
  "nbformat_minor": 0,
  "metadata": {
    "colab": {
      "provenance": []
    },
    "kernelspec": {
      "name": "python3",
      "display_name": "Python 3"
    },
    "language_info": {
      "name": "python"
    },
    "accelerator": "GPU",
    "gpuClass": "standard"
  },
  "cells": [
    {
      "cell_type": "markdown",
      "metadata": {
        "id": "HTQM8pPu-aBe"
      },
      "source": [
        "<a href=\"https://colab.research.google.com/github/MasahiroAraki/MachineLearning/blob/master/Python/chap08.ipynb\" target=\"_parent\"><img src=\"https://colab.research.google.com/assets/colab-badge.svg\" alt=\"Open In Colab\"/></a>"
      ]
    },
    {
      "cell_type": "markdown",
      "metadata": {
        "id": "VhTJVPjB_hUe"
      },
      "source": [
        "# 第8章 ニューラルネットワーク\n",
        "\n",
        "多層ニューラルネットワークでの識別をKerasでコーディングします。"
      ]
    },
    {
      "cell_type": "markdown",
      "metadata": {
        "id": "LpzpLYDY_hUg"
      },
      "source": [
        "## 準備\n",
        "\n",
        "必要なライブラリ等を読み込みます。"
      ]
    },
    {
      "cell_type": "code",
      "metadata": {
        "id": "YD7cellA4t5f"
      },
      "source": [
        "import numpy as np\n",
        "import matplotlib.pyplot as plt\n",
        "import tensorflow as tf\n",
        "from tensorflow import keras"
      ],
      "execution_count": null,
      "outputs": []
    },
    {
      "cell_type": "markdown",
      "metadata": {
        "id": "GivJJ5O-_hUn"
      },
      "source": [
        "## データの読み込み"
      ]
    },
    {
      "cell_type": "markdown",
      "metadata": {
        "id": "JB-K_6FT_hUp"
      },
      "source": [
        "MNISTデータは手描き数字画像認識のためのデータセットです。学習用60000事例、評価用10000事例で、それぞれ28x28の行列で画像が表現されています。"
      ]
    },
    {
      "cell_type": "code",
      "metadata": {
        "id": "7ldmbcEQ_hUq",
        "colab": {
          "base_uri": "https://localhost:8080/"
        },
        "outputId": "9a34296e-4dbe-4d81-bd33-38cadd26b59f"
      },
      "source": [
        "(X_train, y_train), (X_test, y_test) = keras.datasets.mnist.load_data()"
      ],
      "execution_count": null,
      "outputs": [
        {
          "output_type": "stream",
          "name": "stdout",
          "text": [
            "Downloading data from https://storage.googleapis.com/tensorflow/tf-keras-datasets/mnist.npz\n",
            "11490434/11490434 [==============================] - 0s 0us/step\n"
          ]
        }
      ]
    },
    {
      "cell_type": "code",
      "metadata": {
        "id": "2WcSE_egBOIN",
        "colab": {
          "base_uri": "https://localhost:8080/"
        },
        "outputId": "3dde7c33-fb39-4fc4-a1ee-a9fd033c0394"
      },
      "source": [
        "X_train.shape"
      ],
      "execution_count": null,
      "outputs": [
        {
          "output_type": "execute_result",
          "data": {
            "text/plain": [
              "(60000, 28, 28)"
            ]
          },
          "metadata": {},
          "execution_count": 3
        }
      ]
    },
    {
      "cell_type": "markdown",
      "metadata": {
        "id": "wuR01D3N_hUy"
      },
      "source": [
        "パターン行列からデータを1つ取り出して、pyplotで表示します。"
      ]
    },
    {
      "cell_type": "code",
      "metadata": {
        "id": "xQyLXsFy_hUz",
        "colab": {
          "base_uri": "https://localhost:8080/",
          "height": 448
        },
        "outputId": "5b7d43a5-9545-444e-c719-c667ada26033"
      },
      "source": [
        "plt.gray()\n",
        "plt.imshow(X_train[130])"
      ],
      "execution_count": null,
      "outputs": [
        {
          "output_type": "execute_result",
          "data": {
            "text/plain": [
              "<matplotlib.image.AxesImage at 0x7f10e9058be0>"
            ]
          },
          "metadata": {},
          "execution_count": 4
        },
        {
          "output_type": "display_data",
          "data": {
            "text/plain": [
              "<Figure size 640x480 with 1 Axes>"
            ],
            "image/png": "[encoded data removed]"
          },
          "metadata": {}
        }
      ]
    },
    {
      "cell_type": "code",
      "source": [
        "plt.imshow(255 - X_train[130])"
      ],
      "metadata": {
        "colab": {
          "base_uri": "https://localhost:8080/",
          "height": 448
        },
        "id": "m8IZURousCHs",
        "outputId": "e7bd42a7-7ea7-462c-d87e-e7ea0191690f"
      },
      "execution_count": null,
      "outputs": [
        {
          "output_type": "execute_result",
          "data": {
            "text/plain": [
              "<matplotlib.image.AxesImage at 0x7f10e3b48b50>"
            ]
          },
          "metadata": {},
          "execution_count": 5
        },
        {
          "output_type": "display_data",
          "data": {
            "text/plain": [
              "<Figure size 640x480 with 1 Axes>"
            ],
            "image/png": "[encoded data removed]"
          },
          "metadata": {}
        }
      ]
    },
    {
      "cell_type": "markdown",
      "metadata": {
        "id": "Tmg-r96t_hU5"
      },
      "source": [
        "正解ベクトルの最初の20要素程度を表示させて、どのようにデータが並んでいるのかを確認します。"
      ]
    },
    {
      "cell_type": "code",
      "metadata": {
        "id": "TdvzBckS_hU6",
        "colab": {
          "base_uri": "https://localhost:8080/"
        },
        "outputId": "5b488ad5-c43c-4a89-88fc-04d57baaba37"
      },
      "source": [
        "y_train[0:20]"
      ],
      "execution_count": null,
      "outputs": [
        {
          "output_type": "execute_result",
          "data": {
            "text/plain": [
              "array([5, 0, 4, 1, 9, 2, 1, 3, 1, 4, 3, 5, 3, 6, 1, 7, 2, 8, 6, 9],\n",
              "      dtype=uint8)"
            ]
          },
          "metadata": {},
          "execution_count": 6
        }
      ]
    },
    {
      "cell_type": "markdown",
      "metadata": {
        "id": "ZBwulOv8CnB8"
      },
      "source": [
        "入力値のとりうる範囲を0-255から0-1に変換します。"
      ]
    },
    {
      "cell_type": "code",
      "metadata": {
        "id": "PTn3T-I7C2ew"
      },
      "source": [
        "X_train = X_train / 255.0\n",
        "X_test = X_test / 255.0"
      ],
      "execution_count": null,
      "outputs": []
    },
    {
      "cell_type": "markdown",
      "metadata": {
        "id": "VKv6F_BvC3iQ"
      },
      "source": [
        "正解をone-hotベクトルに変換します。"
      ]
    },
    {
      "cell_type": "code",
      "metadata": {
        "id": "6v4qfDVnC32w"
      },
      "source": [
        "y_train = keras.utils.to_categorical(y_train)\n",
        "y_test = keras.utils.to_categorical(y_test)"
      ],
      "execution_count": null,
      "outputs": []
    },
    {
      "cell_type": "markdown",
      "metadata": {
        "id": "L1rf8Cq-_hU_"
      },
      "source": [
        "## ニューラルネットワークの構造と学習時のハイパーパラメータの設定\n",
        "\n",
        "3層のフィードフォワード型ネットワークで学習します。\n",
        "\n",
        "*   入力層は28x28の2次元画像を784次元の1次元ベクトルに変換 (Flatten)します\n",
        "*   中間層は128個のユニットで、活性化関数はシグモイド関数です\n",
        "*   出力層のユニット数はクラス数に合わせて10個で、活性化関数はすべての出力値の合計が1になるようにしたsoftmax関数です\n",
        "\n"
      ]
    },
    {
      "cell_type": "code",
      "metadata": {
        "id": "5fu1YyCd_hVA",
        "colab": {
          "base_uri": "https://localhost:8080/"
        },
        "outputId": "b2e20599-8f6e-4ddf-c048-aa2363c29897"
      },
      "source": [
        "model = keras.Sequential([\n",
        "    keras.layers.Flatten(input_shape=(28, 28)),\n",
        "    keras.layers.Dense(128, activation='sigmoid'),\n",
        "    keras.layers.Dense(10,  activation='softmax')\n",
        "])\n",
        "model.summary()"
      ],
      "execution_count": null,
      "outputs": [
        {
          "output_type": "stream",
          "name": "stdout",
          "text": [
            "Model: \"sequential\"\n",
            "_________________________________________________________________\n",
            " Layer (type)                Output Shape              Param #   \n",
            "=================================================================\n",
            " flatten (Flatten)           (None, 784)               0         \n",
            "                                                                 \n",
            " dense (Dense)               (None, 128)               100480    \n",
            "                                                                 \n",
            " dense_1 (Dense)             (None, 10)                1290      \n",
            "                                                                 \n",
            "=================================================================\n",
            "Total params: 101770 (397.54 KB)\n",
            "Trainable params: 101770 (397.54 KB)\n",
            "Non-trainable params: 0 (0.00 Byte)\n",
            "_________________________________________________________________\n"
          ]
        }
      ]
    },
    {
      "cell_type": "markdown",
      "metadata": {
        "id": "OYuCkzidENX9"
      },
      "source": [
        "損失関数と最適化器を指定します。metricsは学習時に表示される数値で、学習が進んでいることを確認できるように設定します。"
      ]
    },
    {
      "cell_type": "code",
      "metadata": {
        "id": "lGMk3iyCEeG0"
      },
      "source": [
        "model.compile(loss='categorical_crossentropy', optimizer='adam', metrics=['acc'])"
      ],
      "execution_count": null,
      "outputs": []
    },
    {
      "cell_type": "markdown",
      "metadata": {
        "id": "K7Q_qHe5Ei9e"
      },
      "source": [
        "ミニバッチのサイズと、繰り返し数を指定して学習を行います。"
      ]
    },
    {
      "cell_type": "code",
      "metadata": {
        "id": "RE6CHNuy_hVG",
        "colab": {
          "base_uri": "https://localhost:8080/"
        },
        "outputId": "eca2d078-a3c5-4f97-feff-b145a36fe214"
      },
      "source": [
        "model.fit(X_train, y_train, batch_size=200, epochs=3)"
      ],
      "execution_count": null,
      "outputs": [
        {
          "output_type": "stream",
          "name": "stdout",
          "text": [
            "Epoch 1/3\n",
            "300/300 [==============================] - 7s 4ms/step - loss: 0.7249 - acc: 0.8329\n",
            "Epoch 2/3\n",
            "300/300 [==============================] - 1s 4ms/step - loss: 0.3171 - acc: 0.9133\n",
            "Epoch 3/3\n",
            "300/300 [==============================] - 1s 3ms/step - loss: 0.2552 - acc: 0.9282\n"
          ]
        },
        {
          "output_type": "execute_result",
          "data": {
            "text/plain": [
              "<keras.src.callbacks.History at 0x7f10e637c9a0>"
            ]
          },
          "metadata": {},
          "execution_count": 11
        }
      ]
    },
    {
      "cell_type": "markdown",
      "metadata": {
        "id": "rqwOCR_RE61I"
      },
      "source": [
        "評価用データで評価します。"
      ]
    },
    {
      "cell_type": "code",
      "metadata": {
        "id": "6EtCBEOYEvpQ",
        "colab": {
          "base_uri": "https://localhost:8080/"
        },
        "outputId": "16a7ec2e-3bd1-4217-ff05-ddb699c4983a"
      },
      "source": [
        "score = model.evaluate(X_test, y_test)\n",
        "print(f\"Accuracy: {score[1]:.2f}\")"
      ],
      "execution_count": null,
      "outputs": [
        {
          "output_type": "stream",
          "name": "stdout",
          "text": [
            "313/313 [==============================] - 1s 3ms/step - loss: 0.2300 - acc: 0.9353\n",
            "Accuracy: 0.94\n"
          ]
        }
      ]
    },
    {
      "cell_type": "markdown",
      "metadata": {
        "id": "ZTEMqMYF_hVd"
      },
      "source": [
        "## 練習問題\n",
        "\n",
        "活性化関数sigmoid、最適化器sgd（最急勾配法）で多階層ネットワークを構成し、勾配消失のために学習が進まないことを確認してください。次に、活性化関数を変更して、学習がうまくできることを確認してください。余力があれば、最適化器入れ替えの効果についても確認してください。\n"
      ]
    },
    {
      "cell_type": "markdown",
      "metadata": {
        "id": "18yYufn1XZ78"
      },
      "source": [
        "### 解答例\n"
      ]
    },
    {
      "cell_type": "code",
      "metadata": {
        "id": "h5uwRSc2XZ79"
      },
      "source": [
        "import numpy as np\n",
        "import matplotlib.pyplot as plt\n",
        "import tensorflow as tf"
      ],
      "execution_count": null,
      "outputs": []
    },
    {
      "cell_type": "markdown",
      "metadata": {
        "id": "srYVV2z7XZ79"
      },
      "source": [
        "## データの読み込み"
      ]
    },
    {
      "cell_type": "code",
      "metadata": {
        "id": "jvAJhu5iXZ79"
      },
      "source": [
        "(X_train, y_train), (X_test, y_test) = tf.keras.datasets.mnist.load_data()"
      ],
      "execution_count": null,
      "outputs": []
    },
    {
      "cell_type": "markdown",
      "metadata": {
        "id": "OlMtbAOAXZ79"
      },
      "source": [
        "入力値のとりうる範囲を0-255から0-1に変換します。"
      ]
    },
    {
      "cell_type": "code",
      "metadata": {
        "id": "UcciasfAXZ79"
      },
      "source": [
        "X_train = X_train / 255.0\n",
        "X_test = X_test / 255.0"
      ],
      "execution_count": null,
      "outputs": []
    },
    {
      "cell_type": "markdown",
      "metadata": {
        "id": "V2pEw37HXZ79"
      },
      "source": [
        "正解をone-hotベクトルに変換します。"
      ]
    },
    {
      "cell_type": "code",
      "metadata": {
        "id": "r-rzGbHcXZ79"
      },
      "source": [
        "y_train = tf.keras.utils.to_categorical(y_train)\n",
        "y_test = tf.keras.utils.to_categorical(y_test)"
      ],
      "execution_count": null,
      "outputs": []
    },
    {
      "cell_type": "markdown",
      "metadata": {
        "id": "QFmGmMldXZ79"
      },
      "source": [
        "## ニューラルネットワークの構造と学習時のハイパーパラメータの設定\n",
        "\n",
        "6層のフィードフォワード型ネットワークで学習します。"
      ]
    },
    {
      "cell_type": "code",
      "metadata": {
        "colab": {
          "base_uri": "https://localhost:8080/"
        },
        "outputId": "f82034aa-0829-4edd-ea7d-5bb00df06300",
        "id": "3m2RuTUMXZ79"
      },
      "source": [
        "af = 'sigmoid'\n",
        "model = tf.keras.Sequential([\n",
        "    tf.keras.layers.Flatten(input_shape=(28, 28)),\n",
        "    tf.keras.layers.Dense(128, activation=af),\n",
        "    tf.keras.layers.Dense(128, activation=af),\n",
        "    tf.keras.layers.Dense(128, activation=af),\n",
        "    tf.keras.layers.Dense(128, activation=af),\n",
        "    tf.keras.layers.Dense(10,  activation='softmax')\n",
        "])\n",
        "model.summary()"
      ],
      "execution_count": null,
      "outputs": [
        {
          "output_type": "stream",
          "name": "stdout",
          "text": [
            "Model: \"sequential_1\"\n",
            "_________________________________________________________________\n",
            " Layer (type)                Output Shape              Param #   \n",
            "=================================================================\n",
            " flatten_1 (Flatten)         (None, 784)               0         \n",
            "                                                                 \n",
            " dense_2 (Dense)             (None, 128)               100480    \n",
            "                                                                 \n",
            " dense_3 (Dense)             (None, 128)               16512     \n",
            "                                                                 \n",
            " dense_4 (Dense)             (None, 128)               16512     \n",
            "                                                                 \n",
            " dense_5 (Dense)             (None, 128)               16512     \n",
            "                                                                 \n",
            " dense_6 (Dense)             (None, 10)                1290      \n",
            "                                                                 \n",
            "=================================================================\n",
            "Total params: 151306 (591.04 KB)\n",
            "Trainable params: 151306 (591.04 KB)\n",
            "Non-trainable params: 0 (0.00 Byte)\n",
            "_________________________________________________________________\n"
          ]
        }
      ]
    },
    {
      "cell_type": "markdown",
      "metadata": {
        "id": "ti8TOmqMXZ7-"
      },
      "source": [
        "損失関数と最適化器を指定します。metricsは学習時に表示される数値で、学習が進んでいることを確認できるように設定します。"
      ]
    },
    {
      "cell_type": "code",
      "metadata": {
        "id": "q4nSNFy_XZ7-"
      },
      "source": [
        "model.compile(loss='categorical_crossentropy', optimizer='sgd', metrics=['acc'])"
      ],
      "execution_count": null,
      "outputs": []
    },
    {
      "cell_type": "markdown",
      "metadata": {
        "id": "zhgrzOlkXZ7-"
      },
      "source": [
        "ミニバッチのサイズと、繰り返し数を指定して学習を行います。lossやaccがほとんど変化しないことを確認してください。"
      ]
    },
    {
      "cell_type": "code",
      "metadata": {
        "outputId": "5aa11beb-755f-4a04-e613-7a10245e47c7",
        "colab": {
          "base_uri": "https://localhost:8080/"
        },
        "id": "rXX6rNYtXZ7-"
      },
      "source": [
        "model.fit(X_train, y_train, batch_size=200, epochs=5)"
      ],
      "execution_count": null,
      "outputs": [
        {
          "output_type": "stream",
          "name": "stdout",
          "text": [
            "Epoch 1/5\n",
            "300/300 [==============================] - 2s 4ms/step - loss: 2.3145 - acc: 0.1104\n",
            "Epoch 2/5\n",
            "300/300 [==============================] - 1s 4ms/step - loss: 2.3014 - acc: 0.1144\n",
            "Epoch 3/5\n",
            "300/300 [==============================] - 1s 3ms/step - loss: 2.3014 - acc: 0.1131\n",
            "Epoch 4/5\n",
            "300/300 [==============================] - 1s 3ms/step - loss: 2.3013 - acc: 0.1124\n",
            "Epoch 5/5\n",
            "300/300 [==============================] - 1s 4ms/step - loss: 2.3011 - acc: 0.1133\n"
          ]
        },
        {
          "output_type": "execute_result",
          "data": {
            "text/plain": [
              "<keras.src.callbacks.History at 0x7f10e5eb4850>"
            ]
          },
          "metadata": {},
          "execution_count": 19
        }
      ]
    },
    {
      "cell_type": "markdown",
      "metadata": {
        "id": "xM2JNF4nXZ7_"
      },
      "source": [
        "評価用データで評価します。"
      ]
    },
    {
      "cell_type": "code",
      "metadata": {
        "outputId": "93c9d32a-3484-41fc-a0f0-0ff2c78f90a2",
        "colab": {
          "base_uri": "https://localhost:8080/"
        },
        "id": "8_dYgHq6XZ7_"
      },
      "source": [
        "score = model.evaluate(X_test, y_test)\n",
        "print(f\"Accuracy: {score[1]:.2}\")"
      ],
      "execution_count": null,
      "outputs": [
        {
          "output_type": "stream",
          "name": "stdout",
          "text": [
            "313/313 [==============================] - 1s 4ms/step - loss: 2.3008 - acc: 0.1135\n",
            "Accuracy: 0.11\n"
          ]
        }
      ]
    },
    {
      "cell_type": "markdown",
      "metadata": {
        "id": "B6D6UAO_Lnd9"
      },
      "source": [
        "10クラス問題で正解率が10%程度なので、まったく学習ができていないことがわかります。"
      ]
    },
    {
      "cell_type": "markdown",
      "metadata": {
        "id": "7ZQ0bI1uLw9D"
      },
      "source": [
        "活性化関数を変更します。学習が進んでいる様子を確認してください。"
      ]
    },
    {
      "cell_type": "code",
      "metadata": {
        "id": "pSlDeObtL1qJ"
      },
      "source": [
        "af = 'relu'\n",
        "\n",
        "model2 = tf.keras.Sequential([\n",
        "    tf.keras.layers.Flatten(input_shape=(28, 28)),\n",
        "    tf.keras.layers.Dense(128, activation=af),\n",
        "    tf.keras.layers.Dense(128, activation=af),\n",
        "    tf.keras.layers.Dense(128, activation=af),\n",
        "    tf.keras.layers.Dense(128, activation=af),\n",
        "    tf.keras.layers.Dense(10,  activation='softmax')\n",
        "])"
      ],
      "execution_count": null,
      "outputs": []
    },
    {
      "cell_type": "code",
      "metadata": {
        "id": "J_8jQZ8cL1lB"
      },
      "source": [
        "model2.compile(loss='categorical_crossentropy', optimizer='sgd', metrics=['acc'])"
      ],
      "execution_count": null,
      "outputs": []
    },
    {
      "cell_type": "code",
      "metadata": {
        "id": "E6C2XmtlL1hR",
        "colab": {
          "base_uri": "https://localhost:8080/"
        },
        "outputId": "e22c1f6f-7a0c-48ed-a10b-e706cb86b13f"
      },
      "source": [
        "model2.fit(X_train, y_train, batch_size=200, epochs=5)"
      ],
      "execution_count": null,
      "outputs": [
        {
          "output_type": "stream",
          "name": "stdout",
          "text": [
            "Epoch 1/5\n",
            "300/300 [==============================] - 2s 4ms/step - loss: 1.9418 - acc: 0.4569\n",
            "Epoch 2/5\n",
            "300/300 [==============================] - 1s 4ms/step - loss: 0.7580 - acc: 0.7987\n",
            "Epoch 3/5\n",
            "300/300 [==============================] - 1s 3ms/step - loss: 0.4579 - acc: 0.8694\n",
            "Epoch 4/5\n",
            "300/300 [==============================] - 1s 4ms/step - loss: 0.3766 - acc: 0.8926\n",
            "Epoch 5/5\n",
            "300/300 [==============================] - 1s 4ms/step - loss: 0.3348 - acc: 0.9038\n"
          ]
        },
        {
          "output_type": "execute_result",
          "data": {
            "text/plain": [
              "<keras.src.callbacks.History at 0x7f10e39c8250>"
            ]
          },
          "metadata": {},
          "execution_count": 23
        }
      ]
    },
    {
      "cell_type": "code",
      "metadata": {
        "id": "tpUWBTFsMKU6",
        "colab": {
          "base_uri": "https://localhost:8080/"
        },
        "outputId": "f3fb18d9-7444-4143-9d83-b6f18f413bea"
      },
      "source": [
        "score = model2.evaluate(X_test, y_test)\n",
        "print(f\"Accuracy: {score[1]:.2}\")"
      ],
      "execution_count": null,
      "outputs": [
        {
          "output_type": "stream",
          "name": "stdout",
          "text": [
            "313/313 [==============================] - 1s 3ms/step - loss: 0.3079 - acc: 0.9097\n",
            "Accuracy: 0.91\n"
          ]
        }
      ]
    },
    {
      "cell_type": "markdown",
      "metadata": {
        "id": "ClCJLnFLMJEq"
      },
      "source": [
        "もとのネットワークで、最適化器のみ変更してみます。"
      ]
    },
    {
      "cell_type": "code",
      "metadata": {
        "id": "qGyA49heODaK"
      },
      "source": [
        "af = 'sigmoid'\n",
        "model3 = tf.keras.Sequential([\n",
        "    tf.keras.layers.Flatten(input_shape=(28, 28)),\n",
        "    tf.keras.layers.Dense(128, activation=af),\n",
        "    tf.keras.layers.Dense(128, activation=af),\n",
        "    tf.keras.layers.Dense(128, activation=af),\n",
        "    tf.keras.layers.Dense(128, activation=af),\n",
        "    tf.keras.layers.Dense(10,  activation='softmax')\n",
        "])"
      ],
      "execution_count": null,
      "outputs": []
    },
    {
      "cell_type": "code",
      "metadata": {
        "id": "spkJ3Aj9MaBR"
      },
      "source": [
        "model3.compile(loss='categorical_crossentropy', optimizer='adam', metrics=['acc'])"
      ],
      "execution_count": null,
      "outputs": []
    },
    {
      "cell_type": "code",
      "metadata": {
        "id": "iAVCPRhZMZ4J",
        "colab": {
          "base_uri": "https://localhost:8080/"
        },
        "outputId": "279acfe5-7008-409d-842d-acbc7510ae08"
      },
      "source": [
        "model3.fit(X_train, y_train, batch_size=200, epochs=5)"
      ],
      "execution_count": null,
      "outputs": [
        {
          "output_type": "stream",
          "name": "stdout",
          "text": [
            "Epoch 1/5\n",
            "300/300 [==============================] - 3s 5ms/step - loss: 1.2240 - acc: 0.6172\n",
            "Epoch 2/5\n",
            "300/300 [==============================] - 1s 5ms/step - loss: 0.3617 - acc: 0.9054\n",
            "Epoch 3/5\n",
            "300/300 [==============================] - 1s 4ms/step - loss: 0.2294 - acc: 0.9385\n",
            "Epoch 4/5\n",
            "300/300 [==============================] - 1s 4ms/step - loss: 0.1695 - acc: 0.9529\n",
            "Epoch 5/5\n",
            "300/300 [==============================] - 1s 4ms/step - loss: 0.1381 - acc: 0.9615\n"
          ]
        },
        {
          "output_type": "execute_result",
          "data": {
            "text/plain": [
              "<keras.src.callbacks.History at 0x7f10d38b0310>"
            ]
          },
          "metadata": {},
          "execution_count": 27
        }
      ]
    },
    {
      "cell_type": "code",
      "metadata": {
        "id": "WhBw-RMYMZsL",
        "colab": {
          "base_uri": "https://localhost:8080/"
        },
        "outputId": "4804f04c-1222-4f5b-e68e-4715c4840c04"
      },
      "source": [
        "score = model3.evaluate(X_test, y_test)\n",
        "print(f\"Accuracy: {score[1]:.2}\")"
      ],
      "execution_count": null,
      "outputs": [
        {
          "output_type": "stream",
          "name": "stdout",
          "text": [
            "313/313 [==============================] - 1s 3ms/step - loss: 0.1510 - acc: 0.9563\n",
            "Accuracy: 0.96\n"
          ]
        }
      ]
    },
    {
      "cell_type": "markdown",
      "metadata": {
        "id": "xfQDxEgRM7F8"
      },
      "source": [
        "活性化関数と最適化器の両方を変えてみます。"
      ]
    },
    {
      "cell_type": "code",
      "metadata": {
        "id": "4ZWRP-K8OK2R"
      },
      "source": [
        "af = 'relu'\n",
        "\n",
        "model4 = tf.keras.Sequential([\n",
        "    tf.keras.layers.Flatten(input_shape=(28, 28)),\n",
        "    tf.keras.layers.Dense(128, activation=af),\n",
        "    tf.keras.layers.Dense(128, activation=af),\n",
        "    tf.keras.layers.Dense(128, activation=af),\n",
        "    tf.keras.layers.Dense(128, activation=af),\n",
        "    tf.keras.layers.Dense(10,  activation='softmax')\n",
        "])"
      ],
      "execution_count": null,
      "outputs": []
    },
    {
      "cell_type": "code",
      "metadata": {
        "id": "m_-dyWOFNAUp"
      },
      "source": [
        "model4.compile(loss='categorical_crossentropy', optimizer='adam', metrics=['acc'])"
      ],
      "execution_count": null,
      "outputs": []
    },
    {
      "cell_type": "code",
      "metadata": {
        "id": "nxS3eBorNAQy",
        "colab": {
          "base_uri": "https://localhost:8080/"
        },
        "outputId": "8ec985c9-52c8-40ec-dbd3-3635e3d53f77"
      },
      "source": [
        "model4.fit(X_train, y_train, batch_size=200, epochs=5)"
      ],
      "execution_count": null,
      "outputs": [
        {
          "output_type": "stream",
          "name": "stdout",
          "text": [
            "Epoch 1/5\n",
            "300/300 [==============================] - 3s 4ms/step - loss: 0.3372 - acc: 0.9031\n",
            "Epoch 2/5\n",
            "300/300 [==============================] - 1s 4ms/step - loss: 0.1244 - acc: 0.9621\n",
            "Epoch 3/5\n",
            "300/300 [==============================] - 1s 5ms/step - loss: 0.0859 - acc: 0.9731\n",
            "Epoch 4/5\n",
            "300/300 [==============================] - 2s 5ms/step - loss: 0.0639 - acc: 0.9803\n",
            "Epoch 5/5\n",
            "300/300 [==============================] - 1s 4ms/step - loss: 0.0511 - acc: 0.9842\n"
          ]
        },
        {
          "output_type": "execute_result",
          "data": {
            "text/plain": [
              "<keras.src.callbacks.History at 0x7f10d2f38fd0>"
            ]
          },
          "metadata": {},
          "execution_count": 31
        }
      ]
    },
    {
      "cell_type": "code",
      "metadata": {
        "id": "DDNhxfK4NALR",
        "colab": {
          "base_uri": "https://localhost:8080/"
        },
        "outputId": "86817dde-3ab0-4575-c908-9c8e9e94ab99"
      },
      "source": [
        "score = model4.evaluate(X_test, y_test)\n",
        "print(f\"Accuracy: {score[1]:.2}\")"
      ],
      "execution_count": null,
      "outputs": [
        {
          "output_type": "stream",
          "name": "stdout",
          "text": [
            "313/313 [==============================] - 1s 3ms/step - loss: 0.0880 - acc: 0.9750\n",
            "Accuracy: 0.98\n"
          ]
        }
      ]
    },
    {
      "cell_type": "markdown",
      "metadata": {
        "id": "DeaqqDm-XZ8B"
      },
      "source": [
        "適切に設定を行うと、学習効率が上がることがわかります。"
      ]
    }
  ]
}