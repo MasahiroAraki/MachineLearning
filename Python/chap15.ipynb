{
  "nbformat": 4,
  "nbformat_minor": 0,
  "metadata": {
    "colab": {
      "provenance": []
    },
    "language_info": {
      "codemirror_mode": {
        "name": "ipython",
        "version": 3
      },
      "file_extension": ".py",
      "mimetype": "text/x-python",
      "name": "python",
      "nbconvert_exporter": "python",
      "pygments_lexer": "ipython3",
      "version": "3.7.6-final"
    },
    "kernelspec": {
      "name": "python3",
      "display_name": "Python 3"
    }
  },
  "cells": [
    {
      "cell_type": "markdown",
      "metadata": {
        "id": "En6Sxgqeg_TR"
      },
      "source": [
        "<a href=\"https://colab.research.google.com/github/MasahiroAraki/MachineLearning/blob/master/Python/chap15.ipynb\" target=\"_parent\"><img src=\"https://colab.research.google.com/assets/colab-badge.svg\" alt=\"Open In Colab\"/></a>"
      ]
    },
    {
      "cell_type": "markdown",
      "metadata": {
        "id": "12nkNgPYm5ld"
      },
      "source": [
        "# 第15章 強化学習\n",
        "\n",
        "ここでは、強化学習アルゴリズムの勉強や開発のためのライブラリである [OpenAI Gym](https://gym.openai.com/)を使います。\n",
        "Google Colabで追加設定なして実行できる[Frozen lake](https://gym.openai.com/envs/FrozenLake-v0/)問題を対象とします。"
      ]
    },
    {
      "cell_type": "code",
      "source": [
        "!pip install gym[toy_text] gym[classic_control]"
      ],
      "metadata": {
        "colab": {
          "base_uri": "https://localhost:8080/"
        },
        "id": "PfHjZQfJTxrE",
        "outputId": "d774976e-d7b1-4533-e539-e5b99aec299a"
      },
      "execution_count": 1,
      "outputs": [
        {
          "output_type": "stream",
          "name": "stdout",
          "text": [
            "Requirement already satisfied: gym[toy_text] in /usr/local/lib/python3.10/dist-packages (0.25.2)\n",
            "Requirement already satisfied: numpy>=1.18.0 in /usr/local/lib/python3.10/dist-packages (from gym[toy_text]) (1.23.5)\n",
            "Requirement already satisfied: cloudpickle>=1.2.0 in /usr/local/lib/python3.10/dist-packages (from gym[toy_text]) (2.2.1)\n",
            "Requirement already satisfied: gym-notices>=0.0.4 in /usr/local/lib/python3.10/dist-packages (from gym[toy_text]) (0.0.8)\n",
            "Collecting pygame==2.1.0 (from gym[toy_text])\n",
            "  Downloading pygame-2.1.0-cp310-cp310-manylinux_2_17_x86_64.manylinux2014_x86_64.whl (18.3 MB)\n",
            "\u001b[2K     \u001b[90m━━━━━━━━━━━━━━━━━━━━━━━━━━━━━━━━━━━━━━━━\u001b[0m \u001b[32m18.3/18.3 MB\u001b[0m \u001b[31m40.1 MB/s\u001b[0m eta \u001b[36m0:00:00\u001b[0m\n",
            "\u001b[?25hInstalling collected packages: pygame\n",
            "  Attempting uninstall: pygame\n",
            "    Found existing installation: pygame 2.5.2\n",
            "    Uninstalling pygame-2.5.2:\n",
            "      Successfully uninstalled pygame-2.5.2\n",
            "Successfully installed pygame-2.1.0\n"
          ]
        }
      ]
    },
    {
      "cell_type": "markdown",
      "metadata": {
        "id": "4_JwInZr-npx"
      },
      "source": [
        "Frozen lakeは凍っている湖面上で、初期状態から出発してゴールを目指す設定です。可能な行為は上下左右の移動（'Left': 0, 'Down': 1, 'Right': 2, 'Up': 3）ですが、湖面が滑るため、確率的に意図した行為と異なる方向に移動してしまいます。ここでは、問題を簡単にするために、滑らない設定（状態遷移が決定的）から始めます。\n",
        "\n",
        "環境は4×4のタイル状で与えられます。文字はそれぞれのタイルの定義です。\n",
        "\n",
        "* S: 初期状態\n",
        "* F: 凍っている湖面（歩行可能）\n",
        "* H: 穴\n",
        "* G: ゴール\n",
        "* 色つきの□: プレイヤーの現在地（開始時はSと重なっている）"
      ]
    },
    {
      "cell_type": "code",
      "metadata": {
        "id": "GWi72ytlNuu1",
        "colab": {
          "base_uri": "https://localhost:8080/"
        },
        "outputId": "a7b000be-6ee7-447a-cecc-f9a579a9027f"
      },
      "source": [
        "import gym\n",
        "env = gym.make('FrozenLake-v1', new_step_api=True, render_mode='ansi', is_slippery=False) #滑らない設定\n",
        "env.reset()\n",
        "print(env.render()[0]) #現在の環境を表示"
      ],
      "execution_count": 2,
      "outputs": [
        {
          "output_type": "stream",
          "name": "stdout",
          "text": [
            "\n",
            "\u001b[41mS\u001b[0mFFF\n",
            "FHFH\n",
            "FFFH\n",
            "HFFG\n",
            "\n"
          ]
        }
      ]
    },
    {
      "cell_type": "markdown",
      "metadata": {
        "id": "wxjahr3_GzYi"
      },
      "source": [
        "実行可能な行為数と状態数を確認します。"
      ]
    },
    {
      "cell_type": "code",
      "metadata": {
        "id": "sDNG47BcNu3M",
        "colab": {
          "base_uri": "https://localhost:8080/"
        },
        "outputId": "dfd3dc40-6aa7-4ae1-ef0e-bfd96c36bb3b"
      },
      "source": [
        "N_ACT = env.action_space.n\n",
        "print(\"Action space: \", N_ACT)"
      ],
      "execution_count": 3,
      "outputs": [
        {
          "output_type": "stream",
          "name": "stdout",
          "text": [
            "Action space:  4\n"
          ]
        },
        {
          "output_type": "stream",
          "name": "stderr",
          "text": [
            "/usr/local/lib/python3.10/dist-packages/ipykernel/ipkernel.py:283: DeprecationWarning: `should_run_async` will not call `transform_cell` automatically in the future. Please pass the result to `transformed_cell` argument and any exception that happen during thetransform in `preprocessing_exc_tuple` in IPython 7.17 and above.\n",
            "  and should_run_async(code)\n"
          ]
        }
      ]
    },
    {
      "cell_type": "code",
      "metadata": {
        "id": "Ztle-tRGNu_d",
        "colab": {
          "base_uri": "https://localhost:8080/"
        },
        "outputId": "53a6a18a-a27e-4ff5-bbbf-e87d9bd6d14f"
      },
      "source": [
        "N_OBS = env.observation_space.n\n",
        "print(\"Observation space: \", N_OBS)"
      ],
      "execution_count": 4,
      "outputs": [
        {
          "output_type": "stream",
          "name": "stdout",
          "text": [
            "Observation space:  16\n"
          ]
        }
      ]
    },
    {
      "cell_type": "markdown",
      "metadata": {
        "id": "jI6Q5FX_HWRc"
      },
      "source": [
        "ランダムに10step (ゴールに着いたり穴に落ちたりしたら終了)動かしてみます。このセルを何度か実行してみて、ランダムな動きではなかなかゴールに着かないことを確認してください。"
      ]
    },
    {
      "cell_type": "code",
      "metadata": {
        "id": "3XEt7sC7CV3m",
        "colab": {
          "base_uri": "https://localhost:8080/"
        },
        "outputId": "a35ca13b-5cd5-4a6d-d73a-0bc56ee3da38"
      },
      "source": [
        "MAX_ITERATIONS = 10\n",
        "\n",
        "env.reset()\n",
        "print(env.render()[0])\n",
        "for i in range(MAX_ITERATIONS):\n",
        "    random_action = env.action_space.sample()  #ランダムに行為を選んで\n",
        "    new_state, reward, terminated, truncated, info = env.step(random_action)  #現在の環境で実行\n",
        "    done = terminated or truncated\n",
        "    print(env.render()[0])\n",
        "    if done:\n",
        "        break"
      ],
      "execution_count": 5,
      "outputs": [
        {
          "output_type": "stream",
          "name": "stdout",
          "text": [
            "\n",
            "\u001b[41mS\u001b[0mFFF\n",
            "FHFH\n",
            "FFFH\n",
            "HFFG\n",
            "\n",
            "  (Down)\n",
            "SFFF\n",
            "\u001b[41mF\u001b[0mHFH\n",
            "FFFH\n",
            "HFFG\n",
            "\n",
            "  (Down)\n",
            "SFFF\n",
            "FHFH\n",
            "\u001b[41mF\u001b[0mFFH\n",
            "HFFG\n",
            "\n",
            "  (Left)\n",
            "SFFF\n",
            "FHFH\n",
            "\u001b[41mF\u001b[0mFFH\n",
            "HFFG\n",
            "\n",
            "  (Right)\n",
            "SFFF\n",
            "FHFH\n",
            "F\u001b[41mF\u001b[0mFH\n",
            "HFFG\n",
            "\n",
            "  (Right)\n",
            "SFFF\n",
            "FHFH\n",
            "FF\u001b[41mF\u001b[0mH\n",
            "HFFG\n",
            "\n",
            "  (Right)\n",
            "SFFF\n",
            "FHFH\n",
            "FFF\u001b[41mH\u001b[0m\n",
            "HFFG\n",
            "\n"
          ]
        }
      ]
    },
    {
      "cell_type": "markdown",
      "metadata": {
        "id": "pmxaecZ9Xp0v"
      },
      "source": [
        "TD法によるモデルフリー学習を試してみます。epsilonは行為選択におけるε-greedy法のパラメータ、gammaは将来報酬の割引率、etaはTD法の学習率です。"
      ]
    },
    {
      "cell_type": "code",
      "metadata": {
        "id": "cL8LxU4OCWdo",
        "colab": {
          "base_uri": "https://localhost:8080/",
          "height": 430
        },
        "outputId": "e1bd293e-29d9-4fd6-d27a-0a72e7466878"
      },
      "source": [
        "import numpy as np\n",
        "import matplotlib.pylab as plt\n",
        "\n",
        "q = np.zeros([N_OBS, N_ACT]) #Q値を0で初期化\n",
        "\n",
        "#学習時のハイパーパラメータ\n",
        "EPOCKS = 1000\n",
        "MAX_ITERATIONS = 100\n",
        "epsilon = 0.3\n",
        "gamma = 0.9\n",
        "eta = 0.9\n",
        "\n",
        "rewards = np.zeros(EPOCKS) #各エポックでの報酬を記録するarray\n",
        "\n",
        "for epoch in range(EPOCKS):\n",
        "    obs = env.reset()\n",
        "    done = False\n",
        "    for step in range(MAX_ITERATIONS):\n",
        "        act = np.argmax(q[obs, :]) #Q値が最大となる行為を求める\n",
        "        act = np.random.choice(np.where(q[obs, :] == q[obs, act])[0]) #同じ値となるものがあれば、その中からランダムで選択\n",
        "        if np.random.rand() <= epsilon: #確率epsilonでランダムに行為を選択\n",
        "            act = env.action_space.sample()\n",
        "        next_obs, reward, terminated, truncated, info = env.step(act) #行為を実行\n",
        "        done = terminated or truncated\n",
        "        if not done: #最終状態（GまたはH）ではないか？\n",
        "            q[obs, act] += eta * (reward - q[obs, act] + gamma * np.max(q[next_obs, :])) #TD法\n",
        "        else:\n",
        "            q[obs, act] += eta * (reward - q[obs, act])\n",
        "        obs = next_obs\n",
        "        rewards[epoch] = reward\n",
        "        if done:\n",
        "            break\n",
        "\n",
        "rates = np.average(rewards.reshape([EPOCKS//100, 100]), axis = 1) #100エポック毎の報酬の平均値を求める\n",
        "plt.plot(rates)\n",
        "plt.show()"
      ],
      "execution_count": 6,
      "outputs": [
        {
          "output_type": "display_data",
          "data": {
            "text/plain": [
              "<Figure size 640x480 with 1 Axes>"
            ],
            "image/png": "[encoded data removed]"
          },
          "metadata": {}
        }
      ]
    },
    {
      "cell_type": "markdown",
      "metadata": {
        "id": "-hYcnIR9fwC_"
      },
      "source": [
        "## 練習問題\n",
        "\n",
        "1. 報酬の平均値は学習の進行に伴って上がってはいますが、かなり不安定です。学習時のハイパーパラメータを変更して、安定的に学習ができるようにしてください。\n",
        "\n",
        "2. コードの冒頭（import文の後）で `env = gym.make('FrozenLake-v0')` のように滑る設定にした上で、学習時のハイパーパラメータを調整してうまく学習できるようにしてください。\n"
      ]
    },
    {
      "cell_type": "markdown",
      "source": [
        "### 解答例"
      ],
      "metadata": {
        "id": "DvlM364IrIkc"
      }
    },
    {
      "cell_type": "markdown",
      "source": [
        "#### 練習問題1"
      ],
      "metadata": {
        "id": "ERYmKLpMrLuH"
      }
    },
    {
      "cell_type": "code",
      "source": [
        "import numpy as np\n",
        "import matplotlib.pylab as plt\n",
        "import gym\n",
        "\n",
        "env = gym.make('FrozenLake-v1', new_step_api=True, render_mode='ansi', is_slippery=False) #滑らない設定\n",
        "env.reset()\n",
        "N_ACT = env.action_space.n\n",
        "N_OBS = env.observation_space.n\n",
        "\n",
        "q = np.zeros([N_OBS, N_ACT]) #Q値を0で初期化\n",
        "\n",
        "#学習時のハイパーパラメータ\n",
        "EPOCKS = 1000\n",
        "MAX_ITERATIONS = 100\n",
        "epsilon = 0.01 #0.3から変更\n",
        "gamma = 0.9\n",
        "eta = 0.9\n",
        "\n",
        "rewards = np.zeros(EPOCKS) #各エポックでの報酬を記録するarray\n",
        "\n",
        "for epoch in range(EPOCKS):\n",
        "    obs = env.reset()\n",
        "    done = False\n",
        "    for step in range(MAX_ITERATIONS):\n",
        "        act = np.argmax(q[obs, :]) #Q値が最大となる行為を求める\n",
        "        act = np.random.choice(np.where(q[obs, :] == q[obs, act])[0]) #同じ値となるものがあれば、その中からランダムで選択\n",
        "        if np.random.rand() <= epsilon: #確率epsilonでランダムに行為を選択\n",
        "            act = env.action_space.sample()\n",
        "        next_obs, reward, terminated, truncated, info = env.step(act) #行為を実行\n",
        "        done = terminated or truncated\n",
        "        if not done: #最終状態（GまたはH）ではないか？\n",
        "            q[obs, act] += eta * (reward - q[obs, act] + gamma * np.max(q[next_obs, :])) #TD法\n",
        "        else:\n",
        "            q[obs, act] += eta * (reward - q[obs, act])\n",
        "        obs = next_obs\n",
        "        rewards[epoch] = reward\n",
        "        if done:\n",
        "            break\n",
        "\n",
        "rates = np.average(rewards.reshape([EPOCKS//100, 100]), axis = 1) #100エポック毎の報酬の平均値を求める\n",
        "plt.plot(rates)\n",
        "plt.show()"
      ],
      "metadata": {
        "id": "3BbknMESrKbv",
        "colab": {
          "base_uri": "https://localhost:8080/",
          "height": 430
        },
        "outputId": "ea9f8d29-df0e-4af4-c86b-7424b5256fe4"
      },
      "execution_count": 7,
      "outputs": [
        {
          "output_type": "display_data",
          "data": {
            "text/plain": [
              "<Figure size 640x480 with 1 Axes>"
            ],
            "image/png": "[encoded data removed]"
          },
          "metadata": {}
        }
      ]
    },
    {
      "cell_type": "markdown",
      "source": [
        "上記のようにepsilonの値を小さくします。無駄な探索が減って、報酬が安定します。"
      ],
      "metadata": {
        "id": "qgBMkJ-ArTWM"
      }
    },
    {
      "cell_type": "markdown",
      "source": [
        "#### 練習問題2"
      ],
      "metadata": {
        "id": "pvGhBktSrYNP"
      }
    },
    {
      "cell_type": "code",
      "source": [
        "import numpy as np\n",
        "import matplotlib.pylab as plt\n",
        "import gym\n",
        "\n",
        "env = gym.make('FrozenLake-v1', new_step_api=True, render_mode='ansi', is_slippery=True) #滑る設定\n",
        "N_ACT = env.action_space.n\n",
        "N_OBS = env.observation_space.n\n",
        "\n",
        "q = np.zeros([N_OBS, N_ACT]) #Q値を0で初期化\n",
        "\n",
        "#学習時のハイパーパラメータ\n",
        "EPOCKS = 10000\n",
        "MAX_ITERATIONS = 100\n",
        "epsilon = 0.01\n",
        "gamma = 0.9\n",
        "eta = 0.5\n",
        "\n",
        "rewards = np.zeros(EPOCKS) #各エポックでの報酬を記録するarray\n",
        "\n",
        "for epoch in range(EPOCKS):\n",
        "    obs = env.reset()\n",
        "    done = False\n",
        "    for step in range(MAX_ITERATIONS):\n",
        "        act = np.argmax(q[obs, :]) #Q値が最大となる行為を求める\n",
        "        act = np.random.choice(np.where(q[obs, :] == q[obs, act])[0]) #同じ値となるものがあれば、その中からランダムで選択\n",
        "        if np.random.rand() <= epsilon: #確率epsilonでランダムに行為を選択\n",
        "            act = env.action_space.sample()\n",
        "        next_obs, reward, terminated, truncated, info = env.step(act) #行為を実行\n",
        "        done = terminated or truncated\n",
        "        if not done: #最終状態（GまたはH）ではないか？\n",
        "            q[obs, act] += eta * (reward - q[obs, act] + gamma * np.max(q[next_obs, :])) #TD法\n",
        "        else:\n",
        "            q[obs, act] += eta * (reward - q[obs, act])\n",
        "        obs = next_obs\n",
        "        rewards[epoch] = reward\n",
        "        if done:\n",
        "            break\n",
        "\n",
        "rates = np.average(rewards.reshape([EPOCKS//100, 100]), axis = 1) #100エポック毎の報酬の平均値を求める\n",
        "plt.plot(rates)\n",
        "plt.show()"
      ],
      "metadata": {
        "id": "Auxfml3QrV-H",
        "colab": {
          "base_uri": "https://localhost:8080/",
          "height": 430
        },
        "outputId": "58d077f0-6f85-41b7-ca2a-84bdb2a6e446"
      },
      "execution_count": 8,
      "outputs": [
        {
          "output_type": "display_data",
          "data": {
            "text/plain": [
              "<Figure size 640x480 with 1 Axes>"
            ],
            "image/png": "[encoded data removed]"
          },
          "metadata": {}
        }
      ]
    },
    {
      "cell_type": "markdown",
      "source": [
        "問題が難しくなっているのでエポック数を増やします。また、負の報酬が得られやすくなっているので、学習係数をやや低めにすると、平均報酬で0.5程度が実現できます。"
      ],
      "metadata": {
        "id": "xRYeluxSr2u1"
      }
    }
  ]
}